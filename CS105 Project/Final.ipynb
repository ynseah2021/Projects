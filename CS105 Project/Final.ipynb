{
 "cells": [
  {
   "cell_type": "markdown",
   "metadata": {
    "cell_id": "c6ed2b09-fd03-40ac-9285-6b8ce080f798",
    "deepnote_cell_height": 112.78125,
    "deepnote_cell_type": "markdown"
   },
   "source": [
    "<div class=\"alert alert-block alert-info\">\n",
    "Singapore Management University<br>\n",
    "CS105 Statistical Thinking for Data Science, 2021/22 Term 2\n",
    "</div>"
   ]
  },
  {
   "cell_type": "markdown",
   "metadata": {
    "cell_id": "00001-248133e7-d748-4cfc-8e88-97b1f39b0887",
    "colab_type": "text",
    "deepnote_cell_height": 134,
    "deepnote_cell_type": "markdown",
    "id": "zYBbWb-0Kc6H"
   },
   "source": [
    "# CS105 Group Project Submission"
   ]
  },
  {
   "cell_type": "markdown",
   "metadata": {
    "cell_id": "00002-b948a675-c445-44c5-8e04-13b14778b32f",
    "deepnote_cell_height": 58.796875,
    "deepnote_cell_type": "markdown"
   },
   "source": [
    "<font color=red size=4>\n",
    "    Score:95%\n",
    "</font>"
   ]
  },
  {
   "cell_type": "markdown",
   "metadata": {
    "cell_id": "00003-a2e5f718-a719-4d45-8acb-3373b22b6a71",
    "deepnote_cell_height": 511,
    "deepnote_cell_type": "markdown"
   },
   "source": [
    "-----\n",
    "<img src=\"attachment:info.png\" width=\"60\" align=\"left\"/>Provide your team details, including section, team number, team members, and the name of the dataset. \n",
    "Complete all of the following sections. For any part requiring code to derive your answers, please create a code cell immediately below your response and run the code.\n",
    "To edit any markdown cell, double click the cell; after editing, execute the markdown cell to collapse it.\n",
    "<br>\n",
    "-----"
   ]
  },
  {
   "cell_type": "markdown",
   "metadata": {
    "cell_id": "00004-7f23c82b-a6bf-4478-9cb5-1cadfccb0fc2",
    "deepnote_cell_height": 296.5625,
    "deepnote_cell_type": "markdown"
   },
   "source": [
    "#### Section: G3\n",
    "#### Team: 8\n",
    "#### Members:\n",
    "1. Ng Zhi Hui Gerald\n",
    "2. Su Liheng Benjamin\n",
    "3. Seah Yi Niang\n",
    "4. Tan Yao Long\n",
    "\n",
    "#### Dataset: Housing Dataset"
   ]
  },
  {
   "cell_type": "markdown",
   "metadata": {
    "cell_id": "00005-3f46d5e3-ec67-4eb9-9889-92b1774b662f",
    "deepnote_cell_height": 110,
    "deepnote_cell_type": "markdown"
   },
   "source": [
    "## Part I: Exploratory Data Analysis (EDA) [8% of final grade]"
   ]
  },
  {
   "cell_type": "markdown",
   "metadata": {
    "cell_id": "00006-05e6bb06-74fb-47a4-939a-6ba33ef2a3a9",
    "deepnote_cell_height": 62,
    "deepnote_cell_type": "markdown"
   },
   "source": [
    "### 1. Overview of dataset [15% of Part I]"
   ]
  },
  {
   "cell_type": "markdown",
   "metadata": {
    "cell_id": "00007-14d1accc-2705-435f-8692-7bd440cae096",
    "deepnote_cell_height": 52.390625,
    "deepnote_cell_type": "markdown"
   },
   "source": [
    "**a.** Summarise the background of the dataset [limited to 50 words]"
   ]
  },
  {
   "cell_type": "markdown",
   "metadata": {
    "cell_id": "00008-fbf4c476-9614-4400-a915-eb536bc59e68",
    "deepnote_cell_height": 119.5625,
    "deepnote_cell_type": "markdown"
   },
   "source": [
    "The dataset contains data from a census survey with regards to housing in a region. Various metrics that possibly impact housing prices are reflected within the dataset, such as crime rates, pollution levels and household income level among other metrics."
   ]
  },
  {
   "cell_type": "markdown",
   "metadata": {
    "cell_id": "00009-310f3f9a-49cf-40d5-b795-f8ec60f342f8",
    "deepnote_cell_height": 55.59375,
    "deepnote_cell_type": "markdown"
   },
   "source": [
    "<font color = red size = 3>\n",
    "   [1a] 3%\n",
    "</font>"
   ]
  },
  {
   "cell_type": "markdown",
   "metadata": {
    "cell_id": "00010-2c6781b5-8df8-478b-a674-4bde63aaa946",
    "deepnote_cell_height": 52.390625,
    "deepnote_cell_type": "markdown"
   },
   "source": [
    "**b.** State the size of the dataset"
   ]
  },
  {
   "cell_type": "code",
   "execution_count": null,
   "metadata": {
    "cell_id": "884912330ea742299b171771f0cf4919",
    "deepnote_cell_height": 294.375,
    "deepnote_cell_type": "code",
    "deepnote_to_be_reexecuted": false,
    "execution_millis": 1562,
    "execution_start": 1650118155343,
    "source_hash": "7c9e239a",
    "tags": []
   },
   "outputs": [
    {
     "name": "stdout",
     "output_type": "stream",
     "text": [
      "Number of rows:  506\n",
      "Number of columns:  14\n"
     ]
    }
   ],
   "source": [
    "import numpy as np\n",
    "import pandas as pd\n",
    "import matplotlib.pyplot as plt\n",
    "\n",
    "df = pd.read_csv('housing.csv')\n",
    "\n",
    "row_count, column_count = df.shape\n",
    "\n",
    "print(\"Number of rows: \", row_count)\n",
    "print(\"Number of columns: \", column_count)"
   ]
  },
  {
   "cell_type": "markdown",
   "metadata": {
    "cell_id": "00011-3ae8caa0-8023-4ca6-90ae-4bba5e96269f",
    "deepnote_cell_height": 52.390625,
    "deepnote_cell_type": "markdown"
   },
   "source": [
    "The dataset contains 506 rows and 14 columns."
   ]
  },
  {
   "cell_type": "markdown",
   "metadata": {
    "cell_id": "00012-36773337-a364-4783-a8d0-bbf5fbeed386",
    "deepnote_cell_height": 69.59375,
    "deepnote_cell_type": "markdown"
   },
   "source": [
    "<font color = green\n",
    " size = 3>\n",
    "   [1b] 1%. Should show working\n",
    "</font>"
   ]
  },
  {
   "cell_type": "markdown",
   "metadata": {
    "cell_id": "00013-fb3dd14f-bfa6-439c-bd74-b462163de6e6",
    "deepnote_cell_height": 74.78125,
    "deepnote_cell_type": "markdown"
   },
   "source": [
    "**c.** For each variable, describe what it represents and its data type (numerical or categorical)"
   ]
  },
  {
   "cell_type": "markdown",
   "metadata": {
    "cell_id": "00014-a66ec700-4ee3-4716-801c-a7910578c33f",
    "deepnote_cell_height": 883.71875,
    "deepnote_cell_type": "markdown",
    "deepnote_to_be_reexecuted": false,
    "execution_millis": 5,
    "execution_start": 1648605719213,
    "source_hash": "9cc89cd3"
   },
   "source": [
    "ID represents the identification number of a town and is of categorical data type.\n",
    "\n",
    "Crime_Rate represents the crime rate per capita in the town and is of categorical data type. Crime_Rate can take the value: \"High\", \"Moderate\", \"Low\".\n",
    "\n",
    "Residential_Area represents the proportion of residential area in the town and is of categorical data type. Residential_Area can take the value: \"Very High\", \"High\", \"Moderate\", \"Low\", \"Very Low\".\n",
    "\n",
    "Non_Retail represents the percentage of business areas used for non-retail and is of numerical data type. \n",
    "\n",
    "River represents whether the town is near a bridge and is of cetegorical data type. River can take the value: \"Near\", \"Far\".\n",
    "\n",
    "Pollutants represents the concentration of pollutants in parts per 10 million and is of numerical data type. \n",
    "\n",
    "Rooms represent the number of rooms per unit and is of numerical data type. \n",
    "\n",
    "Old_Housing represents the percentage of units built before second world war and is of numerical data type. \n",
    "\n",
    "Distance_Office represents the weighted distance of the town to major office areas and is of numerical data type. \n",
    "\n",
    "Highway_Access representst he accessibility of the town to major highways and is of categorical data type. Highway_Access can take the value: \"High\", \"Moderate\", \"Low\".\n",
    "\n",
    "Tax_Rate refers to the property tax rate per $10,000 and is of numerical data type. \n",
    "\n",
    "Student_Teacher_Ratio refers to the student to teacher ratio and is of numerical data type. \n",
    "\n",
    "Low_Income represents the percentage of low income households in the town and is of numerical data type. \n",
    "\n",
    "Price represents the median price of homes in $1000s and is of numerical data type."
   ]
  },
  {
   "cell_type": "markdown",
   "metadata": {
    "cell_id": "00015-3be87c58-e758-4663-8282-e0d5abbae7bf",
    "deepnote_cell_height": 81.1875,
    "deepnote_cell_type": "markdown"
   },
   "source": [
    "<font color = green size = 3>\n",
    "   [1c] 9%. Should indicate the possible values for the categorical variables\n",
    "</font>"
   ]
  },
  {
   "cell_type": "markdown",
   "metadata": {
    "cell_id": "00016-bbf92499-8b5d-4fce-81f7-d041a2d82ba6",
    "deepnote_cell_height": 62,
    "deepnote_cell_type": "markdown"
   },
   "source": [
    "### 2. Data pre-processing [35% of Part I]"
   ]
  },
  {
   "cell_type": "markdown",
   "metadata": {
    "cell_id": "00017-edea1f10-9fdd-4eb0-ac21-749cdf728672",
    "deepnote_cell_height": 97.171875,
    "deepnote_cell_type": "markdown"
   },
   "source": [
    "**a.** For each variable, determine the percentage of missing data. For any column with missing data, describe how you resolve the issue. Clearly state any assumption you made."
   ]
  },
  {
   "cell_type": "code",
   "execution_count": null,
   "metadata": {
    "cell_id": "00018-718c9a1d-7e6d-4b8b-a7ca-e28eb6e30b2c",
    "deepnote_cell_height": 422.8125,
    "deepnote_cell_type": "code",
    "deepnote_output_heights": [
     289.8125
    ],
    "deepnote_to_be_reexecuted": false,
    "execution_millis": 16,
    "execution_start": 1650118156909,
    "source_hash": "972821c"
   },
   "outputs": [
    {
     "data": {
      "text/plain": [
       "ID                       488\n",
       "Crime_Rate               506\n",
       "Residential_Area         506\n",
       "Non_Retail               506\n",
       "River                    506\n",
       "Pollutants               506\n",
       "Rooms                    506\n",
       "Old_Housing              506\n",
       "Distance_Office          506\n",
       "Highway_Access           491\n",
       "Tax_Rate                 506\n",
       "Student_Teacher_Ratio    506\n",
       "Low_Income               506\n",
       "Price                    506\n",
       "dtype: int64"
      ]
     },
     "execution_count": 2,
     "metadata": {},
     "output_type": "execute_result"
    }
   ],
   "source": [
    "# identify columns in empty fields\n",
    "df = pd.read_csv('housing.csv')\n",
    "df.count()"
   ]
  },
  {
   "cell_type": "code",
   "execution_count": null,
   "metadata": {
    "cell_id": "00019-90d13a83-41e5-4e99-be71-a72e4bf76f9a",
    "deepnote_cell_height": 440.8125,
    "deepnote_cell_type": "code",
    "deepnote_output_heights": [
     289.8125
    ],
    "deepnote_to_be_reexecuted": false,
    "execution_millis": 7,
    "execution_start": 1650118156963,
    "source_hash": "3d044d8b"
   },
   "outputs": [
    {
     "data": {
      "text/plain": [
       "ID                       0.964427\n",
       "Crime_Rate               1.000000\n",
       "Residential_Area         1.000000\n",
       "Non_Retail               1.000000\n",
       "River                    1.000000\n",
       "Pollutants               1.000000\n",
       "Rooms                    1.000000\n",
       "Old_Housing              1.000000\n",
       "Distance_Office          1.000000\n",
       "Highway_Access           0.970356\n",
       "Tax_Rate                 1.000000\n",
       "Student_Teacher_Ratio    1.000000\n",
       "Low_Income               1.000000\n",
       "Price                    1.000000\n",
       "dtype: float64"
      ]
     },
     "execution_count": 3,
     "metadata": {},
     "output_type": "execute_result"
    }
   ],
   "source": [
    "# there are empty fields within the \"ID\" and \"Highway_Access\" cols (since count < 506)\n",
    "# find modal value of Highway_Access col \n",
    "n_rows, n_cols = df.shape \n",
    "df.count()/n_rows"
   ]
  },
  {
   "cell_type": "markdown",
   "metadata": {
    "cell_id": "e56a8e13ae0b4b0d852c4a4eee695e0b",
    "deepnote_cell_height": 74.78125,
    "deepnote_cell_type": "markdown",
    "tags": []
   },
   "source": [
    "Highway_Access has less than 10% of missing data and since Highway_Access is a categorical variable, we would impute with mode."
   ]
  },
  {
   "cell_type": "code",
   "execution_count": null,
   "metadata": {
    "cell_id": "00020-e3c8167d-1ce7-407d-b58b-cca621e9c80e",
    "deepnote_cell_height": 458.8125,
    "deepnote_cell_type": "code",
    "deepnote_output_heights": [
     289.8125
    ],
    "deepnote_to_be_reexecuted": false,
    "execution_millis": 6,
    "execution_start": 1650118156964,
    "source_hash": "a5d9a958"
   },
   "outputs": [
    {
     "data": {
      "text/plain": [
       "ID                       488\n",
       "Crime_Rate               506\n",
       "Residential_Area         506\n",
       "Non_Retail               506\n",
       "River                    506\n",
       "Pollutants               506\n",
       "Rooms                    506\n",
       "Old_Housing              506\n",
       "Distance_Office          506\n",
       "Highway_Access           506\n",
       "Tax_Rate                 506\n",
       "Student_Teacher_Ratio    506\n",
       "Low_Income               506\n",
       "Price                    506\n",
       "dtype: int64"
      ]
     },
     "execution_count": 4,
     "metadata": {},
     "output_type": "execute_result"
    }
   ],
   "source": [
    "# modal value of Highway_Access col is \"Moderate\"\n",
    "# impute the the empty fields in \"Highway_Access\" columns with \"Moderate\"\n",
    "highway_access_mode = df.Highway_Access.mode()[0]\n",
    "df.Highway_Access.fillna(highway_access_mode, inplace=True)\n",
    "df.count()"
   ]
  },
  {
   "cell_type": "markdown",
   "metadata": {
    "cell_id": "00021-af2b7d51-50ea-4c04-bbbe-9db8e7c31b5c",
    "deepnote_cell_height": 55.59375,
    "deepnote_cell_type": "markdown"
   },
   "source": [
    "<font color = green size = 3>\n",
    "   What is the rationale for imputing with mode?\n",
    "</font>"
   ]
  },
  {
   "cell_type": "markdown",
   "metadata": {
    "cell_id": "e7e6765254e44752a8b0c486d0ed638f",
    "deepnote_cell_height": 74.78125,
    "deepnote_cell_type": "markdown",
    "tags": []
   },
   "source": [
    "We decided to drop the column \"ID\" because \"ID\" does not have any predictive power."
   ]
  },
  {
   "cell_type": "code",
   "execution_count": null,
   "metadata": {
    "cell_id": "00023-73d33b26-8b02-4183-87bb-da307aca12e9",
    "deepnote_cell_height": 403.625,
    "deepnote_cell_type": "code",
    "deepnote_output_heights": [
     270.625
    ],
    "deepnote_to_be_reexecuted": false,
    "execution_millis": 10,
    "execution_start": 1650118156965,
    "source_hash": "d20e9199"
   },
   "outputs": [
    {
     "data": {
      "text/plain": [
       "Crime_Rate               506\n",
       "Residential_Area         506\n",
       "Non_Retail               506\n",
       "River                    506\n",
       "Pollutants               506\n",
       "Rooms                    506\n",
       "Old_Housing              506\n",
       "Distance_Office          506\n",
       "Highway_Access           506\n",
       "Tax_Rate                 506\n",
       "Student_Teacher_Ratio    506\n",
       "Low_Income               506\n",
       "Price                    506\n",
       "dtype: int64"
      ]
     },
     "execution_count": 5,
     "metadata": {},
     "output_type": "execute_result"
    }
   ],
   "source": [
    "#df.dropna(inplace=True)\n",
    "df.drop(columns=[\"ID\"], inplace=True)\n",
    "df.count()"
   ]
  },
  {
   "cell_type": "markdown",
   "metadata": {
    "cell_id": "00024-b1cfe74b-e5fc-4ef8-8263-892a2b77eefe",
    "deepnote_cell_height": 81.1875,
    "deepnote_cell_type": "markdown"
   },
   "source": [
    "<font color = green size = 3>\n",
    "   Another possible approach is to just drop ID column altogether since ID has no predictive power.\n",
    "</font>"
   ]
  },
  {
   "cell_type": "markdown",
   "metadata": {
    "cell_id": "00025-e0458e81-c927-4015-9db8-92bcd1cf0213",
    "deepnote_cell_height": 55.59375,
    "deepnote_cell_type": "markdown"
   },
   "source": [
    "<font color = red size = 3>\n",
    "   [2a] 15%\n",
    "</font>"
   ]
  },
  {
   "cell_type": "markdown",
   "metadata": {
    "cell_id": "00026-59a01d3e-ea45-4ed2-bc2e-5a442a99429d",
    "deepnote_cell_height": 74.78125,
    "deepnote_cell_type": "markdown"
   },
   "source": [
    "**b.** For each variable, identify outliers (if any) and describe how you resolve the issue. Clearly state any assumption you made."
   ]
  },
  {
   "cell_type": "code",
   "execution_count": null,
   "metadata": {
    "cell_id": "00027-4c604e50-848d-409f-8b34-fe049306444f",
    "deepnote_cell_height": 589,
    "deepnote_cell_type": "code",
    "deepnote_to_be_reexecuted": false,
    "execution_millis": 66,
    "execution_start": 1650118156974,
    "scrolled": true,
    "source_hash": "a13fd8b6"
   },
   "outputs": [
    {
     "data": {
      "application/vnd.deepnote.dataframe.v3+json": {
       "column_count": 9,
       "columns": [
        {
         "dtype": "float64",
         "name": "Student_Teacher_Ratio",
         "stats": {
          "histogram": [
           {
            "bin_end": 61.94,
            "bin_start": 12.6,
            "count": 6
           },
           {
            "bin_end": 111.27999999999999,
            "bin_start": 61.94,
            "count": 0
           },
           {
            "bin_end": 160.61999999999998,
            "bin_start": 111.27999999999999,
            "count": 0
           },
           {
            "bin_end": 209.95999999999998,
            "bin_start": 160.61999999999998,
            "count": 1
           },
           {
            "bin_end": 259.3,
            "bin_start": 209.95999999999998,
            "count": 0
           },
           {
            "bin_end": 308.64,
            "bin_start": 259.3,
            "count": 0
           },
           {
            "bin_end": 357.98,
            "bin_start": 308.64,
            "count": 0
           },
           {
            "bin_end": 407.32,
            "bin_start": 357.98,
            "count": 0
           },
           {
            "bin_end": 456.65999999999997,
            "bin_start": 407.32,
            "count": 0
           },
           {
            "bin_end": 506,
            "bin_start": 456.65999999999997,
            "count": 1
           }
          ],
          "max": "506.0",
          "min": "12.6",
          "nan_count": 0,
          "unique_count": 8
         }
        },
        {
         "dtype": "float64",
         "name": "Low_Income",
         "stats": {
          "histogram": [
           {
            "bin_end": 52.157,
            "bin_start": 1.73,
            "count": 6
           },
           {
            "bin_end": 102.584,
            "bin_start": 52.157,
            "count": 1
           },
           {
            "bin_end": 153.011,
            "bin_start": 102.584,
            "count": 0
           },
           {
            "bin_end": 203.438,
            "bin_start": 153.011,
            "count": 0
           },
           {
            "bin_end": 253.86499999999998,
            "bin_start": 203.438,
            "count": 0
           },
           {
            "bin_end": 304.29200000000003,
            "bin_start": 253.86499999999998,
            "count": 0
           },
           {
            "bin_end": 354.719,
            "bin_start": 304.29200000000003,
            "count": 0
           },
           {
            "bin_end": 405.146,
            "bin_start": 354.719,
            "count": 0
           },
           {
            "bin_end": 455.57300000000004,
            "bin_start": 405.146,
            "count": 0
           },
           {
            "bin_end": 506,
            "bin_start": 455.57300000000004,
            "count": 1
           }
          ],
          "max": "506.0",
          "min": "1.73",
          "nan_count": 0,
          "unique_count": 8
         }
        },
        {
         "dtype": "float64",
         "name": "Price",
         "stats": {
          "histogram": [
           {
            "bin_end": 55.1,
            "bin_start": 5,
            "count": 7
           },
           {
            "bin_end": 105.2,
            "bin_start": 55.1,
            "count": 0
           },
           {
            "bin_end": 155.3,
            "bin_start": 105.2,
            "count": 0
           },
           {
            "bin_end": 205.4,
            "bin_start": 155.3,
            "count": 0
           },
           {
            "bin_end": 255.5,
            "bin_start": 205.4,
            "count": 0
           },
           {
            "bin_end": 305.6,
            "bin_start": 255.5,
            "count": 0
           },
           {
            "bin_end": 355.7,
            "bin_start": 305.6,
            "count": 0
           },
           {
            "bin_end": 405.8,
            "bin_start": 355.7,
            "count": 0
           },
           {
            "bin_end": 455.90000000000003,
            "bin_start": 405.8,
            "count": 0
           },
           {
            "bin_end": 506,
            "bin_start": 455.90000000000003,
            "count": 1
           }
          ],
          "max": "506.0",
          "min": "5.0",
          "nan_count": 0,
          "unique_count": 8
         }
        },
        {
         "dtype": "float64",
         "name": "Pollutants",
         "stats": {
          "histogram": [
           {
            "bin_end": 50.7042899081008,
            "bin_start": 0.11587767566755595,
            "count": 7
           },
           {
            "bin_end": 101.29270214053405,
            "bin_start": 50.7042899081008,
            "count": 0
           },
           {
            "bin_end": 151.88111437296726,
            "bin_start": 101.29270214053405,
            "count": 0
           },
           {
            "bin_end": 202.46952660540052,
            "bin_start": 151.88111437296726,
            "count": 0
           },
           {
            "bin_end": 253.05793883783377,
            "bin_start": 202.46952660540052,
            "count": 0
           },
           {
            "bin_end": 303.646351070267,
            "bin_start": 253.05793883783377,
            "count": 0
           },
           {
            "bin_end": 354.23476330270023,
            "bin_start": 303.646351070267,
            "count": 0
           },
           {
            "bin_end": 404.8231755351335,
            "bin_start": 354.23476330270023,
            "count": 0
           },
           {
            "bin_end": 455.41158776756674,
            "bin_start": 404.8231755351335,
            "count": 0
           },
           {
            "bin_end": 506,
            "bin_start": 455.41158776756674,
            "count": 1
           }
          ],
          "max": "506.0",
          "min": "0.11587767566755595",
          "nan_count": 0,
          "unique_count": 8
         }
        },
        {
         "dtype": "float64",
         "name": "Old_Housing",
         "stats": {
          "histogram": [
           {
            "bin_end": 53.21,
            "bin_start": 2.9,
            "count": 3
           },
           {
            "bin_end": 103.52000000000001,
            "bin_start": 53.21,
            "count": 4
           },
           {
            "bin_end": 153.83,
            "bin_start": 103.52000000000001,
            "count": 0
           },
           {
            "bin_end": 204.14000000000001,
            "bin_start": 153.83,
            "count": 0
           },
           {
            "bin_end": 254.45000000000002,
            "bin_start": 204.14000000000001,
            "count": 0
           },
           {
            "bin_end": 304.76,
            "bin_start": 254.45000000000002,
            "count": 0
           },
           {
            "bin_end": 355.07,
            "bin_start": 304.76,
            "count": 0
           },
           {
            "bin_end": 405.38,
            "bin_start": 355.07,
            "count": 0
           },
           {
            "bin_end": 455.69,
            "bin_start": 405.38,
            "count": 0
           },
           {
            "bin_end": 506,
            "bin_start": 455.69,
            "count": 1
           }
          ],
          "max": "506.0",
          "min": "2.9",
          "nan_count": 0,
          "unique_count": 8
         }
        },
        {
         "dtype": "float64",
         "name": "Tax_Rate",
         "stats": {
          "histogram": [
           {
            "bin_end": 222.78340444946312,
            "bin_start": 168.53711605495903,
            "count": 2
           },
           {
            "bin_end": 277.0296928439672,
            "bin_start": 222.78340444946312,
            "count": 0
           },
           {
            "bin_end": 331.27598123847133,
            "bin_start": 277.0296928439672,
            "count": 2
           },
           {
            "bin_end": 385.5222696329754,
            "bin_start": 331.27598123847133,
            "count": 0
           },
           {
            "bin_end": 439.7685580274795,
            "bin_start": 385.5222696329754,
            "count": 1
           },
           {
            "bin_end": 494.01484642198363,
            "bin_start": 439.7685580274795,
            "count": 0
           },
           {
            "bin_end": 548.2611348164877,
            "bin_start": 494.01484642198363,
            "count": 1
           },
           {
            "bin_end": 602.5074232109919,
            "bin_start": 548.2611348164877,
            "count": 0
           },
           {
            "bin_end": 656.7537116054959,
            "bin_start": 602.5074232109919,
            "count": 0
           },
           {
            "bin_end": 711,
            "bin_start": 656.7537116054959,
            "count": 2
           }
          ],
          "max": "711.0",
          "min": "168.53711605495903",
          "nan_count": 0,
          "unique_count": 8
         }
        },
        {
         "dtype": "float64",
         "name": "Distance_Office",
         "stats": {
          "histogram": [
           {
            "bin_end": 51.616640000000004,
            "bin_start": 1.1296,
            "count": 7
           },
           {
            "bin_end": 102.10368,
            "bin_start": 51.616640000000004,
            "count": 0
           },
           {
            "bin_end": 152.59072,
            "bin_start": 102.10368,
            "count": 0
           },
           {
            "bin_end": 203.07776,
            "bin_start": 152.59072,
            "count": 0
           },
           {
            "bin_end": 253.56480000000002,
            "bin_start": 203.07776,
            "count": 0
           },
           {
            "bin_end": 304.05183999999997,
            "bin_start": 253.56480000000002,
            "count": 0
           },
           {
            "bin_end": 354.53888,
            "bin_start": 304.05183999999997,
            "count": 0
           },
           {
            "bin_end": 405.02592,
            "bin_start": 354.53888,
            "count": 0
           },
           {
            "bin_end": 455.51295999999996,
            "bin_start": 405.02592,
            "count": 0
           },
           {
            "bin_end": 506,
            "bin_start": 455.51295999999996,
            "count": 1
           }
          ],
          "max": "506.0",
          "min": "1.1296",
          "nan_count": 0,
          "unique_count": 8
         }
        },
        {
         "dtype": "float64",
         "name": "Rooms",
         "stats": {
          "histogram": [
           {
            "bin_end": 64.16489999999999,
            "bin_start": 3.561,
            "count": 6
           },
           {
            "bin_end": 124.7688,
            "bin_start": 64.16489999999999,
            "count": 0
           },
           {
            "bin_end": 185.37269999999998,
            "bin_start": 124.7688,
            "count": 0
           },
           {
            "bin_end": 245.9766,
            "bin_start": 185.37269999999998,
            "count": 0
           },
           {
            "bin_end": 306.5805,
            "bin_start": 245.9766,
            "count": 0
           },
           {
            "bin_end": 367.1843999999999,
            "bin_start": 306.5805,
            "count": 0
           },
           {
            "bin_end": 427.78829999999994,
            "bin_start": 367.1843999999999,
            "count": 0
           },
           {
            "bin_end": 488.39219999999995,
            "bin_start": 427.78829999999994,
            "count": 0
           },
           {
            "bin_end": 548.9961,
            "bin_start": 488.39219999999995,
            "count": 1
           },
           {
            "bin_end": 609.6,
            "bin_start": 548.9961,
            "count": 1
           }
          ],
          "max": "609.6",
          "min": "3.561",
          "nan_count": 0,
          "unique_count": 8
         }
        },
        {
         "dtype": "float64",
         "name": "Non_Retail",
         "stats": {
          "histogram": [
           {
            "bin_end": 51.014,
            "bin_start": 0.46,
            "count": 7
           },
           {
            "bin_end": 101.568,
            "bin_start": 51.014,
            "count": 0
           },
           {
            "bin_end": 152.122,
            "bin_start": 101.568,
            "count": 0
           },
           {
            "bin_end": 202.67600000000002,
            "bin_start": 152.122,
            "count": 0
           },
           {
            "bin_end": 253.23000000000002,
            "bin_start": 202.67600000000002,
            "count": 0
           },
           {
            "bin_end": 303.784,
            "bin_start": 253.23000000000002,
            "count": 0
           },
           {
            "bin_end": 354.338,
            "bin_start": 303.784,
            "count": 0
           },
           {
            "bin_end": 404.892,
            "bin_start": 354.338,
            "count": 0
           },
           {
            "bin_end": 455.44599999999997,
            "bin_start": 404.892,
            "count": 0
           },
           {
            "bin_end": 506,
            "bin_start": 455.44599999999997,
            "count": 1
           }
          ],
          "max": "506.0",
          "min": "0.46",
          "nan_count": 0,
          "unique_count": 8
         }
        },
        {
         "dtype": "object",
         "name": "_deepnote_index_column"
        }
       ],
       "row_count": 8,
       "rows": [
        {
         "Distance_Office": 506,
         "Low_Income": 506,
         "Non_Retail": 506,
         "Old_Housing": 506,
         "Pollutants": 506,
         "Price": 506,
         "Rooms": 506,
         "Student_Teacher_Ratio": 506,
         "Tax_Rate": 506,
         "_deepnote_index_column": "count"
        },
        {
         "Distance_Office": 3.795042687747036,
         "Low_Income": 13.51411067193676,
         "Non_Retail": 11.13677865612648,
         "Old_Housing": 69.11047430830038,
         "Pollutants": 0.5546950592885376,
         "Price": 22.532806324110677,
         "Rooms": 11.002181818181818,
         "Student_Teacher_Ratio": 19.426679841897233,
         "Tax_Rate": 408.2371541501976,
         "_deepnote_index_column": "mean"
        },
        {
         "Distance_Office": 2.105710126627611,
         "Low_Income": 11.20662129683598,
         "Non_Retail": 6.860352940897585,
         "Old_Housing": 28.339547795960627,
         "Pollutants": 0.11587767566755595,
         "Price": 9.197104087379818,
         "Rooms": 51.744881508026936,
         "Student_Teacher_Ratio": 12.752781860925301,
         "Tax_Rate": 168.53711605495903,
         "_deepnote_index_column": "std"
        },
        {
         "Distance_Office": 1.1296,
         "Low_Income": 1.73,
         "Non_Retail": 0.46,
         "Old_Housing": 2.9,
         "Pollutants": 0.385,
         "Price": 5,
         "Rooms": 3.561,
         "Student_Teacher_Ratio": 12.6,
         "Tax_Rate": 187,
         "_deepnote_index_column": "min"
        },
        {
         "Distance_Office": 2.100175,
         "Low_Income": 7.0375,
         "Non_Retail": 5.19,
         "Old_Housing": 45.175,
         "Pollutants": 0.449,
         "Price": 17.025,
         "Rooms": 5.888,
         "Student_Teacher_Ratio": 17.4,
         "Tax_Rate": 279,
         "_deepnote_index_column": "25%"
        },
        {
         "Distance_Office": 3.2074499999999997,
         "Low_Income": 11.43,
         "Non_Retail": 9.69,
         "Old_Housing": 78.19999999999999,
         "Pollutants": 0.538,
         "Price": 21.2,
         "Rooms": 6.214,
         "Student_Teacher_Ratio": 19.1,
         "Tax_Rate": 330,
         "_deepnote_index_column": "50%"
        },
        {
         "Distance_Office": 5.1884250000000005,
         "Low_Income": 17.1175,
         "Non_Retail": 18.1,
         "Old_Housing": 94.57499999999999,
         "Pollutants": 0.624,
         "Price": 25,
         "Rooms": 6.634,
         "Student_Teacher_Ratio": 20.2,
         "Tax_Rate": 666,
         "_deepnote_index_column": "75%"
        },
        {
         "Distance_Office": 12.1265,
         "Low_Income": 100,
         "Non_Retail": 27.74,
         "Old_Housing": 102,
         "Pollutants": 0.871,
         "Price": 50,
         "Rooms": 609.6,
         "Student_Teacher_Ratio": 182,
         "Tax_Rate": 711,
         "_deepnote_index_column": "max"
        }
       ]
      },
      "text/html": [
       "<div>\n",
       "<style scoped>\n",
       "    .dataframe tbody tr th:only-of-type {\n",
       "        vertical-align: middle;\n",
       "    }\n",
       "\n",
       "    .dataframe tbody tr th {\n",
       "        vertical-align: top;\n",
       "    }\n",
       "\n",
       "    .dataframe thead th {\n",
       "        text-align: right;\n",
       "    }\n",
       "</style>\n",
       "<table border=\"1\" class=\"dataframe\">\n",
       "  <thead>\n",
       "    <tr style=\"text-align: right;\">\n",
       "      <th></th>\n",
       "      <th>Student_Teacher_Ratio</th>\n",
       "      <th>Low_Income</th>\n",
       "      <th>Price</th>\n",
       "      <th>Pollutants</th>\n",
       "      <th>Old_Housing</th>\n",
       "      <th>Tax_Rate</th>\n",
       "      <th>Distance_Office</th>\n",
       "      <th>Rooms</th>\n",
       "      <th>Non_Retail</th>\n",
       "    </tr>\n",
       "  </thead>\n",
       "  <tbody>\n",
       "    <tr>\n",
       "      <th>count</th>\n",
       "      <td>506.000000</td>\n",
       "      <td>506.000000</td>\n",
       "      <td>506.000000</td>\n",
       "      <td>506.000000</td>\n",
       "      <td>506.000000</td>\n",
       "      <td>506.000000</td>\n",
       "      <td>506.000000</td>\n",
       "      <td>506.000000</td>\n",
       "      <td>506.000000</td>\n",
       "    </tr>\n",
       "    <tr>\n",
       "      <th>mean</th>\n",
       "      <td>19.426680</td>\n",
       "      <td>13.514111</td>\n",
       "      <td>22.532806</td>\n",
       "      <td>0.554695</td>\n",
       "      <td>69.110474</td>\n",
       "      <td>408.237154</td>\n",
       "      <td>3.795043</td>\n",
       "      <td>11.002182</td>\n",
       "      <td>11.136779</td>\n",
       "    </tr>\n",
       "    <tr>\n",
       "      <th>std</th>\n",
       "      <td>12.752782</td>\n",
       "      <td>11.206621</td>\n",
       "      <td>9.197104</td>\n",
       "      <td>0.115878</td>\n",
       "      <td>28.339548</td>\n",
       "      <td>168.537116</td>\n",
       "      <td>2.105710</td>\n",
       "      <td>51.744882</td>\n",
       "      <td>6.860353</td>\n",
       "    </tr>\n",
       "    <tr>\n",
       "      <th>min</th>\n",
       "      <td>12.600000</td>\n",
       "      <td>1.730000</td>\n",
       "      <td>5.000000</td>\n",
       "      <td>0.385000</td>\n",
       "      <td>2.900000</td>\n",
       "      <td>187.000000</td>\n",
       "      <td>1.129600</td>\n",
       "      <td>3.561000</td>\n",
       "      <td>0.460000</td>\n",
       "    </tr>\n",
       "    <tr>\n",
       "      <th>25%</th>\n",
       "      <td>17.400000</td>\n",
       "      <td>7.037500</td>\n",
       "      <td>17.025000</td>\n",
       "      <td>0.449000</td>\n",
       "      <td>45.175000</td>\n",
       "      <td>279.000000</td>\n",
       "      <td>2.100175</td>\n",
       "      <td>5.888000</td>\n",
       "      <td>5.190000</td>\n",
       "    </tr>\n",
       "    <tr>\n",
       "      <th>50%</th>\n",
       "      <td>19.100000</td>\n",
       "      <td>11.430000</td>\n",
       "      <td>21.200000</td>\n",
       "      <td>0.538000</td>\n",
       "      <td>78.200000</td>\n",
       "      <td>330.000000</td>\n",
       "      <td>3.207450</td>\n",
       "      <td>6.214000</td>\n",
       "      <td>9.690000</td>\n",
       "    </tr>\n",
       "    <tr>\n",
       "      <th>75%</th>\n",
       "      <td>20.200000</td>\n",
       "      <td>17.117500</td>\n",
       "      <td>25.000000</td>\n",
       "      <td>0.624000</td>\n",
       "      <td>94.575000</td>\n",
       "      <td>666.000000</td>\n",
       "      <td>5.188425</td>\n",
       "      <td>6.634000</td>\n",
       "      <td>18.100000</td>\n",
       "    </tr>\n",
       "    <tr>\n",
       "      <th>max</th>\n",
       "      <td>182.000000</td>\n",
       "      <td>100.000000</td>\n",
       "      <td>50.000000</td>\n",
       "      <td>0.871000</td>\n",
       "      <td>102.000000</td>\n",
       "      <td>711.000000</td>\n",
       "      <td>12.126500</td>\n",
       "      <td>609.600000</td>\n",
       "      <td>27.740000</td>\n",
       "    </tr>\n",
       "  </tbody>\n",
       "</table>\n",
       "</div>"
      ],
      "text/plain": [
       "       Student_Teacher_Ratio  Low_Income       Price  Pollutants  Old_Housing  \\\n",
       "count             506.000000  506.000000  506.000000  506.000000   506.000000   \n",
       "mean               19.426680   13.514111   22.532806    0.554695    69.110474   \n",
       "std                12.752782   11.206621    9.197104    0.115878    28.339548   \n",
       "min                12.600000    1.730000    5.000000    0.385000     2.900000   \n",
       "25%                17.400000    7.037500   17.025000    0.449000    45.175000   \n",
       "50%                19.100000   11.430000   21.200000    0.538000    78.200000   \n",
       "75%                20.200000   17.117500   25.000000    0.624000    94.575000   \n",
       "max               182.000000  100.000000   50.000000    0.871000   102.000000   \n",
       "\n",
       "         Tax_Rate  Distance_Office       Rooms  Non_Retail  \n",
       "count  506.000000       506.000000  506.000000  506.000000  \n",
       "mean   408.237154         3.795043   11.002182   11.136779  \n",
       "std    168.537116         2.105710   51.744882    6.860353  \n",
       "min    187.000000         1.129600    3.561000    0.460000  \n",
       "25%    279.000000         2.100175    5.888000    5.190000  \n",
       "50%    330.000000         3.207450    6.214000    9.690000  \n",
       "75%    666.000000         5.188425    6.634000   18.100000  \n",
       "max    711.000000        12.126500  609.600000   27.740000  "
      ]
     },
     "execution_count": 6,
     "metadata": {},
     "output_type": "execute_result"
    }
   ],
   "source": [
    "# generate 5 number summary\n",
    "cols = set(df.columns) - {'ID'}\n",
    "df = df[list(cols)]\n",
    "df.describe()"
   ]
  },
  {
   "cell_type": "code",
   "execution_count": null,
   "metadata": {
    "cell_id": "00028-35381d2a-c509-49f0-ad3a-ecc14bf9ea18",
    "deepnote_cell_height": 249.078125,
    "deepnote_cell_type": "code",
    "deepnote_output_heights": [
     80.078125
    ],
    "deepnote_to_be_reexecuted": false,
    "execution_millis": 6021,
    "execution_start": 1650118157044,
    "scrolled": true,
    "source_hash": "6a5e14a1"
   },
   "outputs": [
    {
     "data": {
      "image/png": "[encoded data removed]",
      "text/plain": [
       "<Figure size 2160x7200 with 180 Axes>"
      ]
     },
     "metadata": {
      "image/png": {
       "height": 260,
       "width": 1708
      },
      "needs_background": "light"
     },
     "output_type": "display_data"
    }
   ],
   "source": [
    "# plot box plots for each data field\n",
    "df_numerics = df[[\"Non_Retail\",\"Pollutants\",\"Rooms\",\"Old_Housing\",\"Distance_Office\",\"Tax_Rate\",\"Student_Teacher_Ratio\", \"Low_Income\", \"Price\"]]\n",
    "df_numerics.plot(kind='box', subplots=True, layout=(20, 9), figsize=(30, 100))\n",
    "\n",
    "plt.show()"
   ]
  },
  {
   "cell_type": "markdown",
   "metadata": {
    "cell_id": "00029-1a93cc7c-8aff-4eef-8692-07651e9770ab",
    "deepnote_cell_height": 223.125,
    "deepnote_cell_type": "markdown"
   },
   "source": [
    "After plotting the boxplot, we can see that variable Rooms, Student_Teacher_Ratio, Distance_Office and Low_income of the variables that contains extreme outliers in the datapoints as compared to the majority spread of datapoints, such as within the IQR.\n",
    "\n",
    "Additionally, maximum value for \"Old_Housing\" is 102%, indicating that the percentage of units built prior to WW2 exceeds 100% which is not a possible value. The maximum value for 'Rooms' is 609 and logically, it is impossible for a house to have so many rooms."
   ]
  },
  {
   "cell_type": "code",
   "execution_count": null,
   "metadata": {
    "cell_id": "00030-78f784b3-e2c1-4b01-af17-6ef5a3faddff",
    "deepnote_cell_height": 1539,
    "deepnote_cell_type": "code",
    "deepnote_output_heights": [
     340,
     340,
     340
    ],
    "deepnote_to_be_reexecuted": false,
    "execution_millis": 2051,
    "execution_start": 1650118162861,
    "source_hash": "572ae832"
   },
   "outputs": [
    {
     "data": {
      "image/png": "[encoded data removed]",
      "text/plain": [
       "<Figure size 576x360 with 1 Axes>"
      ]
     },
     "metadata": {
      "image/png": {
       "height": 338,
       "width": 503
      },
      "needs_background": "light"
     },
     "output_type": "display_data"
    },
    {
     "data": {
      "image/png": "[encoded data removed]",
      "text/plain": [
       "<Figure size 576x360 with 1 Axes>"
      ]
     },
     "metadata": {
      "image/png": {
       "height": 338,
       "width": 503
      },
      "needs_background": "light"
     },
     "output_type": "display_data"
    },
    {
     "data": {
      "image/png": "[encoded data removed]",
      "text/plain": [
       "<Figure size 576x360 with 1 Axes>"
      ]
     },
     "metadata": {
      "image/png": {
       "height": 338,
       "width": 497
      },
      "needs_background": "light"
     },
     "output_type": "display_data"
    }
   ],
   "source": [
    "plt.figure(figsize=(8,5))\n",
    "plt.title(\"Distribution of Rooms\", fontsize=15)\n",
    "plt.xlabel(\"Rooms per unit\", fontsize=12)\n",
    "plt.ylabel(\"Towns\", fontsize=12)\n",
    "df['Rooms'].hist(bins=500)\n",
    "plt.show()\n",
    "\n",
    "\n",
    "plt.figure(figsize=(8,5))\n",
    "plt.title(\"Distribution of Student Teacher Ratio\", fontsize=15)\n",
    "plt.xlabel(\"Student Teacher Ratio per Town\", fontsize=12)\n",
    "plt.ylabel(\"Towns\", fontsize=12)\n",
    "df[\"Student_Teacher_Ratio\"].hist(bins=200)\n",
    "plt.show()\n",
    "\n",
    "plt.figure(figsize=(8,5))\n",
    "plt.title(\"Distribution of Low Income %\", fontsize=15)\n",
    "plt.xlabel(\"% of Low Income\", fontsize=12)\n",
    "plt.ylabel(\"Towns\", fontsize=12)\n",
    "df[\"Low_Income\"].hist(bins=100)\n",
    "plt.show()"
   ]
  },
  {
   "cell_type": "markdown",
   "metadata": {
    "cell_id": "00031-d100e98b-0748-4cdb-b250-9af4b85f323b",
    "deepnote_cell_height": 245.515625,
    "deepnote_cell_type": "markdown"
   },
   "source": [
    "After seeing the boxplot, we used the histogram to better visualize each distribution that are present in the boxplot and this further amplify that the presence of outlier in the data will cause inconsistency issue in the distribution of the dataset when the graph is plotted.\n",
    "\n",
    "Hence, we will omit data points for rooms, student-to-teacher ratio, income level, distance from office that are outside of +/- 1.5*IQR, as well as \"old_housing\" values above 100. Price is the dependent variable hence, there is no need to remove the outliers as the variations in values of Price is likely to be due to different variables."
   ]
  },
  {
   "cell_type": "code",
   "execution_count": null,
   "metadata": {
    "cell_id": "00032-bea7d19e-db06-4876-a405-aee4b9db3b68",
    "deepnote_cell_height": 941,
    "deepnote_cell_type": "code",
    "deepnote_to_be_reexecuted": false,
    "execution_millis": 74,
    "execution_start": 1650118164917,
    "scrolled": true,
    "source_hash": "93a1f7a5"
   },
   "outputs": [
    {
     "data": {
      "application/vnd.deepnote.dataframe.v3+json": {
       "column_count": 13,
       "columns": [
        {
         "dtype": "object",
         "name": "River",
         "stats": {
          "categories": [
           {
            "count": 406,
            "name": "Far"
           },
           {
            "count": 27,
            "name": "Near"
           }
          ],
          "nan_count": 0,
          "unique_count": 2
         }
        },
        {
         "dtype": "float64",
         "name": "Student_Teacher_Ratio",
         "stats": {
          "histogram": [
           {
            "bin_end": 15.35,
            "bin_start": 14.7,
            "count": 50
           },
           {
            "bin_end": 16,
            "bin_start": 15.35,
            "count": 5
           },
           {
            "bin_end": 16.65,
            "bin_start": 16,
            "count": 31
           },
           {
            "bin_end": 17.3,
            "bin_start": 16.65,
            "count": 12
           },
           {
            "bin_end": 17.95,
            "bin_start": 17.3,
            "count": 52
           },
           {
            "bin_end": 18.6,
            "bin_start": 17.95,
            "count": 24
           },
           {
            "bin_end": 19.25,
            "bin_start": 18.6,
            "count": 66
           },
           {
            "bin_end": 19.9,
            "bin_start": 19.25,
            "count": 16
           },
           {
            "bin_end": 20.55,
            "bin_start": 19.9,
            "count": 128
           },
           {
            "bin_end": 21.2,
            "bin_start": 20.55,
            "count": 49
           }
          ],
          "max": "21.2",
          "min": "14.7",
          "nan_count": 0,
          "unique_count": 41
         }
        },
        {
         "dtype": "object",
         "name": "Highway_Access",
         "stats": {
          "categories": [
           {
            "count": 247,
            "name": "Moderate"
           },
           {
            "count": 113,
            "name": "High"
           },
           {
            "count": 73,
            "name": "Low"
           }
          ],
          "nan_count": 0,
          "unique_count": 3
         }
        },
        {
         "dtype": "float64",
         "name": "Low_Income",
         "stats": {
          "histogram": [
           {
            "bin_end": 4.756,
            "bin_start": 1.73,
            "count": 34
           },
           {
            "bin_end": 7.782,
            "bin_start": 4.756,
            "count": 82
           },
           {
            "bin_end": 10.808,
            "bin_start": 7.782,
            "count": 79
           },
           {
            "bin_end": 13.834,
            "bin_start": 10.808,
            "count": 68
           },
           {
            "bin_end": 16.86,
            "bin_start": 13.834,
            "count": 58
           },
           {
            "bin_end": 19.886,
            "bin_start": 16.86,
            "count": 51
           },
           {
            "bin_end": 22.912,
            "bin_start": 19.886,
            "count": 21
           },
           {
            "bin_end": 25.938,
            "bin_start": 22.912,
            "count": 19
           },
           {
            "bin_end": 28.964,
            "bin_start": 25.938,
            "count": 10
           },
           {
            "bin_end": 31.99,
            "bin_start": 28.964,
            "count": 11
           }
          ],
          "max": "31.99",
          "min": "1.73",
          "nan_count": 0,
          "unique_count": 396
         }
        },
        {
         "dtype": "object",
         "name": "Crime_Rate",
         "stats": {
          "categories": [
           {
            "count": 328,
            "name": "Low"
           },
           {
            "count": 91,
            "name": "Moderate"
           },
           {
            "count": 14,
            "name": "High"
           }
          ],
          "nan_count": 0,
          "unique_count": 3
         }
        },
        {
         "dtype": "float64",
         "name": "Price",
         "stats": {
          "histogram": [
           {
            "bin_end": 9.5,
            "bin_start": 5,
            "count": 18
           },
           {
            "bin_end": 14,
            "bin_start": 9.5,
            "count": 47
           },
           {
            "bin_end": 18.5,
            "bin_start": 14,
            "count": 75
           },
           {
            "bin_end": 23,
            "bin_start": 18.5,
            "count": 142
           },
           {
            "bin_end": 27.5,
            "bin_start": 23,
            "count": 78
           },
           {
            "bin_end": 32,
            "bin_start": 27.5,
            "count": 35
           },
           {
            "bin_end": 36.5,
            "bin_start": 32,
            "count": 24
           },
           {
            "bin_end": 41,
            "bin_start": 36.5,
            "count": 4
           },
           {
            "bin_end": 45.5,
            "bin_start": 41,
            "count": 3
           },
           {
            "bin_end": 50,
            "bin_start": 45.5,
            "count": 7
           }
          ],
          "max": "50.0",
          "min": "5.0",
          "nan_count": 0,
          "unique_count": 205
         }
        },
        {
         "dtype": "float64",
         "name": "Pollutants",
         "stats": {
          "histogram": [
           {
            "bin_end": 0.4336,
            "bin_start": 0.385,
            "count": 60
           },
           {
            "bin_end": 0.4822,
            "bin_start": 0.4336,
            "count": 72
           },
           {
            "bin_end": 0.5307999999999999,
            "bin_start": 0.4822,
            "count": 79
           },
           {
            "bin_end": 0.5794,
            "bin_start": 0.5307999999999999,
            "count": 52
           },
           {
            "bin_end": 0.628,
            "bin_start": 0.5794,
            "count": 71
           },
           {
            "bin_end": 0.6766,
            "bin_start": 0.628,
            "count": 15
           },
           {
            "bin_end": 0.7252000000000001,
            "bin_start": 0.6766,
            "count": 50
           },
           {
            "bin_end": 0.7738,
            "bin_start": 0.7252000000000001,
            "count": 19
           },
           {
            "bin_end": 0.8224,
            "bin_start": 0.7738,
            "count": 0
           },
           {
            "bin_end": 0.871,
            "bin_start": 0.8224,
            "count": 15
           }
          ],
          "max": "0.871",
          "min": "0.385",
          "nan_count": 0,
          "unique_count": 77
         }
        },
        {
         "dtype": "float64",
         "name": "Old_Housing",
         "stats": {
          "histogram": [
           {
            "bin_end": 12.61,
            "bin_start": 2.9,
            "count": 13
           },
           {
            "bin_end": 22.319999999999997,
            "bin_start": 12.61,
            "count": 27
           },
           {
            "bin_end": 32.029999999999994,
            "bin_start": 22.319999999999997,
            "count": 25
           },
           {
            "bin_end": 41.739999999999995,
            "bin_start": 32.029999999999994,
            "count": 34
           },
           {
            "bin_end": 51.449999999999996,
            "bin_start": 41.739999999999995,
            "count": 32
           },
           {
            "bin_end": 61.15999999999999,
            "bin_start": 51.449999999999996,
            "count": 33
           },
           {
            "bin_end": 70.87,
            "bin_start": 61.15999999999999,
            "count": 31
           },
           {
            "bin_end": 80.58,
            "bin_start": 70.87,
            "count": 37
           },
           {
            "bin_end": 90.28999999999999,
            "bin_start": 80.58,
            "count": 56
           },
           {
            "bin_end": 100,
            "bin_start": 90.28999999999999,
            "count": 145
           }
          ],
          "max": "100.0",
          "min": "2.9",
          "nan_count": 0,
          "unique_count": 316
         }
        },
        {
         "dtype": "object",
         "name": "Residential_Area",
         "stats": {
          "categories": [
           {
            "count": 343,
            "name": "Very Low"
           },
           {
            "count": 45,
            "name": "Low"
           },
           {
            "count": 45,
            "name": "3 others"
           }
          ],
          "nan_count": 0,
          "unique_count": 5
         }
        },
        {
         "dtype": "int64",
         "name": "Tax_Rate",
         "stats": {
          "histogram": [
           {
            "bin_end": 240.3,
            "bin_start": 188,
            "count": 47
           },
           {
            "bin_end": 292.6,
            "bin_start": 240.3,
            "count": 77
           },
           {
            "bin_end": 344.9,
            "bin_start": 292.6,
            "count": 92
           },
           {
            "bin_end": 397.2,
            "bin_start": 344.9,
            "count": 32
           },
           {
            "bin_end": 449.5,
            "bin_start": 397.2,
            "count": 64
           },
           {
            "bin_end": 501.79999999999995,
            "bin_start": 449.5,
            "count": 1
           },
           {
            "bin_end": 554.0999999999999,
            "bin_start": 501.79999999999995,
            "count": 0
           },
           {
            "bin_end": 606.4,
            "bin_start": 554.0999999999999,
            "count": 0
           },
           {
            "bin_end": 658.7,
            "bin_start": 606.4,
            "count": 0
           },
           {
            "bin_end": 711,
            "bin_start": 658.7,
            "count": 120
           }
          ],
          "max": "711",
          "min": "188",
          "nan_count": 0,
          "unique_count": 60
         }
        },
        {
         "dtype": "float64",
         "name": "Distance_Office",
         "stats": {
          "histogram": [
           {
            "bin_end": 1.9389299999999998,
            "bin_start": 1.1296,
            "count": 80
           },
           {
            "bin_end": 2.7482599999999997,
            "bin_start": 1.9389299999999998,
            "count": 101
           },
           {
            "bin_end": 3.5575899999999994,
            "bin_start": 2.7482599999999997,
            "count": 55
           },
           {
            "bin_end": 4.3669199999999995,
            "bin_start": 3.5575899999999994,
            "count": 47
           },
           {
            "bin_end": 5.17625,
            "bin_start": 4.3669199999999995,
            "count": 36
           },
           {
            "bin_end": 5.985579999999999,
            "bin_start": 5.17625,
            "count": 36
           },
           {
            "bin_end": 6.794909999999999,
            "bin_start": 5.985579999999999,
            "count": 32
           },
           {
            "bin_end": 7.604239999999999,
            "bin_start": 6.794909999999999,
            "count": 19
           },
           {
            "bin_end": 8.41357,
            "bin_start": 7.604239999999999,
            "count": 17
           },
           {
            "bin_end": 9.2229,
            "bin_start": 8.41357,
            "count": 10
           }
          ],
          "max": "9.2229",
          "min": "1.1296",
          "nan_count": 0,
          "unique_count": 354
         }
        },
        {
         "dtype": "float64",
         "name": "Rooms",
         "stats": {
          "histogram": [
           {
            "bin_end": 5.1611,
            "bin_start": 4.88,
            "count": 10
           },
           {
            "bin_end": 5.4422,
            "bin_start": 5.1611,
            "count": 16
           },
           {
            "bin_end": 5.7233,
            "bin_start": 5.4422,
            "count": 37
           },
           {
            "bin_end": 6.0044,
            "bin_start": 5.7233,
            "count": 88
           },
           {
            "bin_end": 6.2855,
            "bin_start": 6.0044,
            "count": 95
           },
           {
            "bin_end": 6.5666,
            "bin_start": 6.2855,
            "count": 88
           },
           {
            "bin_end": 6.8477,
            "bin_start": 6.5666,
            "count": 47
           },
           {
            "bin_end": 7.1288,
            "bin_start": 6.8477,
            "count": 28
           },
           {
            "bin_end": 7.4099,
            "bin_start": 7.1288,
            "count": 15
           },
           {
            "bin_end": 7.691,
            "bin_start": 7.4099,
            "count": 9
           }
          ],
          "max": "7.691",
          "min": "4.88",
          "nan_count": 0,
          "unique_count": 383
         }
        },
        {
         "dtype": "float64",
         "name": "Non_Retail",
         "stats": {
          "histogram": [
           {
            "bin_end": 3.4400000000000004,
            "bin_start": 0.74,
            "count": 57
           },
           {
            "bin_end": 6.140000000000001,
            "bin_start": 3.4400000000000004,
            "count": 70
           },
           {
            "bin_end": 8.840000000000002,
            "bin_start": 6.140000000000001,
            "count": 79
           },
           {
            "bin_end": 11.540000000000001,
            "bin_start": 8.840000000000002,
            "count": 41
           },
           {
            "bin_end": 14.24,
            "bin_start": 11.540000000000001,
            "count": 20
           },
           {
            "bin_end": 16.94,
            "bin_start": 14.24,
            "count": 0
           },
           {
            "bin_end": 19.64,
            "bin_start": 16.94,
            "count": 141
           },
           {
            "bin_end": 22.34,
            "bin_start": 19.64,
            "count": 13
           },
           {
            "bin_end": 25.04,
            "bin_start": 22.34,
            "count": 0
           },
           {
            "bin_end": 27.74,
            "bin_start": 25.04,
            "count": 12
           }
          ],
          "max": "27.74",
          "min": "0.74",
          "nan_count": 0,
          "unique_count": 68
         }
        },
        {
         "dtype": "int64",
         "name": "_deepnote_index_column"
        }
       ],
       "row_count": 433,
       "rows": [
        {
         "Crime_Rate": "Low",
         "Distance_Office": 4.09,
         "Highway_Access": "Low",
         "Low_Income": 4.98,
         "Non_Retail": 2.31,
         "Old_Housing": 65.2,
         "Pollutants": 0.538,
         "Price": 24,
         "Residential_Area": "Very Low",
         "River": "Far",
         "Rooms": 6.575,
         "Student_Teacher_Ratio": 15.3,
         "Tax_Rate": 296,
         "_deepnote_index_column": 0
        },
        {
         "Crime_Rate": "Low",
         "Distance_Office": 4.9671,
         "Highway_Access": "Low",
         "Low_Income": 9.14,
         "Non_Retail": 7.07,
         "Old_Housing": 78.9,
         "Pollutants": 0.469,
         "Price": 21.6,
         "Residential_Area": "Very Low",
         "River": "Far",
         "Rooms": 6.421,
         "Student_Teacher_Ratio": 17.8,
         "Tax_Rate": 242,
         "_deepnote_index_column": 1
        },
        {
         "Crime_Rate": "Low",
         "Distance_Office": 4.9671,
         "Highway_Access": "Low",
         "Low_Income": 4.03,
         "Non_Retail": 7.07,
         "Old_Housing": 61.1,
         "Pollutants": 0.469,
         "Price": 34.7,
         "Residential_Area": "Very Low",
         "River": "Far",
         "Rooms": 7.185,
         "Student_Teacher_Ratio": 17.8,
         "Tax_Rate": 242,
         "_deepnote_index_column": 2
        },
        {
         "Crime_Rate": "Low",
         "Distance_Office": 6.0622,
         "Highway_Access": "Low",
         "Low_Income": 2.94,
         "Non_Retail": 2.18,
         "Old_Housing": 45.8,
         "Pollutants": 0.458,
         "Price": 33.4,
         "Residential_Area": "Very Low",
         "River": "Far",
         "Rooms": 6.998,
         "Student_Teacher_Ratio": 18.7,
         "Tax_Rate": 222,
         "_deepnote_index_column": 3
        },
        {
         "Crime_Rate": "Low",
         "Distance_Office": 6.0622,
         "Highway_Access": "Low",
         "Low_Income": 5.33,
         "Non_Retail": 2.18,
         "Old_Housing": 54.2,
         "Pollutants": 0.458,
         "Price": 36.2,
         "Residential_Area": "Very Low",
         "River": "Far",
         "Rooms": 7.147,
         "Student_Teacher_Ratio": 18.7,
         "Tax_Rate": 222,
         "_deepnote_index_column": 4
        },
        {
         "Crime_Rate": "Low",
         "Distance_Office": 6.0622,
         "Highway_Access": "Low",
         "Low_Income": 5.21,
         "Non_Retail": 2.18,
         "Old_Housing": 58.7,
         "Pollutants": 0.458,
         "Price": 28.7,
         "Residential_Area": "Very Low",
         "River": "Far",
         "Rooms": 6.43,
         "Student_Teacher_Ratio": 18.7,
         "Tax_Rate": 222,
         "_deepnote_index_column": 5
        },
        {
         "Crime_Rate": "Low",
         "Distance_Office": 5.5605,
         "Highway_Access": "Moderate",
         "Low_Income": 12.43,
         "Non_Retail": 7.87,
         "Old_Housing": 66.6,
         "Pollutants": 0.524,
         "Price": 22.9,
         "Residential_Area": "Very Low",
         "River": "Far",
         "Rooms": 6.012,
         "Student_Teacher_Ratio": 15.2,
         "Tax_Rate": 311,
         "_deepnote_index_column": 6
        },
        {
         "Crime_Rate": "Low",
         "Distance_Office": 5.9505,
         "Highway_Access": "Moderate",
         "Low_Income": 19.15,
         "Non_Retail": 7.87,
         "Old_Housing": 96.1,
         "Pollutants": 0.524,
         "Price": 27.1,
         "Residential_Area": "Very Low",
         "River": "Far",
         "Rooms": 6.172,
         "Student_Teacher_Ratio": 15.2,
         "Tax_Rate": 311,
         "_deepnote_index_column": 7
        },
        {
         "Crime_Rate": "Low",
         "Distance_Office": 6.0821,
         "Highway_Access": "Moderate",
         "Low_Income": 29.93,
         "Non_Retail": 7.87,
         "Old_Housing": 100,
         "Pollutants": 0.524,
         "Price": 16.5,
         "Residential_Area": "Very Low",
         "River": "Far",
         "Rooms": 5.631,
         "Student_Teacher_Ratio": 15.2,
         "Tax_Rate": 311,
         "_deepnote_index_column": 8
        },
        {
         "Crime_Rate": "Low",
         "Distance_Office": 6.5921,
         "Highway_Access": "Moderate",
         "Low_Income": 17.1,
         "Non_Retail": 7.87,
         "Old_Housing": 85.9,
         "Pollutants": 0.524,
         "Price": 18.9,
         "Residential_Area": "Very Low",
         "River": "Far",
         "Rooms": 6.004,
         "Student_Teacher_Ratio": 15.2,
         "Tax_Rate": 311,
         "_deepnote_index_column": 9
        }
       ]
      },
      "text/html": [
       "<div>\n",
       "<style scoped>\n",
       "    .dataframe tbody tr th:only-of-type {\n",
       "        vertical-align: middle;\n",
       "    }\n",
       "\n",
       "    .dataframe tbody tr th {\n",
       "        vertical-align: top;\n",
       "    }\n",
       "\n",
       "    .dataframe thead th {\n",
       "        text-align: right;\n",
       "    }\n",
       "</style>\n",
       "<table border=\"1\" class=\"dataframe\">\n",
       "  <thead>\n",
       "    <tr style=\"text-align: right;\">\n",
       "      <th></th>\n",
       "      <th>River</th>\n",
       "      <th>Student_Teacher_Ratio</th>\n",
       "      <th>Highway_Access</th>\n",
       "      <th>Low_Income</th>\n",
       "      <th>Crime_Rate</th>\n",
       "      <th>Price</th>\n",
       "      <th>Pollutants</th>\n",
       "      <th>Old_Housing</th>\n",
       "      <th>Residential_Area</th>\n",
       "      <th>Tax_Rate</th>\n",
       "      <th>Distance_Office</th>\n",
       "      <th>Rooms</th>\n",
       "      <th>Non_Retail</th>\n",
       "    </tr>\n",
       "  </thead>\n",
       "  <tbody>\n",
       "    <tr>\n",
       "      <th>0</th>\n",
       "      <td>Far</td>\n",
       "      <td>15.3</td>\n",
       "      <td>Low</td>\n",
       "      <td>4.98</td>\n",
       "      <td>Low</td>\n",
       "      <td>24.0</td>\n",
       "      <td>0.538</td>\n",
       "      <td>65.2</td>\n",
       "      <td>Very Low</td>\n",
       "      <td>296</td>\n",
       "      <td>4.0900</td>\n",
       "      <td>6.575</td>\n",
       "      <td>2.31</td>\n",
       "    </tr>\n",
       "    <tr>\n",
       "      <th>1</th>\n",
       "      <td>Far</td>\n",
       "      <td>17.8</td>\n",
       "      <td>Low</td>\n",
       "      <td>9.14</td>\n",
       "      <td>Low</td>\n",
       "      <td>21.6</td>\n",
       "      <td>0.469</td>\n",
       "      <td>78.9</td>\n",
       "      <td>Very Low</td>\n",
       "      <td>242</td>\n",
       "      <td>4.9671</td>\n",
       "      <td>6.421</td>\n",
       "      <td>7.07</td>\n",
       "    </tr>\n",
       "    <tr>\n",
       "      <th>2</th>\n",
       "      <td>Far</td>\n",
       "      <td>17.8</td>\n",
       "      <td>Low</td>\n",
       "      <td>4.03</td>\n",
       "      <td>Low</td>\n",
       "      <td>34.7</td>\n",
       "      <td>0.469</td>\n",
       "      <td>61.1</td>\n",
       "      <td>Very Low</td>\n",
       "      <td>242</td>\n",
       "      <td>4.9671</td>\n",
       "      <td>7.185</td>\n",
       "      <td>7.07</td>\n",
       "    </tr>\n",
       "    <tr>\n",
       "      <th>3</th>\n",
       "      <td>Far</td>\n",
       "      <td>18.7</td>\n",
       "      <td>Low</td>\n",
       "      <td>2.94</td>\n",
       "      <td>Low</td>\n",
       "      <td>33.4</td>\n",
       "      <td>0.458</td>\n",
       "      <td>45.8</td>\n",
       "      <td>Very Low</td>\n",
       "      <td>222</td>\n",
       "      <td>6.0622</td>\n",
       "      <td>6.998</td>\n",
       "      <td>2.18</td>\n",
       "    </tr>\n",
       "    <tr>\n",
       "      <th>4</th>\n",
       "      <td>Far</td>\n",
       "      <td>18.7</td>\n",
       "      <td>Low</td>\n",
       "      <td>5.33</td>\n",
       "      <td>Low</td>\n",
       "      <td>36.2</td>\n",
       "      <td>0.458</td>\n",
       "      <td>54.2</td>\n",
       "      <td>Very Low</td>\n",
       "      <td>222</td>\n",
       "      <td>6.0622</td>\n",
       "      <td>7.147</td>\n",
       "      <td>2.18</td>\n",
       "    </tr>\n",
       "    <tr>\n",
       "      <th>...</th>\n",
       "      <td>...</td>\n",
       "      <td>...</td>\n",
       "      <td>...</td>\n",
       "      <td>...</td>\n",
       "      <td>...</td>\n",
       "      <td>...</td>\n",
       "      <td>...</td>\n",
       "      <td>...</td>\n",
       "      <td>...</td>\n",
       "      <td>...</td>\n",
       "      <td>...</td>\n",
       "      <td>...</td>\n",
       "      <td>...</td>\n",
       "    </tr>\n",
       "    <tr>\n",
       "      <th>501</th>\n",
       "      <td>Far</td>\n",
       "      <td>21.0</td>\n",
       "      <td>Low</td>\n",
       "      <td>9.67</td>\n",
       "      <td>Low</td>\n",
       "      <td>22.4</td>\n",
       "      <td>0.573</td>\n",
       "      <td>69.1</td>\n",
       "      <td>Very Low</td>\n",
       "      <td>273</td>\n",
       "      <td>2.4786</td>\n",
       "      <td>6.593</td>\n",
       "      <td>11.93</td>\n",
       "    </tr>\n",
       "    <tr>\n",
       "      <th>502</th>\n",
       "      <td>Far</td>\n",
       "      <td>21.0</td>\n",
       "      <td>Low</td>\n",
       "      <td>9.08</td>\n",
       "      <td>Low</td>\n",
       "      <td>20.6</td>\n",
       "      <td>0.573</td>\n",
       "      <td>76.7</td>\n",
       "      <td>Very Low</td>\n",
       "      <td>273</td>\n",
       "      <td>2.2875</td>\n",
       "      <td>6.120</td>\n",
       "      <td>11.93</td>\n",
       "    </tr>\n",
       "    <tr>\n",
       "      <th>503</th>\n",
       "      <td>Far</td>\n",
       "      <td>21.0</td>\n",
       "      <td>Low</td>\n",
       "      <td>5.64</td>\n",
       "      <td>Low</td>\n",
       "      <td>23.9</td>\n",
       "      <td>0.573</td>\n",
       "      <td>91.0</td>\n",
       "      <td>Very Low</td>\n",
       "      <td>273</td>\n",
       "      <td>2.1675</td>\n",
       "      <td>6.976</td>\n",
       "      <td>11.93</td>\n",
       "    </tr>\n",
       "    <tr>\n",
       "      <th>504</th>\n",
       "      <td>Far</td>\n",
       "      <td>21.0</td>\n",
       "      <td>Low</td>\n",
       "      <td>6.48</td>\n",
       "      <td>Low</td>\n",
       "      <td>22.0</td>\n",
       "      <td>0.573</td>\n",
       "      <td>89.3</td>\n",
       "      <td>Very Low</td>\n",
       "      <td>273</td>\n",
       "      <td>2.3889</td>\n",
       "      <td>6.794</td>\n",
       "      <td>11.93</td>\n",
       "    </tr>\n",
       "    <tr>\n",
       "      <th>505</th>\n",
       "      <td>Far</td>\n",
       "      <td>21.0</td>\n",
       "      <td>Low</td>\n",
       "      <td>7.88</td>\n",
       "      <td>Low</td>\n",
       "      <td>11.9</td>\n",
       "      <td>0.573</td>\n",
       "      <td>80.8</td>\n",
       "      <td>Very Low</td>\n",
       "      <td>273</td>\n",
       "      <td>2.5050</td>\n",
       "      <td>6.030</td>\n",
       "      <td>11.93</td>\n",
       "    </tr>\n",
       "  </tbody>\n",
       "</table>\n",
       "<p>433 rows × 13 columns</p>\n",
       "</div>"
      ],
      "text/plain": [
       "    River  Student_Teacher_Ratio Highway_Access  Low_Income Crime_Rate  Price  \\\n",
       "0     Far                   15.3            Low        4.98        Low   24.0   \n",
       "1     Far                   17.8            Low        9.14        Low   21.6   \n",
       "2     Far                   17.8            Low        4.03        Low   34.7   \n",
       "3     Far                   18.7            Low        2.94        Low   33.4   \n",
       "4     Far                   18.7            Low        5.33        Low   36.2   \n",
       "..    ...                    ...            ...         ...        ...    ...   \n",
       "501   Far                   21.0            Low        9.67        Low   22.4   \n",
       "502   Far                   21.0            Low        9.08        Low   20.6   \n",
       "503   Far                   21.0            Low        5.64        Low   23.9   \n",
       "504   Far                   21.0            Low        6.48        Low   22.0   \n",
       "505   Far                   21.0            Low        7.88        Low   11.9   \n",
       "\n",
       "     Pollutants  Old_Housing Residential_Area  Tax_Rate  Distance_Office  \\\n",
       "0         0.538         65.2         Very Low       296           4.0900   \n",
       "1         0.469         78.9         Very Low       242           4.9671   \n",
       "2         0.469         61.1         Very Low       242           4.9671   \n",
       "3         0.458         45.8         Very Low       222           6.0622   \n",
       "4         0.458         54.2         Very Low       222           6.0622   \n",
       "..          ...          ...              ...       ...              ...   \n",
       "501       0.573         69.1         Very Low       273           2.4786   \n",
       "502       0.573         76.7         Very Low       273           2.2875   \n",
       "503       0.573         91.0         Very Low       273           2.1675   \n",
       "504       0.573         89.3         Very Low       273           2.3889   \n",
       "505       0.573         80.8         Very Low       273           2.5050   \n",
       "\n",
       "     Rooms  Non_Retail  \n",
       "0    6.575        2.31  \n",
       "1    6.421        7.07  \n",
       "2    7.185        7.07  \n",
       "3    6.998        2.18  \n",
       "4    7.147        2.18  \n",
       "..     ...         ...  \n",
       "501  6.593       11.93  \n",
       "502  6.120       11.93  \n",
       "503  6.976       11.93  \n",
       "504  6.794       11.93  \n",
       "505  6.030       11.93  \n",
       "\n",
       "[433 rows x 13 columns]"
      ]
     },
     "execution_count": 9,
     "metadata": {},
     "output_type": "execute_result"
    }
   ],
   "source": [
    "RoomIQR = df.Rooms.quantile(0.75) - df.Rooms.quantile(0.25) \n",
    "RoomUpper = df.Rooms.quantile(0.75) + 1.5*RoomIQR \n",
    "RoomLower = df.Rooms.quantile(0.25) - 1.5*RoomIQR \n",
    " \n",
    "StudentRatioIQR = df.Student_Teacher_Ratio.quantile(0.75) - df.Student_Teacher_Ratio.quantile(0.25) \n",
    "StudentRatioUpper = df.Student_Teacher_Ratio.quantile(0.75) + 1.5*StudentRatioIQR \n",
    "StudentRatioLower = df.Student_Teacher_Ratio.quantile(0.25) - 1.5*StudentRatioIQR \n",
    " \n",
    "IncomeIQR = df.Low_Income.quantile(0.75) - df.Low_Income.quantile(0.25) \n",
    "IncomeUpper = df.Low_Income.quantile(0.75) + 1.5*IncomeIQR \n",
    "IncomeLower = df.Low_Income.quantile(0.25) - 1.5*IncomeIQR \n",
    " \n",
    "DistanceIQR = df.Distance_Office.quantile(0.75) - df.Distance_Office.quantile(0.25) \n",
    "DistanceUpper = df.Distance_Office.quantile(0.75) + 1.5*DistanceIQR \n",
    "DistanceLower = df.Distance_Office.quantile(0.25) - 1.5*DistanceIQR \n",
    "\n",
    "# omit data points outside of IQR * 1.5\n",
    "df1 = df[ (df.Old_Housing <= 100) &((df.Rooms < RoomUpper) & (df.Rooms > RoomLower)) & ((df.Student_Teacher_Ratio < StudentRatioUpper) & (df.Student_Teacher_Ratio > StudentRatioLower)) & ((df.Low_Income < IncomeUpper) & (df.Low_Income > IncomeLower)) & ((df.Distance_Office < DistanceUpper) & (df.Distance_Office > DistanceLower)) ]  \n",
    "df1"
   ]
  },
  {
   "cell_type": "markdown",
   "metadata": {
    "cell_id": "00033-4d17c255-a324-4c9c-b0f7-e4cd21fc4d3c",
    "deepnote_cell_height": 74.78125,
    "deepnote_cell_type": "markdown"
   },
   "source": [
    "Remaining rows after dropping rows with values outside of IQR * 1.5, hence 506 - 433 = 73 data points with outliers were removed"
   ]
  },
  {
   "cell_type": "code",
   "execution_count": null,
   "metadata": {
    "cell_id": "00034-d7fe56cd-8a9b-4937-93f2-437b2b792a74",
    "deepnote_cell_height": 806,
    "deepnote_cell_type": "code",
    "deepnote_output_heights": [
     231,
     231
    ],
    "deepnote_to_be_reexecuted": false,
    "execution_millis": 990,
    "execution_start": 1650118164995,
    "source_hash": "f43a1572"
   },
   "outputs": [
    {
     "data": {
      "image/png": "[encoded data removed]",
      "text/plain": [
       "<Figure size 360x216 with 1 Axes>"
      ]
     },
     "metadata": {
      "image/png": {
       "height": 229,
       "width": 336
      },
      "needs_background": "light"
     },
     "output_type": "display_data"
    },
    {
     "data": {
      "image/png": "[encoded data removed]",
      "text/plain": [
       "<Figure size 360x216 with 1 Axes>"
      ]
     },
     "metadata": {
      "image/png": {
       "height": 229,
       "width": 348
      },
      "needs_background": "light"
     },
     "output_type": "display_data"
    }
   ],
   "source": [
    "plt.figure(figsize=(5,3))\n",
    "plt.title(\"Distribution of Rooms (with outliers)\", fontsize=15)\n",
    "plt.xlabel(\"Rooms per unit\", fontsize=12)\n",
    "plt.ylabel(\"Towns\", fontsize=12)\n",
    "df[\"Rooms\"].hist(bins=100)\n",
    "plt.show()\n",
    "\n",
    "plt.figure(figsize=(5,3))\n",
    "plt.title(\"Distribution of Rooms (without outliers)\", fontsize=15)\n",
    "plt.xlabel(\"Rooms per unit\", fontsize=12)\n",
    "plt.ylabel(\"Towns\", fontsize=12)\n",
    "df1[\"Rooms\"].hist(bins=100)\n",
    "plt.show()"
   ]
  },
  {
   "cell_type": "markdown",
   "metadata": {
    "cell_id": "00035-a64af6b6-fd04-4cce-bf53-bb9b45c43b4c",
    "deepnote_cell_height": 164.34375,
    "deepnote_cell_type": "markdown"
   },
   "source": [
    "The two graphs above depict the changes to the distribution of rooms per unit after outliers were removed. Before removing, we can see that most of the datapoints are on the left and there are some extreme outlier on the right side of the graph, it shows the inconsistency in the spread of data. After removing outliers, the range of values would be smaller and hence, the distribution of the data can be observed more easily."
   ]
  },
  {
   "cell_type": "code",
   "execution_count": null,
   "metadata": {
    "cell_id": "00036-8e2735eb-277e-4b06-8384-e2dbbda74506",
    "deepnote_cell_height": 806,
    "deepnote_cell_type": "code",
    "deepnote_output_heights": [
     231,
     231
    ],
    "deepnote_to_be_reexecuted": false,
    "execution_millis": 645,
    "execution_start": 1650118166030,
    "source_hash": "c137cf14"
   },
   "outputs": [
    {
     "data": {
      "image/png": "[encoded data removed]",
      "text/plain": [
       "<Figure size 360x216 with 1 Axes>"
      ]
     },
     "metadata": {
      "image/png": {
       "height": 229,
       "width": 402
      },
      "needs_background": "light"
     },
     "output_type": "display_data"
    },
    {
     "data": {
      "image/png": "[encoded data removed]",
      "text/plain": [
       "<Figure size 360x216 with 1 Axes>"
      ]
     },
     "metadata": {
      "image/png": {
       "height": 229,
       "width": 426
      },
      "needs_background": "light"
     },
     "output_type": "display_data"
    }
   ],
   "source": [
    "plt.figure(figsize=(5,3))\n",
    "plt.title(\"Distribution of Student Teacher Ratio (with outliers)\", fontsize=15)\n",
    "plt.xlabel(\"Student Teacher Ratio per Town\", fontsize=12)\n",
    "plt.ylabel(\"Towns\", fontsize=12)\n",
    "df[\"Student_Teacher_Ratio\"].hist(bins=100)\n",
    "plt.show()\n",
    "\n",
    "plt.figure(figsize=(5,3))\n",
    "plt.title(\"Distribution of Student Teacher Ratio (without outliers)\", fontsize=15)\n",
    "plt.xlabel(\"Student Teacher Ratio per Town\", fontsize=12)\n",
    "plt.ylabel(\"Towns\", fontsize=12)\n",
    "df1[\"Student_Teacher_Ratio\"].hist(bins=100)\n",
    "plt.show()"
   ]
  },
  {
   "cell_type": "markdown",
   "metadata": {
    "cell_id": "00037-896932dd-2e98-4fed-8297-e911a6c9d2c6",
    "deepnote_cell_height": 141.953125,
    "deepnote_cell_type": "markdown"
   },
   "source": [
    "The two graphs above depict the changes to the distribution of student teacher ratio distribution after outliers were removed. After the outliers were removed, the range of values is smaller thus the distribution seems more consistent with the data where there is a major spike in the town where the student-teacher ratio is at about 20.2."
   ]
  },
  {
   "cell_type": "markdown",
   "metadata": {
    "cell_id": "00038-69d72f58-f21a-408d-91e6-2f9c7820bce0",
    "deepnote_cell_height": 81.1875,
    "deepnote_cell_type": "markdown"
   },
   "source": [
    "<font color = green size = 3>\n",
    "   The x-axis have different intervals, hence it is difficult to compare visually\n",
    "</font>"
   ]
  },
  {
   "cell_type": "code",
   "execution_count": null,
   "metadata": {
    "cell_id": "00039-43453ef9-c6e5-4421-a2dd-e7828a28b781",
    "deepnote_cell_height": 824,
    "deepnote_cell_type": "code",
    "deepnote_output_heights": [
     231,
     231
    ],
    "deepnote_to_be_reexecuted": false,
    "execution_millis": 1259,
    "execution_start": 1650118166721,
    "source_hash": "15eb1628"
   },
   "outputs": [
    {
     "data": {
      "image/png": "[encoded data removed]",
      "text/plain": [
       "<Figure size 360x216 with 1 Axes>"
      ]
     },
     "metadata": {
      "image/png": {
       "height": 229,
       "width": 356
      },
      "needs_background": "light"
     },
     "output_type": "display_data"
    },
    {
     "data": {
      "image/png": "[encoded data removed]",
      "text/plain": [
       "<Figure size 360x216 with 1 Axes>"
      ]
     },
     "metadata": {
      "image/png": {
       "height": 229,
       "width": 369
      },
      "needs_background": "light"
     },
     "output_type": "display_data"
    }
   ],
   "source": [
    "plt.figure(figsize=(5,3))\n",
    "plt.title(\"Distribution of Low Income % (with outliers)\", fontsize=15)\n",
    "plt.xlabel(\"% of Low Income\", fontsize=12)\n",
    "plt.ylabel(\"Towns\", fontsize=12)\n",
    "df[\"Low_Income\"].hist(bins=100)\n",
    "plt.show()\n",
    "\n",
    "\n",
    "plt.figure(figsize=(5,3))\n",
    "plt.title(\"Distribution of Low Income % (without outliers)\", fontsize=15)\n",
    "plt.xlabel(\"% of Low Income\", fontsize=12)\n",
    "plt.ylabel(\"Towns\", fontsize=12)\n",
    "df1[\"Low_Income\"].hist(bins=100)\n",
    "plt.show()"
   ]
  },
  {
   "cell_type": "markdown",
   "metadata": {
    "cell_id": "00040-a69eba1e-0437-486b-8a11-aa0f6a400115",
    "deepnote_cell_height": 97.171875,
    "deepnote_cell_type": "markdown"
   },
   "source": [
    "The two graphs above depict the changes to the distribution of percentage of low income per town after outliers were removed. There is a significant improvement in the distribution and the spread of the datapoints."
   ]
  },
  {
   "cell_type": "markdown",
   "metadata": {
    "cell_id": "00041-260625c8-8344-493d-9990-b6efd5134242",
    "deepnote_cell_height": 55.59375,
    "deepnote_cell_type": "markdown"
   },
   "source": [
    "<font color = red size = 3>\n",
    "   [2b] 15%\n",
    "</font>"
   ]
  },
  {
   "cell_type": "markdown",
   "metadata": {
    "cell_id": "00042-7b59af0d-a8f8-4ca0-8a57-6237f211dec3",
    "deepnote_cell_height": 52.390625,
    "deepnote_cell_type": "markdown"
   },
   "source": [
    "**c.** For categorical variables, perform the necessary encoding."
   ]
  },
  {
   "cell_type": "code",
   "execution_count": null,
   "metadata": {
    "cell_id": "00043-6bc1902a-941a-4e7b-b803-28e4dcf67c4e",
    "deepnote_cell_height": 923,
    "deepnote_cell_type": "code",
    "deepnote_to_be_reexecuted": false,
    "execution_millis": 526,
    "execution_start": 1650118167990,
    "scrolled": true,
    "source_hash": "9ab6dffe"
   },
   "outputs": [
    {
     "data": {
      "application/vnd.deepnote.dataframe.v3+json": {
       "column_count": 17,
       "columns": [
        {
         "dtype": "object",
         "name": "River",
         "stats": {
          "categories": [
           {
            "count": 406,
            "name": "Far"
           },
           {
            "count": 27,
            "name": "Near"
           }
          ],
          "nan_count": 0,
          "unique_count": 2
         }
        },
        {
         "dtype": "float64",
         "name": "Student_Teacher_Ratio",
         "stats": {
          "histogram": [
           {
            "bin_end": 15.35,
            "bin_start": 14.7,
            "count": 50
           },
           {
            "bin_end": 16,
            "bin_start": 15.35,
            "count": 5
           },
           {
            "bin_end": 16.65,
            "bin_start": 16,
            "count": 31
           },
           {
            "bin_end": 17.3,
            "bin_start": 16.65,
            "count": 12
           },
           {
            "bin_end": 17.95,
            "bin_start": 17.3,
            "count": 52
           },
           {
            "bin_end": 18.6,
            "bin_start": 17.95,
            "count": 24
           },
           {
            "bin_end": 19.25,
            "bin_start": 18.6,
            "count": 66
           },
           {
            "bin_end": 19.9,
            "bin_start": 19.25,
            "count": 16
           },
           {
            "bin_end": 20.55,
            "bin_start": 19.9,
            "count": 128
           },
           {
            "bin_end": 21.2,
            "bin_start": 20.55,
            "count": 49
           }
          ],
          "max": "21.2",
          "min": "14.7",
          "nan_count": 0,
          "unique_count": 41
         }
        },
        {
         "dtype": "object",
         "name": "Highway_Access",
         "stats": {
          "categories": [
           {
            "count": 247,
            "name": "Moderate"
           },
           {
            "count": 113,
            "name": "High"
           },
           {
            "count": 73,
            "name": "Low"
           }
          ],
          "nan_count": 0,
          "unique_count": 3
         }
        },
        {
         "dtype": "float64",
         "name": "Low_Income",
         "stats": {
          "histogram": [
           {
            "bin_end": 4.756,
            "bin_start": 1.73,
            "count": 34
           },
           {
            "bin_end": 7.782,
            "bin_start": 4.756,
            "count": 82
           },
           {
            "bin_end": 10.808,
            "bin_start": 7.782,
            "count": 79
           },
           {
            "bin_end": 13.834,
            "bin_start": 10.808,
            "count": 68
           },
           {
            "bin_end": 16.86,
            "bin_start": 13.834,
            "count": 58
           },
           {
            "bin_end": 19.886,
            "bin_start": 16.86,
            "count": 51
           },
           {
            "bin_end": 22.912,
            "bin_start": 19.886,
            "count": 21
           },
           {
            "bin_end": 25.938,
            "bin_start": 22.912,
            "count": 19
           },
           {
            "bin_end": 28.964,
            "bin_start": 25.938,
            "count": 10
           },
           {
            "bin_end": 31.99,
            "bin_start": 28.964,
            "count": 11
           }
          ],
          "max": "31.99",
          "min": "1.73",
          "nan_count": 0,
          "unique_count": 396
         }
        },
        {
         "dtype": "object",
         "name": "Crime_Rate",
         "stats": {
          "categories": [
           {
            "count": 328,
            "name": "Low"
           },
           {
            "count": 91,
            "name": "Moderate"
           },
           {
            "count": 14,
            "name": "High"
           }
          ],
          "nan_count": 0,
          "unique_count": 3
         }
        },
        {
         "dtype": "float64",
         "name": "Price",
         "stats": {
          "histogram": [
           {
            "bin_end": 9.5,
            "bin_start": 5,
            "count": 18
           },
           {
            "bin_end": 14,
            "bin_start": 9.5,
            "count": 47
           },
           {
            "bin_end": 18.5,
            "bin_start": 14,
            "count": 75
           },
           {
            "bin_end": 23,
            "bin_start": 18.5,
            "count": 142
           },
           {
            "bin_end": 27.5,
            "bin_start": 23,
            "count": 78
           },
           {
            "bin_end": 32,
            "bin_start": 27.5,
            "count": 35
           },
           {
            "bin_end": 36.5,
            "bin_start": 32,
            "count": 24
           },
           {
            "bin_end": 41,
            "bin_start": 36.5,
            "count": 4
           },
           {
            "bin_end": 45.5,
            "bin_start": 41,
            "count": 3
           },
           {
            "bin_end": 50,
            "bin_start": 45.5,
            "count": 7
           }
          ],
          "max": "50.0",
          "min": "5.0",
          "nan_count": 0,
          "unique_count": 205
         }
        },
        {
         "dtype": "float64",
         "name": "Pollutants",
         "stats": {
          "histogram": [
           {
            "bin_end": 0.4336,
            "bin_start": 0.385,
            "count": 60
           },
           {
            "bin_end": 0.4822,
            "bin_start": 0.4336,
            "count": 72
           },
           {
            "bin_end": 0.5307999999999999,
            "bin_start": 0.4822,
            "count": 79
           },
           {
            "bin_end": 0.5794,
            "bin_start": 0.5307999999999999,
            "count": 52
           },
           {
            "bin_end": 0.628,
            "bin_start": 0.5794,
            "count": 71
           },
           {
            "bin_end": 0.6766,
            "bin_start": 0.628,
            "count": 15
           },
           {
            "bin_end": 0.7252000000000001,
            "bin_start": 0.6766,
            "count": 50
           },
           {
            "bin_end": 0.7738,
            "bin_start": 0.7252000000000001,
            "count": 19
           },
           {
            "bin_end": 0.8224,
            "bin_start": 0.7738,
            "count": 0
           },
           {
            "bin_end": 0.871,
            "bin_start": 0.8224,
            "count": 15
           }
          ],
          "max": "0.871",
          "min": "0.385",
          "nan_count": 0,
          "unique_count": 77
         }
        },
        {
         "dtype": "float64",
         "name": "Old_Housing",
         "stats": {
          "histogram": [
           {
            "bin_end": 12.61,
            "bin_start": 2.9,
            "count": 13
           },
           {
            "bin_end": 22.319999999999997,
            "bin_start": 12.61,
            "count": 27
           },
           {
            "bin_end": 32.029999999999994,
            "bin_start": 22.319999999999997,
            "count": 25
           },
           {
            "bin_end": 41.739999999999995,
            "bin_start": 32.029999999999994,
            "count": 34
           },
           {
            "bin_end": 51.449999999999996,
            "bin_start": 41.739999999999995,
            "count": 32
           },
           {
            "bin_end": 61.15999999999999,
            "bin_start": 51.449999999999996,
            "count": 33
           },
           {
            "bin_end": 70.87,
            "bin_start": 61.15999999999999,
            "count": 31
           },
           {
            "bin_end": 80.58,
            "bin_start": 70.87,
            "count": 37
           },
           {
            "bin_end": 90.28999999999999,
            "bin_start": 80.58,
            "count": 56
           },
           {
            "bin_end": 100,
            "bin_start": 90.28999999999999,
            "count": 145
           }
          ],
          "max": "100.0",
          "min": "2.9",
          "nan_count": 0,
          "unique_count": 316
         }
        },
        {
         "dtype": "object",
         "name": "Residential_Area",
         "stats": {
          "categories": [
           {
            "count": 343,
            "name": "Very Low"
           },
           {
            "count": 45,
            "name": "Low"
           },
           {
            "count": 45,
            "name": "3 others"
           }
          ],
          "nan_count": 0,
          "unique_count": 5
         }
        },
        {
         "dtype": "int64",
         "name": "Tax_Rate",
         "stats": {
          "histogram": [
           {
            "bin_end": 240.3,
            "bin_start": 188,
            "count": 47
           },
           {
            "bin_end": 292.6,
            "bin_start": 240.3,
            "count": 77
           },
           {
            "bin_end": 344.9,
            "bin_start": 292.6,
            "count": 92
           },
           {
            "bin_end": 397.2,
            "bin_start": 344.9,
            "count": 32
           },
           {
            "bin_end": 449.5,
            "bin_start": 397.2,
            "count": 64
           },
           {
            "bin_end": 501.79999999999995,
            "bin_start": 449.5,
            "count": 1
           },
           {
            "bin_end": 554.0999999999999,
            "bin_start": 501.79999999999995,
            "count": 0
           },
           {
            "bin_end": 606.4,
            "bin_start": 554.0999999999999,
            "count": 0
           },
           {
            "bin_end": 658.7,
            "bin_start": 606.4,
            "count": 0
           },
           {
            "bin_end": 711,
            "bin_start": 658.7,
            "count": 120
           }
          ],
          "max": "711",
          "min": "188",
          "nan_count": 0,
          "unique_count": 60
         }
        },
        {
         "dtype": "float64",
         "name": "Distance_Office",
         "stats": {
          "histogram": [
           {
            "bin_end": 1.9389299999999998,
            "bin_start": 1.1296,
            "count": 80
           },
           {
            "bin_end": 2.7482599999999997,
            "bin_start": 1.9389299999999998,
            "count": 101
           },
           {
            "bin_end": 3.5575899999999994,
            "bin_start": 2.7482599999999997,
            "count": 55
           },
           {
            "bin_end": 4.3669199999999995,
            "bin_start": 3.5575899999999994,
            "count": 47
           },
           {
            "bin_end": 5.17625,
            "bin_start": 4.3669199999999995,
            "count": 36
           },
           {
            "bin_end": 5.985579999999999,
            "bin_start": 5.17625,
            "count": 36
           },
           {
            "bin_end": 6.794909999999999,
            "bin_start": 5.985579999999999,
            "count": 32
           },
           {
            "bin_end": 7.604239999999999,
            "bin_start": 6.794909999999999,
            "count": 19
           },
           {
            "bin_end": 8.41357,
            "bin_start": 7.604239999999999,
            "count": 17
           },
           {
            "bin_end": 9.2229,
            "bin_start": 8.41357,
            "count": 10
           }
          ],
          "max": "9.2229",
          "min": "1.1296",
          "nan_count": 0,
          "unique_count": 354
         }
        },
        {
         "dtype": "float64",
         "name": "Rooms",
         "stats": {
          "histogram": [
           {
            "bin_end": 5.1611,
            "bin_start": 4.88,
            "count": 10
           },
           {
            "bin_end": 5.4422,
            "bin_start": 5.1611,
            "count": 16
           },
           {
            "bin_end": 5.7233,
            "bin_start": 5.4422,
            "count": 37
           },
           {
            "bin_end": 6.0044,
            "bin_start": 5.7233,
            "count": 88
           },
           {
            "bin_end": 6.2855,
            "bin_start": 6.0044,
            "count": 95
           },
           {
            "bin_end": 6.5666,
            "bin_start": 6.2855,
            "count": 88
           },
           {
            "bin_end": 6.8477,
            "bin_start": 6.5666,
            "count": 47
           },
           {
            "bin_end": 7.1288,
            "bin_start": 6.8477,
            "count": 28
           },
           {
            "bin_end": 7.4099,
            "bin_start": 7.1288,
            "count": 15
           },
           {
            "bin_end": 7.691,
            "bin_start": 7.4099,
            "count": 9
           }
          ],
          "max": "7.691",
          "min": "4.88",
          "nan_count": 0,
          "unique_count": 383
         }
        },
        {
         "dtype": "float64",
         "name": "Non_Retail",
         "stats": {
          "histogram": [
           {
            "bin_end": 3.4400000000000004,
            "bin_start": 0.74,
            "count": 57
           },
           {
            "bin_end": 6.140000000000001,
            "bin_start": 3.4400000000000004,
            "count": 70
           },
           {
            "bin_end": 8.840000000000002,
            "bin_start": 6.140000000000001,
            "count": 79
           },
           {
            "bin_end": 11.540000000000001,
            "bin_start": 8.840000000000002,
            "count": 41
           },
           {
            "bin_end": 14.24,
            "bin_start": 11.540000000000001,
            "count": 20
           },
           {
            "bin_end": 16.94,
            "bin_start": 14.24,
            "count": 0
           },
           {
            "bin_end": 19.64,
            "bin_start": 16.94,
            "count": 141
           },
           {
            "bin_end": 22.34,
            "bin_start": 19.64,
            "count": 13
           },
           {
            "bin_end": 25.04,
            "bin_start": 22.34,
            "count": 0
           },
           {
            "bin_end": 27.74,
            "bin_start": 25.04,
            "count": 12
           }
          ],
          "max": "27.74",
          "min": "0.74",
          "nan_count": 0,
          "unique_count": 68
         }
        },
        {
         "dtype": "int64",
         "name": "Highway_Access_Encoded",
         "stats": {
          "histogram": [
           {
            "bin_end": 1.2,
            "bin_start": 1,
            "count": 73
           },
           {
            "bin_end": 1.4,
            "bin_start": 1.2,
            "count": 0
           },
           {
            "bin_end": 1.6,
            "bin_start": 1.4,
            "count": 0
           },
           {
            "bin_end": 1.8,
            "bin_start": 1.6,
            "count": 0
           },
           {
            "bin_end": 2,
            "bin_start": 1.8,
            "count": 0
           },
           {
            "bin_end": 2.2,
            "bin_start": 2,
            "count": 247
           },
           {
            "bin_end": 2.4000000000000004,
            "bin_start": 2.2,
            "count": 0
           },
           {
            "bin_end": 2.6,
            "bin_start": 2.4000000000000004,
            "count": 0
           },
           {
            "bin_end": 2.8,
            "bin_start": 2.6,
            "count": 0
           },
           {
            "bin_end": 3,
            "bin_start": 2.8,
            "count": 113
           }
          ],
          "max": "3",
          "min": "1",
          "nan_count": 0,
          "unique_count": 3
         }
        },
        {
         "dtype": "int64",
         "name": "Crime_Rate_Encoded",
         "stats": {
          "histogram": [
           {
            "bin_end": 1.2,
            "bin_start": 1,
            "count": 328
           },
           {
            "bin_end": 1.4,
            "bin_start": 1.2,
            "count": 0
           },
           {
            "bin_end": 1.6,
            "bin_start": 1.4,
            "count": 0
           },
           {
            "bin_end": 1.8,
            "bin_start": 1.6,
            "count": 0
           },
           {
            "bin_end": 2,
            "bin_start": 1.8,
            "count": 0
           },
           {
            "bin_end": 2.2,
            "bin_start": 2,
            "count": 91
           },
           {
            "bin_end": 2.4000000000000004,
            "bin_start": 2.2,
            "count": 0
           },
           {
            "bin_end": 2.6,
            "bin_start": 2.4000000000000004,
            "count": 0
           },
           {
            "bin_end": 2.8,
            "bin_start": 2.6,
            "count": 0
           },
           {
            "bin_end": 3,
            "bin_start": 2.8,
            "count": 14
           }
          ],
          "max": "3",
          "min": "1",
          "nan_count": 0,
          "unique_count": 3
         }
        },
        {
         "dtype": "int64",
         "name": "Residential_Encoded",
         "stats": {
          "histogram": [
           {
            "bin_end": 1.4,
            "bin_start": 1,
            "count": 343
           },
           {
            "bin_end": 1.8,
            "bin_start": 1.4,
            "count": 0
           },
           {
            "bin_end": 2.2,
            "bin_start": 1.8,
            "count": 45
           },
           {
            "bin_end": 2.6,
            "bin_start": 2.2,
            "count": 0
           },
           {
            "bin_end": 3,
            "bin_start": 2.6,
            "count": 0
           },
           {
            "bin_end": 3.4000000000000004,
            "bin_start": 3,
            "count": 18
           },
           {
            "bin_end": 3.8000000000000003,
            "bin_start": 3.4000000000000004,
            "count": 0
           },
           {
            "bin_end": 4.2,
            "bin_start": 3.8000000000000003,
            "count": 8
           },
           {
            "bin_end": 4.6,
            "bin_start": 4.2,
            "count": 0
           },
           {
            "bin_end": 5,
            "bin_start": 4.6,
            "count": 19
           }
          ],
          "max": "5",
          "min": "1",
          "nan_count": 0,
          "unique_count": 5
         }
        },
        {
         "dtype": "int64",
         "name": "River_Encoded",
         "stats": {
          "histogram": [
           {
            "bin_end": 1.1,
            "bin_start": 1,
            "count": 27
           },
           {
            "bin_end": 1.2,
            "bin_start": 1.1,
            "count": 0
           },
           {
            "bin_end": 1.3,
            "bin_start": 1.2,
            "count": 0
           },
           {
            "bin_end": 1.4,
            "bin_start": 1.3,
            "count": 0
           },
           {
            "bin_end": 1.5,
            "bin_start": 1.4,
            "count": 0
           },
           {
            "bin_end": 1.6,
            "bin_start": 1.5,
            "count": 0
           },
           {
            "bin_end": 1.7000000000000002,
            "bin_start": 1.6,
            "count": 0
           },
           {
            "bin_end": 1.8,
            "bin_start": 1.7000000000000002,
            "count": 0
           },
           {
            "bin_end": 1.9,
            "bin_start": 1.8,
            "count": 0
           },
           {
            "bin_end": 2,
            "bin_start": 1.9,
            "count": 406
           }
          ],
          "max": "2",
          "min": "1",
          "nan_count": 0,
          "unique_count": 2
         }
        },
        {
         "dtype": "int64",
         "name": "_deepnote_index_column"
        }
       ],
       "row_count": 433,
       "rows": [
        {
         "Crime_Rate": "Low",
         "Crime_Rate_Encoded": 1,
         "Distance_Office": 4.09,
         "Highway_Access": "Low",
         "Highway_Access_Encoded": 1,
         "Low_Income": 4.98,
         "Non_Retail": 2.31,
         "Old_Housing": 65.2,
         "Pollutants": 0.538,
         "Price": 24,
         "Residential_Area": "Very Low",
         "Residential_Encoded": 1,
         "River": "Far",
         "River_Encoded": 2,
         "Rooms": 6.575,
         "Student_Teacher_Ratio": 15.3,
         "Tax_Rate": 296,
         "_deepnote_index_column": 0
        },
        {
         "Crime_Rate": "Low",
         "Crime_Rate_Encoded": 1,
         "Distance_Office": 4.9671,
         "Highway_Access": "Low",
         "Highway_Access_Encoded": 1,
         "Low_Income": 9.14,
         "Non_Retail": 7.07,
         "Old_Housing": 78.9,
         "Pollutants": 0.469,
         "Price": 21.6,
         "Residential_Area": "Very Low",
         "Residential_Encoded": 1,
         "River": "Far",
         "River_Encoded": 2,
         "Rooms": 6.421,
         "Student_Teacher_Ratio": 17.8,
         "Tax_Rate": 242,
         "_deepnote_index_column": 1
        },
        {
         "Crime_Rate": "Low",
         "Crime_Rate_Encoded": 1,
         "Distance_Office": 4.9671,
         "Highway_Access": "Low",
         "Highway_Access_Encoded": 1,
         "Low_Income": 4.03,
         "Non_Retail": 7.07,
         "Old_Housing": 61.1,
         "Pollutants": 0.469,
         "Price": 34.7,
         "Residential_Area": "Very Low",
         "Residential_Encoded": 1,
         "River": "Far",
         "River_Encoded": 2,
         "Rooms": 7.185,
         "Student_Teacher_Ratio": 17.8,
         "Tax_Rate": 242,
         "_deepnote_index_column": 2
        },
        {
         "Crime_Rate": "Low",
         "Crime_Rate_Encoded": 1,
         "Distance_Office": 6.0622,
         "Highway_Access": "Low",
         "Highway_Access_Encoded": 1,
         "Low_Income": 2.94,
         "Non_Retail": 2.18,
         "Old_Housing": 45.8,
         "Pollutants": 0.458,
         "Price": 33.4,
         "Residential_Area": "Very Low",
         "Residential_Encoded": 1,
         "River": "Far",
         "River_Encoded": 2,
         "Rooms": 6.998,
         "Student_Teacher_Ratio": 18.7,
         "Tax_Rate": 222,
         "_deepnote_index_column": 3
        },
        {
         "Crime_Rate": "Low",
         "Crime_Rate_Encoded": 1,
         "Distance_Office": 6.0622,
         "Highway_Access": "Low",
         "Highway_Access_Encoded": 1,
         "Low_Income": 5.33,
         "Non_Retail": 2.18,
         "Old_Housing": 54.2,
         "Pollutants": 0.458,
         "Price": 36.2,
         "Residential_Area": "Very Low",
         "Residential_Encoded": 1,
         "River": "Far",
         "River_Encoded": 2,
         "Rooms": 7.147,
         "Student_Teacher_Ratio": 18.7,
         "Tax_Rate": 222,
         "_deepnote_index_column": 4
        },
        {
         "Crime_Rate": "Low",
         "Crime_Rate_Encoded": 1,
         "Distance_Office": 6.0622,
         "Highway_Access": "Low",
         "Highway_Access_Encoded": 1,
         "Low_Income": 5.21,
         "Non_Retail": 2.18,
         "Old_Housing": 58.7,
         "Pollutants": 0.458,
         "Price": 28.7,
         "Residential_Area": "Very Low",
         "Residential_Encoded": 1,
         "River": "Far",
         "River_Encoded": 2,
         "Rooms": 6.43,
         "Student_Teacher_Ratio": 18.7,
         "Tax_Rate": 222,
         "_deepnote_index_column": 5
        },
        {
         "Crime_Rate": "Low",
         "Crime_Rate_Encoded": 1,
         "Distance_Office": 5.5605,
         "Highway_Access": "Moderate",
         "Highway_Access_Encoded": 2,
         "Low_Income": 12.43,
         "Non_Retail": 7.87,
         "Old_Housing": 66.6,
         "Pollutants": 0.524,
         "Price": 22.9,
         "Residential_Area": "Very Low",
         "Residential_Encoded": 1,
         "River": "Far",
         "River_Encoded": 2,
         "Rooms": 6.012,
         "Student_Teacher_Ratio": 15.2,
         "Tax_Rate": 311,
         "_deepnote_index_column": 6
        },
        {
         "Crime_Rate": "Low",
         "Crime_Rate_Encoded": 1,
         "Distance_Office": 5.9505,
         "Highway_Access": "Moderate",
         "Highway_Access_Encoded": 2,
         "Low_Income": 19.15,
         "Non_Retail": 7.87,
         "Old_Housing": 96.1,
         "Pollutants": 0.524,
         "Price": 27.1,
         "Residential_Area": "Very Low",
         "Residential_Encoded": 1,
         "River": "Far",
         "River_Encoded": 2,
         "Rooms": 6.172,
         "Student_Teacher_Ratio": 15.2,
         "Tax_Rate": 311,
         "_deepnote_index_column": 7
        },
        {
         "Crime_Rate": "Low",
         "Crime_Rate_Encoded": 1,
         "Distance_Office": 6.0821,
         "Highway_Access": "Moderate",
         "Highway_Access_Encoded": 2,
         "Low_Income": 29.93,
         "Non_Retail": 7.87,
         "Old_Housing": 100,
         "Pollutants": 0.524,
         "Price": 16.5,
         "Residential_Area": "Very Low",
         "Residential_Encoded": 1,
         "River": "Far",
         "River_Encoded": 2,
         "Rooms": 5.631,
         "Student_Teacher_Ratio": 15.2,
         "Tax_Rate": 311,
         "_deepnote_index_column": 8
        },
        {
         "Crime_Rate": "Low",
         "Crime_Rate_Encoded": 1,
         "Distance_Office": 6.5921,
         "Highway_Access": "Moderate",
         "Highway_Access_Encoded": 2,
         "Low_Income": 17.1,
         "Non_Retail": 7.87,
         "Old_Housing": 85.9,
         "Pollutants": 0.524,
         "Price": 18.9,
         "Residential_Area": "Very Low",
         "Residential_Encoded": 1,
         "River": "Far",
         "River_Encoded": 2,
         "Rooms": 6.004,
         "Student_Teacher_Ratio": 15.2,
         "Tax_Rate": 311,
         "_deepnote_index_column": 9
        }
       ]
      },
      "text/html": [
       "<div>\n",
       "<style scoped>\n",
       "    .dataframe tbody tr th:only-of-type {\n",
       "        vertical-align: middle;\n",
       "    }\n",
       "\n",
       "    .dataframe tbody tr th {\n",
       "        vertical-align: top;\n",
       "    }\n",
       "\n",
       "    .dataframe thead th {\n",
       "        text-align: right;\n",
       "    }\n",
       "</style>\n",
       "<table border=\"1\" class=\"dataframe\">\n",
       "  <thead>\n",
       "    <tr style=\"text-align: right;\">\n",
       "      <th></th>\n",
       "      <th>River</th>\n",
       "      <th>Student_Teacher_Ratio</th>\n",
       "      <th>Highway_Access</th>\n",
       "      <th>Low_Income</th>\n",
       "      <th>Crime_Rate</th>\n",
       "      <th>Price</th>\n",
       "      <th>Pollutants</th>\n",
       "      <th>Old_Housing</th>\n",
       "      <th>Residential_Area</th>\n",
       "      <th>Tax_Rate</th>\n",
       "      <th>Distance_Office</th>\n",
       "      <th>Rooms</th>\n",
       "      <th>Non_Retail</th>\n",
       "      <th>Highway_Access_Encoded</th>\n",
       "      <th>Crime_Rate_Encoded</th>\n",
       "      <th>Residential_Encoded</th>\n",
       "      <th>River_Encoded</th>\n",
       "    </tr>\n",
       "  </thead>\n",
       "  <tbody>\n",
       "    <tr>\n",
       "      <th>0</th>\n",
       "      <td>Far</td>\n",
       "      <td>15.3</td>\n",
       "      <td>Low</td>\n",
       "      <td>4.98</td>\n",
       "      <td>Low</td>\n",
       "      <td>24.0</td>\n",
       "      <td>0.538</td>\n",
       "      <td>65.2</td>\n",
       "      <td>Very Low</td>\n",
       "      <td>296</td>\n",
       "      <td>4.0900</td>\n",
       "      <td>6.575</td>\n",
       "      <td>2.31</td>\n",
       "      <td>1</td>\n",
       "      <td>1</td>\n",
       "      <td>1</td>\n",
       "      <td>2</td>\n",
       "    </tr>\n",
       "    <tr>\n",
       "      <th>1</th>\n",
       "      <td>Far</td>\n",
       "      <td>17.8</td>\n",
       "      <td>Low</td>\n",
       "      <td>9.14</td>\n",
       "      <td>Low</td>\n",
       "      <td>21.6</td>\n",
       "      <td>0.469</td>\n",
       "      <td>78.9</td>\n",
       "      <td>Very Low</td>\n",
       "      <td>242</td>\n",
       "      <td>4.9671</td>\n",
       "      <td>6.421</td>\n",
       "      <td>7.07</td>\n",
       "      <td>1</td>\n",
       "      <td>1</td>\n",
       "      <td>1</td>\n",
       "      <td>2</td>\n",
       "    </tr>\n",
       "    <tr>\n",
       "      <th>2</th>\n",
       "      <td>Far</td>\n",
       "      <td>17.8</td>\n",
       "      <td>Low</td>\n",
       "      <td>4.03</td>\n",
       "      <td>Low</td>\n",
       "      <td>34.7</td>\n",
       "      <td>0.469</td>\n",
       "      <td>61.1</td>\n",
       "      <td>Very Low</td>\n",
       "      <td>242</td>\n",
       "      <td>4.9671</td>\n",
       "      <td>7.185</td>\n",
       "      <td>7.07</td>\n",
       "      <td>1</td>\n",
       "      <td>1</td>\n",
       "      <td>1</td>\n",
       "      <td>2</td>\n",
       "    </tr>\n",
       "    <tr>\n",
       "      <th>3</th>\n",
       "      <td>Far</td>\n",
       "      <td>18.7</td>\n",
       "      <td>Low</td>\n",
       "      <td>2.94</td>\n",
       "      <td>Low</td>\n",
       "      <td>33.4</td>\n",
       "      <td>0.458</td>\n",
       "      <td>45.8</td>\n",
       "      <td>Very Low</td>\n",
       "      <td>222</td>\n",
       "      <td>6.0622</td>\n",
       "      <td>6.998</td>\n",
       "      <td>2.18</td>\n",
       "      <td>1</td>\n",
       "      <td>1</td>\n",
       "      <td>1</td>\n",
       "      <td>2</td>\n",
       "    </tr>\n",
       "    <tr>\n",
       "      <th>4</th>\n",
       "      <td>Far</td>\n",
       "      <td>18.7</td>\n",
       "      <td>Low</td>\n",
       "      <td>5.33</td>\n",
       "      <td>Low</td>\n",
       "      <td>36.2</td>\n",
       "      <td>0.458</td>\n",
       "      <td>54.2</td>\n",
       "      <td>Very Low</td>\n",
       "      <td>222</td>\n",
       "      <td>6.0622</td>\n",
       "      <td>7.147</td>\n",
       "      <td>2.18</td>\n",
       "      <td>1</td>\n",
       "      <td>1</td>\n",
       "      <td>1</td>\n",
       "      <td>2</td>\n",
       "    </tr>\n",
       "    <tr>\n",
       "      <th>...</th>\n",
       "      <td>...</td>\n",
       "      <td>...</td>\n",
       "      <td>...</td>\n",
       "      <td>...</td>\n",
       "      <td>...</td>\n",
       "      <td>...</td>\n",
       "      <td>...</td>\n",
       "      <td>...</td>\n",
       "      <td>...</td>\n",
       "      <td>...</td>\n",
       "      <td>...</td>\n",
       "      <td>...</td>\n",
       "      <td>...</td>\n",
       "      <td>...</td>\n",
       "      <td>...</td>\n",
       "      <td>...</td>\n",
       "      <td>...</td>\n",
       "    </tr>\n",
       "    <tr>\n",
       "      <th>501</th>\n",
       "      <td>Far</td>\n",
       "      <td>21.0</td>\n",
       "      <td>Low</td>\n",
       "      <td>9.67</td>\n",
       "      <td>Low</td>\n",
       "      <td>22.4</td>\n",
       "      <td>0.573</td>\n",
       "      <td>69.1</td>\n",
       "      <td>Very Low</td>\n",
       "      <td>273</td>\n",
       "      <td>2.4786</td>\n",
       "      <td>6.593</td>\n",
       "      <td>11.93</td>\n",
       "      <td>1</td>\n",
       "      <td>1</td>\n",
       "      <td>1</td>\n",
       "      <td>2</td>\n",
       "    </tr>\n",
       "    <tr>\n",
       "      <th>502</th>\n",
       "      <td>Far</td>\n",
       "      <td>21.0</td>\n",
       "      <td>Low</td>\n",
       "      <td>9.08</td>\n",
       "      <td>Low</td>\n",
       "      <td>20.6</td>\n",
       "      <td>0.573</td>\n",
       "      <td>76.7</td>\n",
       "      <td>Very Low</td>\n",
       "      <td>273</td>\n",
       "      <td>2.2875</td>\n",
       "      <td>6.120</td>\n",
       "      <td>11.93</td>\n",
       "      <td>1</td>\n",
       "      <td>1</td>\n",
       "      <td>1</td>\n",
       "      <td>2</td>\n",
       "    </tr>\n",
       "    <tr>\n",
       "      <th>503</th>\n",
       "      <td>Far</td>\n",
       "      <td>21.0</td>\n",
       "      <td>Low</td>\n",
       "      <td>5.64</td>\n",
       "      <td>Low</td>\n",
       "      <td>23.9</td>\n",
       "      <td>0.573</td>\n",
       "      <td>91.0</td>\n",
       "      <td>Very Low</td>\n",
       "      <td>273</td>\n",
       "      <td>2.1675</td>\n",
       "      <td>6.976</td>\n",
       "      <td>11.93</td>\n",
       "      <td>1</td>\n",
       "      <td>1</td>\n",
       "      <td>1</td>\n",
       "      <td>2</td>\n",
       "    </tr>\n",
       "    <tr>\n",
       "      <th>504</th>\n",
       "      <td>Far</td>\n",
       "      <td>21.0</td>\n",
       "      <td>Low</td>\n",
       "      <td>6.48</td>\n",
       "      <td>Low</td>\n",
       "      <td>22.0</td>\n",
       "      <td>0.573</td>\n",
       "      <td>89.3</td>\n",
       "      <td>Very Low</td>\n",
       "      <td>273</td>\n",
       "      <td>2.3889</td>\n",
       "      <td>6.794</td>\n",
       "      <td>11.93</td>\n",
       "      <td>1</td>\n",
       "      <td>1</td>\n",
       "      <td>1</td>\n",
       "      <td>2</td>\n",
       "    </tr>\n",
       "    <tr>\n",
       "      <th>505</th>\n",
       "      <td>Far</td>\n",
       "      <td>21.0</td>\n",
       "      <td>Low</td>\n",
       "      <td>7.88</td>\n",
       "      <td>Low</td>\n",
       "      <td>11.9</td>\n",
       "      <td>0.573</td>\n",
       "      <td>80.8</td>\n",
       "      <td>Very Low</td>\n",
       "      <td>273</td>\n",
       "      <td>2.5050</td>\n",
       "      <td>6.030</td>\n",
       "      <td>11.93</td>\n",
       "      <td>1</td>\n",
       "      <td>1</td>\n",
       "      <td>1</td>\n",
       "      <td>2</td>\n",
       "    </tr>\n",
       "  </tbody>\n",
       "</table>\n",
       "<p>433 rows × 17 columns</p>\n",
       "</div>"
      ],
      "text/plain": [
       "    River  Student_Teacher_Ratio Highway_Access  Low_Income Crime_Rate  Price  \\\n",
       "0     Far                   15.3            Low        4.98        Low   24.0   \n",
       "1     Far                   17.8            Low        9.14        Low   21.6   \n",
       "2     Far                   17.8            Low        4.03        Low   34.7   \n",
       "3     Far                   18.7            Low        2.94        Low   33.4   \n",
       "4     Far                   18.7            Low        5.33        Low   36.2   \n",
       "..    ...                    ...            ...         ...        ...    ...   \n",
       "501   Far                   21.0            Low        9.67        Low   22.4   \n",
       "502   Far                   21.0            Low        9.08        Low   20.6   \n",
       "503   Far                   21.0            Low        5.64        Low   23.9   \n",
       "504   Far                   21.0            Low        6.48        Low   22.0   \n",
       "505   Far                   21.0            Low        7.88        Low   11.9   \n",
       "\n",
       "     Pollutants  Old_Housing Residential_Area  Tax_Rate  Distance_Office  \\\n",
       "0         0.538         65.2         Very Low       296           4.0900   \n",
       "1         0.469         78.9         Very Low       242           4.9671   \n",
       "2         0.469         61.1         Very Low       242           4.9671   \n",
       "3         0.458         45.8         Very Low       222           6.0622   \n",
       "4         0.458         54.2         Very Low       222           6.0622   \n",
       "..          ...          ...              ...       ...              ...   \n",
       "501       0.573         69.1         Very Low       273           2.4786   \n",
       "502       0.573         76.7         Very Low       273           2.2875   \n",
       "503       0.573         91.0         Very Low       273           2.1675   \n",
       "504       0.573         89.3         Very Low       273           2.3889   \n",
       "505       0.573         80.8         Very Low       273           2.5050   \n",
       "\n",
       "     Rooms  Non_Retail  Highway_Access_Encoded  Crime_Rate_Encoded  \\\n",
       "0    6.575        2.31                       1                   1   \n",
       "1    6.421        7.07                       1                   1   \n",
       "2    7.185        7.07                       1                   1   \n",
       "3    6.998        2.18                       1                   1   \n",
       "4    7.147        2.18                       1                   1   \n",
       "..     ...         ...                     ...                 ...   \n",
       "501  6.593       11.93                       1                   1   \n",
       "502  6.120       11.93                       1                   1   \n",
       "503  6.976       11.93                       1                   1   \n",
       "504  6.794       11.93                       1                   1   \n",
       "505  6.030       11.93                       1                   1   \n",
       "\n",
       "     Residential_Encoded  River_Encoded  \n",
       "0                      1              2  \n",
       "1                      1              2  \n",
       "2                      1              2  \n",
       "3                      1              2  \n",
       "4                      1              2  \n",
       "..                   ...            ...  \n",
       "501                    1              2  \n",
       "502                    1              2  \n",
       "503                    1              2  \n",
       "504                    1              2  \n",
       "505                    1              2  \n",
       "\n",
       "[433 rows x 17 columns]"
      ]
     },
     "execution_count": 13,
     "metadata": {},
     "output_type": "execute_result"
    }
   ],
   "source": [
    "# removes default warning \n",
    "pd.options.mode.chained_assignment = None\n",
    "\n",
    "# encode categorical variables\n",
    "Highway_encoded = {'Low': 1, 'Moderate': 2, 'High': 3}\n",
    "df1['Highway_Access_Encoded'] = df1['Highway_Access'].map(Highway_encoded)\n",
    "\n",
    "Crime_encoded = {'Low': 1, 'Moderate': 2, 'High': 3}\n",
    "df1['Crime_Rate_Encoded'] = df1['Crime_Rate'].map(Crime_encoded)\n",
    "\n",
    "Residential_encoded = {'Very Low': 1, 'Low': 2, 'Moderate': 3, 'High': 4, 'Very High': 5}\n",
    "df1['Residential_Encoded'] = df1['Residential_Area'].map(Residential_encoded)\n",
    "\n",
    "River_encoded = {'Near': 1, 'Far': 2}\n",
    "df1['River_Encoded'] = df1['River'].map(River_encoded)\n",
    "\n",
    "# check that categorical variables successfully encoded\n",
    "df1"
   ]
  },
  {
   "cell_type": "markdown",
   "metadata": {
    "cell_id": "00044-fbdf2f0a-0697-4795-a062-7dd8c77d2855",
    "deepnote_cell_height": 55.59375,
    "deepnote_cell_type": "markdown"
   },
   "source": [
    "<font color = green size = 3>\n",
    "   [2c] 4% Why ordinal encoding?\n",
    "</font>"
   ]
  },
  {
   "cell_type": "markdown",
   "metadata": {
    "cell_id": "100fdfe57c24498296d4c8274d8e6845",
    "deepnote_cell_type": "text-cell-p",
    "is_collapsed": false,
    "tags": []
   },
   "source": [
    "We opted to use ordinal encoding to transform categorical variables from strings to numerical variables in a meaningful manner, such that they may be plotted in a box plot when finding meaningful relationships between them and price. For example, crime rate has been encoded logically, wherein a higher value of 3 corresponds to a 'high' crime rate, while a lower value of 1 corresponds to a 'low' crime rate. This ensures the categorical variables are represented meaningfully, as opposed to assignment of categorical variables in alphabetical order."
   ]
  },
  {
   "cell_type": "markdown",
   "metadata": {
    "cell_id": "00045-9eed33e1-2ab7-4af6-93aa-9a4b69b16bc3",
    "deepnote_cell_height": 94,
    "deepnote_cell_type": "markdown"
   },
   "source": [
    "### 3.\tExploratory analysis and visualization [50% of Part I]"
   ]
  },
  {
   "cell_type": "markdown",
   "metadata": {
    "cell_id": "00046-5bd6dbc1-f380-42da-bbc2-c2a1194df4eb",
    "deepnote_cell_height": 52.390625,
    "deepnote_cell_type": "markdown"
   },
   "source": [
    "**a.** For each variable, provide relevant summary statistics"
   ]
  },
  {
   "cell_type": "code",
   "execution_count": null,
   "metadata": {
    "cell_id": "00047-575daeb1-d77c-4980-a1a5-97a80a979771",
    "deepnote_cell_height": 607,
    "deepnote_cell_type": "code",
    "deepnote_table_invalid": false,
    "deepnote_table_loading": false,
    "deepnote_table_state": {
     "filters": [],
     "pageIndex": 0,
     "pageSize": 10,
     "sortBy": []
    },
    "deepnote_to_be_reexecuted": false,
    "execution_millis": 456,
    "execution_start": 1650118168061,
    "source_hash": "8ea0f4c4"
   },
   "outputs": [
    {
     "data": {
      "application/vnd.deepnote.dataframe.v3+json": {
       "column_count": 9,
       "columns": [
        {
         "dtype": "float64",
         "name": "Student_Teacher_Ratio",
         "stats": {
          "histogram": [
           {
            "bin_end": 45.040284180823086,
            "bin_start": 1.9336490898034338,
            "count": 7
           },
           {
            "bin_end": 88.14691927184275,
            "bin_start": 45.040284180823086,
            "count": 0
           },
           {
            "bin_end": 131.2535543628624,
            "bin_start": 88.14691927184275,
            "count": 0
           },
           {
            "bin_end": 174.36018945388204,
            "bin_start": 131.2535543628624,
            "count": 0
           },
           {
            "bin_end": 217.4668245449017,
            "bin_start": 174.36018945388204,
            "count": 0
           },
           {
            "bin_end": 260.5734596359214,
            "bin_start": 217.4668245449017,
            "count": 0
           },
           {
            "bin_end": 303.68009472694104,
            "bin_start": 260.5734596359214,
            "count": 0
           },
           {
            "bin_end": 346.7867298179607,
            "bin_start": 303.68009472694104,
            "count": 0
           },
           {
            "bin_end": 389.89336490898035,
            "bin_start": 346.7867298179607,
            "count": 0
           },
           {
            "bin_end": 433,
            "bin_start": 389.89336490898035,
            "count": 1
           }
          ],
          "max": "433.0",
          "min": "1.9336490898034338",
          "nan_count": 0,
          "unique_count": 8
         }
        },
        {
         "dtype": "float64",
         "name": "Low_Income",
         "stats": {
          "histogram": [
           {
            "bin_end": 44.85699999999999,
            "bin_start": 1.73,
            "count": 7
           },
           {
            "bin_end": 87.984,
            "bin_start": 44.85699999999999,
            "count": 0
           },
           {
            "bin_end": 131.11099999999996,
            "bin_start": 87.984,
            "count": 0
           },
           {
            "bin_end": 174.23799999999997,
            "bin_start": 131.11099999999996,
            "count": 0
           },
           {
            "bin_end": 217.36499999999998,
            "bin_start": 174.23799999999997,
            "count": 0
           },
           {
            "bin_end": 260.49199999999996,
            "bin_start": 217.36499999999998,
            "count": 0
           },
           {
            "bin_end": 303.61899999999997,
            "bin_start": 260.49199999999996,
            "count": 0
           },
           {
            "bin_end": 346.746,
            "bin_start": 303.61899999999997,
            "count": 0
           },
           {
            "bin_end": 389.873,
            "bin_start": 346.746,
            "count": 0
           },
           {
            "bin_end": 433,
            "bin_start": 389.873,
            "count": 1
           }
          ],
          "max": "433.0",
          "min": "1.73",
          "nan_count": 0,
          "unique_count": 8
         }
        },
        {
         "dtype": "float64",
         "name": "Price",
         "stats": {
          "histogram": [
           {
            "bin_end": 47.8,
            "bin_start": 5,
            "count": 6
           },
           {
            "bin_end": 90.6,
            "bin_start": 47.8,
            "count": 1
           },
           {
            "bin_end": 133.39999999999998,
            "bin_start": 90.6,
            "count": 0
           },
           {
            "bin_end": 176.2,
            "bin_start": 133.39999999999998,
            "count": 0
           },
           {
            "bin_end": 219,
            "bin_start": 176.2,
            "count": 0
           },
           {
            "bin_end": 261.79999999999995,
            "bin_start": 219,
            "count": 0
           },
           {
            "bin_end": 304.59999999999997,
            "bin_start": 261.79999999999995,
            "count": 0
           },
           {
            "bin_end": 347.4,
            "bin_start": 304.59999999999997,
            "count": 0
           },
           {
            "bin_end": 390.2,
            "bin_start": 347.4,
            "count": 0
           },
           {
            "bin_end": 433,
            "bin_start": 390.2,
            "count": 1
           }
          ],
          "max": "433.0",
          "min": "5.0",
          "nan_count": 0,
          "unique_count": 8
         }
        },
        {
         "dtype": "float64",
         "name": "Pollutants",
         "stats": {
          "histogram": [
           {
            "bin_end": 43.404956442747554,
            "bin_start": 0.1166182697195043,
            "count": 7
           },
           {
            "bin_end": 86.69329461577561,
            "bin_start": 43.404956442747554,
            "count": 0
           },
           {
            "bin_end": 129.98163278880367,
            "bin_start": 86.69329461577561,
            "count": 0
           },
           {
            "bin_end": 173.26997096183172,
            "bin_start": 129.98163278880367,
            "count": 0
           },
           {
            "bin_end": 216.55830913485977,
            "bin_start": 173.26997096183172,
            "count": 0
           },
           {
            "bin_end": 259.8466473078878,
            "bin_start": 216.55830913485977,
            "count": 0
           },
           {
            "bin_end": 303.1349854809159,
            "bin_start": 259.8466473078878,
            "count": 0
           },
           {
            "bin_end": 346.4233236539439,
            "bin_start": 303.1349854809159,
            "count": 0
           },
           {
            "bin_end": 389.7116618269719,
            "bin_start": 346.4233236539439,
            "count": 0
           },
           {
            "bin_end": 433,
            "bin_start": 389.7116618269719,
            "count": 1
           }
          ],
          "max": "433.0",
          "min": "0.1166182697195043",
          "nan_count": 0,
          "unique_count": 8
         }
        },
        {
         "dtype": "float64",
         "name": "Old_Housing",
         "stats": {
          "histogram": [
           {
            "bin_end": 45.910000000000004,
            "bin_start": 2.9,
            "count": 3
           },
           {
            "bin_end": 88.92000000000002,
            "bin_start": 45.910000000000004,
            "count": 2
           },
           {
            "bin_end": 131.93000000000004,
            "bin_start": 88.92000000000002,
            "count": 2
           },
           {
            "bin_end": 174.94000000000003,
            "bin_start": 131.93000000000004,
            "count": 0
           },
           {
            "bin_end": 217.95000000000002,
            "bin_start": 174.94000000000003,
            "count": 0
           },
           {
            "bin_end": 260.96000000000004,
            "bin_start": 217.95000000000002,
            "count": 0
           },
           {
            "bin_end": 303.97,
            "bin_start": 260.96000000000004,
            "count": 0
           },
           {
            "bin_end": 346.98,
            "bin_start": 303.97,
            "count": 0
           },
           {
            "bin_end": 389.99,
            "bin_start": 346.98,
            "count": 0
           },
           {
            "bin_end": 433,
            "bin_start": 389.99,
            "count": 1
           }
          ],
          "max": "433.0",
          "min": "2.9",
          "nan_count": 0,
          "unique_count": 8
         }
        },
        {
         "dtype": "float64",
         "name": "Tax_Rate",
         "stats": {
          "histogram": [
           {
            "bin_end": 223.09848692003985,
            "bin_start": 168.88720768893316,
            "count": 2
           },
           {
            "bin_end": 277.3097661511465,
            "bin_start": 223.09848692003985,
            "count": 0
           },
           {
            "bin_end": 331.5210453822532,
            "bin_start": 277.3097661511465,
            "count": 1
           },
           {
            "bin_end": 385.7323246133599,
            "bin_start": 331.5210453822532,
            "count": 1
           },
           {
            "bin_end": 439.94360384446657,
            "bin_start": 385.7323246133599,
            "count": 2
           },
           {
            "bin_end": 494.15488307557325,
            "bin_start": 439.94360384446657,
            "count": 0
           },
           {
            "bin_end": 548.3661623066799,
            "bin_start": 494.15488307557325,
            "count": 0
           },
           {
            "bin_end": 602.5774415377866,
            "bin_start": 548.3661623066799,
            "count": 0
           },
           {
            "bin_end": 656.7887207688933,
            "bin_start": 602.5774415377866,
            "count": 0
           },
           {
            "bin_end": 711,
            "bin_start": 656.7887207688933,
            "count": 2
           }
          ],
          "max": "711.0",
          "min": "168.88720768893316",
          "nan_count": 0,
          "unique_count": 8
         }
        },
        {
         "dtype": "float64",
         "name": "Distance_Office",
         "stats": {
          "histogram": [
           {
            "bin_end": 44.31664000000001,
            "bin_start": 1.1296,
            "count": 7
           },
           {
            "bin_end": 87.50368,
            "bin_start": 44.31664000000001,
            "count": 0
           },
           {
            "bin_end": 130.69072000000003,
            "bin_start": 87.50368,
            "count": 0
           },
           {
            "bin_end": 173.87776000000002,
            "bin_start": 130.69072000000003,
            "count": 0
           },
           {
            "bin_end": 217.06480000000002,
            "bin_start": 173.87776000000002,
            "count": 0
           },
           {
            "bin_end": 260.25184,
            "bin_start": 217.06480000000002,
            "count": 0
           },
           {
            "bin_end": 303.43888,
            "bin_start": 260.25184,
            "count": 0
           },
           {
            "bin_end": 346.62592,
            "bin_start": 303.43888,
            "count": 0
           },
           {
            "bin_end": 389.81296000000003,
            "bin_start": 346.62592,
            "count": 0
           },
           {
            "bin_end": 433,
            "bin_start": 389.81296000000003,
            "count": 1
           }
          ],
          "max": "433.0",
          "min": "1.1296",
          "nan_count": 0,
          "unique_count": 8
         }
        },
        {
         "dtype": "float64",
         "name": "Rooms",
         "stats": {
          "histogram": [
           {
            "bin_end": 43.761474189541076,
            "bin_start": 0.5127490994900767,
            "count": 7
           },
           {
            "bin_end": 87.01019927959207,
            "bin_start": 43.761474189541076,
            "count": 0
           },
           {
            "bin_end": 130.25892436964307,
            "bin_start": 87.01019927959207,
            "count": 0
           },
           {
            "bin_end": 173.50764945969405,
            "bin_start": 130.25892436964307,
            "count": 0
           },
           {
            "bin_end": 216.75637454974503,
            "bin_start": 173.50764945969405,
            "count": 0
           },
           {
            "bin_end": 260.0050996397961,
            "bin_start": 216.75637454974503,
            "count": 0
           },
           {
            "bin_end": 303.25382472984705,
            "bin_start": 260.0050996397961,
            "count": 0
           },
           {
            "bin_end": 346.50254981989804,
            "bin_start": 303.25382472984705,
            "count": 0
           },
           {
            "bin_end": 389.751274909949,
            "bin_start": 346.50254981989804,
            "count": 0
           },
           {
            "bin_end": 433,
            "bin_start": 389.751274909949,
            "count": 1
           }
          ],
          "max": "433.0",
          "min": "0.5127490994900767",
          "nan_count": 0,
          "unique_count": 8
         }
        },
        {
         "dtype": "float64",
         "name": "Non_Retail",
         "stats": {
          "histogram": [
           {
            "bin_end": 43.966,
            "bin_start": 0.74,
            "count": 7
           },
           {
            "bin_end": 87.192,
            "bin_start": 43.966,
            "count": 0
           },
           {
            "bin_end": 130.418,
            "bin_start": 87.192,
            "count": 0
           },
           {
            "bin_end": 173.644,
            "bin_start": 130.418,
            "count": 0
           },
           {
            "bin_end": 216.87,
            "bin_start": 173.644,
            "count": 0
           },
           {
            "bin_end": 260.096,
            "bin_start": 216.87,
            "count": 0
           },
           {
            "bin_end": 303.322,
            "bin_start": 260.096,
            "count": 0
           },
           {
            "bin_end": 346.548,
            "bin_start": 303.322,
            "count": 0
           },
           {
            "bin_end": 389.774,
            "bin_start": 346.548,
            "count": 0
           },
           {
            "bin_end": 433,
            "bin_start": 389.774,
            "count": 1
           }
          ],
          "max": "433.0",
          "min": "0.74",
          "nan_count": 0,
          "unique_count": 8
         }
        },
        {
         "dtype": "object",
         "name": "_deepnote_index_column"
        }
       ],
       "row_count": 8,
       "rows": [
        {
         "Distance_Office": 433,
         "Low_Income": 433,
         "Non_Retail": 433,
         "Old_Housing": 433,
         "Pollutants": 433,
         "Price": 433,
         "Rooms": 433,
         "Student_Teacher_Ratio": 433,
         "Tax_Rate": 433,
         "_deepnote_index_column": "count"
        },
        {
         "Distance_Office": 3.8220193995381067,
         "Low_Income": 12.796327944572749,
         "Non_Retail": 11.443949191685912,
         "Old_Housing": 68.12748267898382,
         "Pollutants": 0.5547427251732101,
         "Price": 21.320323325635105,
         "Rooms": 6.223715935334873,
         "Student_Teacher_Ratio": 18.644110854503463,
         "Tax_Rate": 412.1270207852194,
         "_deepnote_index_column": "mean"
        },
        {
         "Distance_Office": 2.0180331017048485,
         "Low_Income": 6.544646855027261,
         "Non_Retail": 6.788793895989725,
         "Old_Housing": 28.34788935559303,
         "Pollutants": 0.1166182697195043,
         "Price": 7.580222370848684,
         "Rooms": 0.5127490994900767,
         "Student_Teacher_Ratio": 1.9336490898034338,
         "Tax_Rate": 168.88720768893316,
         "_deepnote_index_column": "std"
        },
        {
         "Distance_Office": 1.1296,
         "Low_Income": 1.73,
         "Non_Retail": 0.74,
         "Old_Housing": 2.9,
         "Pollutants": 0.385,
         "Price": 5,
         "Rooms": 4.88,
         "Student_Teacher_Ratio": 14.7,
         "Tax_Rate": 188,
         "_deepnote_index_column": "min"
        },
        {
         "Distance_Office": 2.1222,
         "Low_Income": 7.53,
         "Non_Retail": 5.64,
         "Old_Housing": 44.4,
         "Pollutants": 0.449,
         "Price": 16.6,
         "Rooms": 5.888,
         "Student_Teacher_Ratio": 17.4,
         "Tax_Rate": 284,
         "_deepnote_index_column": "25%"
        },
        {
         "Distance_Office": 3.2721,
         "Low_Income": 12.01,
         "Non_Retail": 9.9,
         "Old_Housing": 76.7,
         "Pollutants": 0.538,
         "Price": 20.8,
         "Rooms": 6.182,
         "Student_Teacher_Ratio": 19.1,
         "Tax_Rate": 345,
         "_deepnote_index_column": "50%"
        },
        {
         "Distance_Office": 5.2873,
         "Low_Income": 17.09,
         "Non_Retail": 18.1,
         "Old_Housing": 94,
         "Pollutants": 0.624,
         "Price": 24.4,
         "Rooms": 6.525,
         "Student_Teacher_Ratio": 20.2,
         "Tax_Rate": 666,
         "_deepnote_index_column": "75%"
        },
        {
         "Distance_Office": 9.2229,
         "Low_Income": 31.99,
         "Non_Retail": 27.74,
         "Old_Housing": 100,
         "Pollutants": 0.871,
         "Price": 50,
         "Rooms": 7.691,
         "Student_Teacher_Ratio": 21.2,
         "Tax_Rate": 711,
         "_deepnote_index_column": "max"
        }
       ]
      },
      "text/html": [
       "<div>\n",
       "<style scoped>\n",
       "    .dataframe tbody tr th:only-of-type {\n",
       "        vertical-align: middle;\n",
       "    }\n",
       "\n",
       "    .dataframe tbody tr th {\n",
       "        vertical-align: top;\n",
       "    }\n",
       "\n",
       "    .dataframe thead th {\n",
       "        text-align: right;\n",
       "    }\n",
       "</style>\n",
       "<table border=\"1\" class=\"dataframe\">\n",
       "  <thead>\n",
       "    <tr style=\"text-align: right;\">\n",
       "      <th></th>\n",
       "      <th>Student_Teacher_Ratio</th>\n",
       "      <th>Low_Income</th>\n",
       "      <th>Price</th>\n",
       "      <th>Pollutants</th>\n",
       "      <th>Old_Housing</th>\n",
       "      <th>Tax_Rate</th>\n",
       "      <th>Distance_Office</th>\n",
       "      <th>Rooms</th>\n",
       "      <th>Non_Retail</th>\n",
       "    </tr>\n",
       "  </thead>\n",
       "  <tbody>\n",
       "    <tr>\n",
       "      <th>count</th>\n",
       "      <td>433.000000</td>\n",
       "      <td>433.000000</td>\n",
       "      <td>433.000000</td>\n",
       "      <td>433.000000</td>\n",
       "      <td>433.000000</td>\n",
       "      <td>433.000000</td>\n",
       "      <td>433.000000</td>\n",
       "      <td>433.000000</td>\n",
       "      <td>433.000000</td>\n",
       "    </tr>\n",
       "    <tr>\n",
       "      <th>mean</th>\n",
       "      <td>18.644111</td>\n",
       "      <td>12.796328</td>\n",
       "      <td>21.320323</td>\n",
       "      <td>0.554743</td>\n",
       "      <td>68.127483</td>\n",
       "      <td>412.127021</td>\n",
       "      <td>3.822019</td>\n",
       "      <td>6.223716</td>\n",
       "      <td>11.443949</td>\n",
       "    </tr>\n",
       "    <tr>\n",
       "      <th>std</th>\n",
       "      <td>1.933649</td>\n",
       "      <td>6.544647</td>\n",
       "      <td>7.580222</td>\n",
       "      <td>0.116618</td>\n",
       "      <td>28.347889</td>\n",
       "      <td>168.887208</td>\n",
       "      <td>2.018033</td>\n",
       "      <td>0.512749</td>\n",
       "      <td>6.788794</td>\n",
       "    </tr>\n",
       "    <tr>\n",
       "      <th>min</th>\n",
       "      <td>14.700000</td>\n",
       "      <td>1.730000</td>\n",
       "      <td>5.000000</td>\n",
       "      <td>0.385000</td>\n",
       "      <td>2.900000</td>\n",
       "      <td>188.000000</td>\n",
       "      <td>1.129600</td>\n",
       "      <td>4.880000</td>\n",
       "      <td>0.740000</td>\n",
       "    </tr>\n",
       "    <tr>\n",
       "      <th>25%</th>\n",
       "      <td>17.400000</td>\n",
       "      <td>7.530000</td>\n",
       "      <td>16.600000</td>\n",
       "      <td>0.449000</td>\n",
       "      <td>44.400000</td>\n",
       "      <td>284.000000</td>\n",
       "      <td>2.122200</td>\n",
       "      <td>5.888000</td>\n",
       "      <td>5.640000</td>\n",
       "    </tr>\n",
       "    <tr>\n",
       "      <th>50%</th>\n",
       "      <td>19.100000</td>\n",
       "      <td>12.010000</td>\n",
       "      <td>20.800000</td>\n",
       "      <td>0.538000</td>\n",
       "      <td>76.700000</td>\n",
       "      <td>345.000000</td>\n",
       "      <td>3.272100</td>\n",
       "      <td>6.182000</td>\n",
       "      <td>9.900000</td>\n",
       "    </tr>\n",
       "    <tr>\n",
       "      <th>75%</th>\n",
       "      <td>20.200000</td>\n",
       "      <td>17.090000</td>\n",
       "      <td>24.400000</td>\n",
       "      <td>0.624000</td>\n",
       "      <td>94.000000</td>\n",
       "      <td>666.000000</td>\n",
       "      <td>5.287300</td>\n",
       "      <td>6.525000</td>\n",
       "      <td>18.100000</td>\n",
       "    </tr>\n",
       "    <tr>\n",
       "      <th>max</th>\n",
       "      <td>21.200000</td>\n",
       "      <td>31.990000</td>\n",
       "      <td>50.000000</td>\n",
       "      <td>0.871000</td>\n",
       "      <td>100.000000</td>\n",
       "      <td>711.000000</td>\n",
       "      <td>9.222900</td>\n",
       "      <td>7.691000</td>\n",
       "      <td>27.740000</td>\n",
       "    </tr>\n",
       "  </tbody>\n",
       "</table>\n",
       "</div>"
      ],
      "text/plain": [
       "       Student_Teacher_Ratio  Low_Income       Price  Pollutants  Old_Housing  \\\n",
       "count             433.000000  433.000000  433.000000  433.000000   433.000000   \n",
       "mean               18.644111   12.796328   21.320323    0.554743    68.127483   \n",
       "std                 1.933649    6.544647    7.580222    0.116618    28.347889   \n",
       "min                14.700000    1.730000    5.000000    0.385000     2.900000   \n",
       "25%                17.400000    7.530000   16.600000    0.449000    44.400000   \n",
       "50%                19.100000   12.010000   20.800000    0.538000    76.700000   \n",
       "75%                20.200000   17.090000   24.400000    0.624000    94.000000   \n",
       "max                21.200000   31.990000   50.000000    0.871000   100.000000   \n",
       "\n",
       "         Tax_Rate  Distance_Office       Rooms  Non_Retail  \n",
       "count  433.000000       433.000000  433.000000  433.000000  \n",
       "mean   412.127021         3.822019    6.223716   11.443949  \n",
       "std    168.887208         2.018033    0.512749    6.788794  \n",
       "min    188.000000         1.129600    4.880000    0.740000  \n",
       "25%    284.000000         2.122200    5.888000    5.640000  \n",
       "50%    345.000000         3.272100    6.182000    9.900000  \n",
       "75%    666.000000         5.287300    6.525000   18.100000  \n",
       "max    711.000000         9.222900    7.691000   27.740000  "
      ]
     },
     "execution_count": 14,
     "metadata": {},
     "output_type": "execute_result"
    }
   ],
   "source": [
    "# generate 5 number summary following removal of outliers and encoding\n",
    "df2 = df1.copy(deep=True)\n",
    "cols = set(df2.columns) - {'ID', 'Residential_Encoded', 'River_Encoded', 'Crime_Rate_Encoded', 'Highway_Access_Encoded'}\n",
    "df2 = df2[list(cols)]\n",
    "df2.describe()"
   ]
  },
  {
   "cell_type": "code",
   "execution_count": null,
   "metadata": {
    "cell_id": "424304687d3145cba56df308ff0aec5f",
    "deepnote_cell_height": 193.75,
    "deepnote_cell_type": "code",
    "deepnote_output_heights": [
     78.75
    ],
    "deepnote_to_be_reexecuted": false,
    "execution_millis": 401,
    "execution_start": 1650118168116,
    "source_hash": "91bf40c4",
    "tags": []
   },
   "outputs": [
    {
     "data": {
      "text/plain": [
       "Moderate    0.488142\n",
       "High        0.223320\n",
       "Low         0.144269\n",
       "Name: Highway_Access, dtype: float64"
      ]
     },
     "execution_count": 15,
     "metadata": {},
     "output_type": "execute_result"
    }
   ],
   "source": [
    "# Percentage of distribution of Highway Access Proximity\n",
    "df1.Highway_Access.value_counts()/n_rows"
   ]
  },
  {
   "cell_type": "code",
   "execution_count": null,
   "metadata": {
    "cell_id": "ecfaae896b3e4d2983774fbc57126230",
    "deepnote_cell_height": 232.125,
    "deepnote_cell_type": "code",
    "deepnote_output_heights": [
     117.125
    ],
    "deepnote_to_be_reexecuted": false,
    "execution_millis": 396,
    "execution_start": 1650118168123,
    "source_hash": "d19f1a2b",
    "tags": []
   },
   "outputs": [
    {
     "data": {
      "text/plain": [
       "Very Low     0.677866\n",
       "Low          0.088933\n",
       "Very High    0.037549\n",
       "Moderate     0.035573\n",
       "High         0.015810\n",
       "Name: Residential_Area, dtype: float64"
      ]
     },
     "execution_count": 16,
     "metadata": {},
     "output_type": "execute_result"
    }
   ],
   "source": [
    "# Percentage of area that is allocated to residential areas\n",
    "df1.Residential_Area.value_counts()/n_rows"
   ]
  },
  {
   "cell_type": "code",
   "execution_count": null,
   "metadata": {
    "cell_id": "c0dddddaf1f64c7bb511548a267443ce",
    "deepnote_cell_height": 193.75,
    "deepnote_cell_type": "code",
    "deepnote_output_heights": [
     78.75
    ],
    "deepnote_to_be_reexecuted": false,
    "execution_millis": 389,
    "execution_start": 1650118168131,
    "source_hash": "a3a599cc",
    "tags": []
   },
   "outputs": [
    {
     "data": {
      "text/plain": [
       "Low         0.648221\n",
       "Moderate    0.179842\n",
       "High        0.027668\n",
       "Name: Crime_Rate, dtype: float64"
      ]
     },
     "execution_count": 17,
     "metadata": {},
     "output_type": "execute_result"
    }
   ],
   "source": [
    "# Percentage of distribution of Crime Rates in different towns\n",
    "df1.Crime_Rate.value_counts()/n_rows"
   ]
  },
  {
   "cell_type": "markdown",
   "metadata": {
    "cell_id": "00048-1db23f19-e42b-4a89-be60-beacaf3e2e49",
    "deepnote_cell_height": 81.1875,
    "deepnote_cell_type": "markdown"
   },
   "source": [
    "<font color = green size = 3>\n",
    "   [3a] 8% Most of the measures like mean, std, min, max do not apply for categorical variables\n",
    "</font>"
   ]
  },
  {
   "cell_type": "markdown",
   "metadata": {
    "cell_id": "00049-300824ad-468b-453c-9059-98442de51cbe",
    "deepnote_cell_height": 74.78125,
    "deepnote_cell_type": "markdown"
   },
   "source": [
    "**b.** For each variable, provide an appropriate visualisation depicting the distribution of its values, and summarize any key observation(s) you made."
   ]
  },
  {
   "cell_type": "code",
   "execution_count": null,
   "metadata": {
    "cell_id": "00050-9665b850-0298-4c86-8792-44a22e7046e0",
    "deepnote_cell_height": 249.078125,
    "deepnote_cell_type": "code",
    "deepnote_output_heights": [
     80.078125
    ],
    "deepnote_to_be_reexecuted": false,
    "execution_millis": 4951,
    "execution_start": 1650118168193,
    "scrolled": true,
    "source_hash": "772cc951"
   },
   "outputs": [
    {
     "data": {
      "image/png": "[encoded data removed]",
      "text/plain": [
       "<Figure size 2160x7200 with 180 Axes>"
      ]
     },
     "metadata": {
      "image/png": {
       "height": 260,
       "width": 1708
      },
      "needs_background": "light"
     },
     "output_type": "display_data"
    }
   ],
   "source": [
    "# plot box plots for numerical data fields\n",
    "df_numerics = df1[[\"Non_Retail\",\"Pollutants\",\"Rooms\",\"Old_Housing\",\"Distance_Office\",\"Tax_Rate\",\"Student_Teacher_Ratio\", \"Low_Income\", \"Price\"]]\n",
    "df_numerics.plot(kind='box', subplots=True, layout=(20, 9), figsize=(30, 100))\n",
    "\n",
    "plt.show()"
   ]
  },
  {
   "cell_type": "markdown",
   "metadata": {
    "cell_id": "00051-4cd5e806-9fa8-472c-8288-60319204181c",
    "deepnote_cell_height": 312.6875,
    "deepnote_cell_type": "markdown"
   },
   "source": [
    "After cleaning up the dataset, the plots of the variables has significantly fewer extreme outliers within the datapoint, only Rooms and Price contains outliers. However, there is no need to further remove outliers from Room. This is because outliers are values that are larger than the boundary of (upper quartile + 1.5* IQR) and values that are smaller than (lower quartile + 1.5 * IQR), but the difference between the extreme values and the boundary values are not significant.  \n",
    "\n",
    "From the boxplot, it is slightly harder to describe the distribution of its values, but we can generally tell the skewness of the datapoints. For 'Non Retail', 'Pollutants', 'Tax_Rate', 'Low Income' and 'Distance Office', the boxplot is slightly positive-skewed. For 'Old Housing' and 'Student Teacher Ratio', it is skewed negatively in the boxplot."
   ]
  },
  {
   "cell_type": "code",
   "execution_count": null,
   "metadata": {
    "cell_id": "00052-6865466f-eeb4-481a-a4ab-0f8339cbebd5",
    "deepnote_cell_height": 2746,
    "deepnote_cell_type": "code",
    "deepnote_output_heights": [
     231,
     231,
     231,
     231,
     231,
     231,
     231
    ],
    "deepnote_to_be_reexecuted": false,
    "execution_millis": 2130,
    "execution_start": 1650118173157,
    "source_hash": "1c337930"
   },
   "outputs": [
    {
     "data": {
      "image/png": "[encoded data removed]",
      "text/plain": [
       "<Figure size 360x216 with 1 Axes>"
      ]
     },
     "metadata": {
      "image/png": {
       "height": 229,
       "width": 336
      },
      "needs_background": "light"
     },
     "output_type": "display_data"
    },
    {
     "data": {
      "image/png": "[encoded data removed]",
      "text/plain": [
       "<Figure size 360x216 with 1 Axes>"
      ]
     },
     "metadata": {
      "image/png": {
       "height": 229,
       "width": 330
      },
      "needs_background": "light"
     },
     "output_type": "display_data"
    },
    {
     "data": {
      "image/png": "[encoded data removed]",
      "text/plain": [
       "<Figure size 360x216 with 1 Axes>"
      ]
     },
     "metadata": {
      "image/png": {
       "height": 229,
       "width": 330
      },
      "needs_background": "light"
     },
     "output_type": "display_data"
    },
    {
     "data": {
      "image/png": "[encoded data removed]",
      "text/plain": [
       "<Figure size 360x216 with 1 Axes>"
      ]
     },
     "metadata": {
      "image/png": {
       "height": 229,
       "width": 336
      },
      "needs_background": "light"
     },
     "output_type": "display_data"
    },
    {
     "data": {
      "image/png": "[encoded data removed]",
      "text/plain": [
       "<Figure size 360x216 with 1 Axes>"
      ]
     },
     "metadata": {
      "image/png": {
       "height": 229,
       "width": 336
      },
      "needs_background": "light"
     },
     "output_type": "display_data"
    },
    {
     "data": {
      "image/png": "[encoded data removed]",
      "text/plain": [
       "<Figure size 360x216 with 1 Axes>"
      ]
     },
     "metadata": {
      "image/png": {
       "height": 229,
       "width": 336
      },
      "needs_background": "light"
     },
     "output_type": "display_data"
    },
    {
     "data": {
      "image/png": "[encoded data removed]",
      "text/plain": [
       "<Figure size 360x216 with 1 Axes>"
      ]
     },
     "metadata": {
      "image/png": {
       "height": 229,
       "width": 330
      },
      "needs_background": "light"
     },
     "output_type": "display_data"
    }
   ],
   "source": [
    "plt.figure(figsize=(5,3))\n",
    "plt.title(\"Distribution of Non Retail Business\", fontsize=15)\n",
    "plt.xlabel(\"% of Non Retail Business\", fontsize=12)\n",
    "plt.ylabel(\"Towns\", fontsize=12)\n",
    "df1[\"Non_Retail\"].hist(bins=25)\n",
    "plt.show()\n",
    "\n",
    "plt.figure(figsize=(5,3))\n",
    "plt.title(\"Distribution of Pollutants\", fontsize=15)\n",
    "plt.xlabel(\"Pollutants (Parts per 10 million)\", fontsize=12)\n",
    "plt.ylabel(\"Towns\", fontsize=12)\n",
    "df1[\"Pollutants\"].hist(bins=10)\n",
    "plt.show()\n",
    "\n",
    "plt.figure(figsize=(5,3))\n",
    "plt.title(\"Distribution of Old Housing\", fontsize=15)\n",
    "plt.xlabel(\"% of Old Housing\", fontsize=12)\n",
    "plt.ylabel(\"Towns\", fontsize=12)\n",
    "df1[\"Old_Housing\"].hist(bins=100)\n",
    "plt.show()\n",
    "\n",
    "plt.figure(figsize=(5,3))\n",
    "plt.title(\"Distribution of Distance to Office\", fontsize=15)\n",
    "plt.xlabel(\"Distance to Office\", fontsize=12)\n",
    "plt.ylabel(\"Towns\", fontsize=12)\n",
    "df1[\"Distance_Office\"].hist(bins=9)\n",
    "plt.show()\n",
    "\n",
    "plt.figure(figsize=(5,3))\n",
    "plt.title(\"Distribution of Tax Rate\", fontsize=15)\n",
    "plt.xlabel(\"Tax Rate ($10,000)\", fontsize=12)\n",
    "plt.ylabel(\"Towns\", fontsize=12)\n",
    "df1[\"Tax_Rate\"].hist(bins=100)\n",
    "plt.show()\n",
    "\n",
    "plt.figure(figsize=(5,3))\n",
    "plt.title(\"Distribution of Student-Teacher Ratio\", fontsize=15)\n",
    "plt.xlabel(\"Student-Teacher Ratio\", fontsize=12)\n",
    "plt.ylabel(\"Towns\", fontsize=12)\n",
    "df1[\"Student_Teacher_Ratio\"].hist(bins=20)\n",
    "plt.show()\n",
    "\n",
    "plt.figure(figsize=(5,3))\n",
    "plt.title(\"Distribution of Low Income\", fontsize=15)\n",
    "plt.xlabel(\"% of Low Income household\", fontsize=12)\n",
    "plt.ylabel(\"Towns\", fontsize=12)\n",
    "df1[\"Low_Income\"].hist(bins=30)\n",
    "plt.show()"
   ]
  },
  {
   "cell_type": "markdown",
   "metadata": {
    "cell_id": "00053-a5cb14d1-5fde-4804-bd7f-67539f56aa6c",
    "deepnote_cell_height": 74.78125,
    "deepnote_cell_type": "markdown"
   },
   "source": [
    "Furthermore, by plotting histogram of each data set, we are able to identify the bimodal distribution of tax rates."
   ]
  },
  {
   "cell_type": "code",
   "execution_count": null,
   "metadata": {
    "cell_id": "00054-dbec66cf-31b5-48d6-858b-a7bcb2f407ab",
    "deepnote_cell_height": 1708,
    "deepnote_cell_type": "code",
    "deepnote_output_heights": [
     249,
     249,
     249,
     249
    ],
    "deepnote_to_be_reexecuted": false,
    "execution_millis": 1231,
    "execution_start": 1650118175298,
    "source_hash": "113d352c"
   },
   "outputs": [
    {
     "data": {
      "image/png": "[encoded data removed]",
      "text/plain": [
       "<Figure size 432x288 with 1 Axes>"
      ]
     },
     "metadata": {
      "image/png": {
       "height": 247,
       "width": 275
      }
     },
     "output_type": "display_data"
    },
    {
     "data": {
      "image/png": "[encoded data removed]",
      "text/plain": [
       "<Figure size 432x288 with 1 Axes>"
      ]
     },
     "metadata": {
      "image/png": {
       "height": 247,
       "width": 241
      }
     },
     "output_type": "display_data"
    },
    {
     "data": {
      "image/png": "[encoded data removed]",
      "text/plain": [
       "<Figure size 432x288 with 1 Axes>"
      ]
     },
     "metadata": {
      "image/png": {
       "height": 247,
       "width": 261
      }
     },
     "output_type": "display_data"
    },
    {
     "data": {
      "image/png": "[encoded data removed]",
      "text/plain": [
       "<Figure size 432x288 with 1 Axes>"
      ]
     },
     "metadata": {
      "image/png": {
       "height": 247,
       "width": 241
      }
     },
     "output_type": "display_data"
    }
   ],
   "source": [
    "# Plot Pie Chart for categorical data\n",
    "# proportion of residential areas\n",
    "residentialarea= df1['Residential_Area'].value_counts(normalize='index')\n",
    "mylabels = [\"Very Low\", \"Low\", \"Very High\", \"Moderate\", \"High\"]\n",
    "plt.title('Distribution of Residential Area')\n",
    "plt.pie(residentialarea, labels = mylabels, autopct='%.1f%%')\n",
    "plt.show()\n",
    "\n",
    "# crime rates\n",
    "crime = df1['Crime_Rate'].value_counts(normalize='index')\n",
    "mylabels = [\"Low\", \"Moderate\", \"High\"]\n",
    "plt.title('Distribution of Crime Rates')\n",
    "plt.pie(crime, labels = mylabels, autopct='%.1f%%')\n",
    "plt.show()\n",
    "\n",
    "\n",
    "# Highway Access\n",
    "highway = df1['Highway_Access'].value_counts(normalize='index')\n",
    "mylabels = [\"Low\", \"Moderate\", \"High\"]\n",
    "plt.title('Distribution of Highway Access Proximity')\n",
    "plt.pie(highway, labels = mylabels, autopct='%.1f%%')\n",
    "plt.show()\n",
    "\n",
    "\n",
    "# Proximity to bridges\n",
    "river = df1['River'].value_counts(normalize='index')\n",
    "mylabels = [\"Far\", \"Near\"]\n",
    "plt.title('Distribution of River Proximity')\n",
    "plt.pie(river, labels = mylabels, autopct='%.1f%%')\n",
    "plt.show()"
   ]
  },
  {
   "cell_type": "markdown",
   "metadata": {
    "cell_id": "00055-6d20322b-a859-420a-9ce5-649a0c352667",
    "deepnote_cell_height": 97.171875,
    "deepnote_cell_type": "markdown"
   },
   "source": [
    "78.8% of the towns have a very low proportion of residential areas.\n",
    "75.4% of the towns have low crime rates. \n",
    "56.8% of the towns has a moderate distance to access the major highway.\n",
    "93.8% of the towns are far away from bridge.  \n",
    "\n"
   ]
  },
  {
   "cell_type": "markdown",
   "metadata": {
    "cell_id": "00056-9d0d49cd-d659-4ea8-9866-92dd683edf30",
    "deepnote_cell_height": 46,
    "deepnote_cell_type": "markdown"
   },
   "source": [
    "<observations>"
   ]
  },
  {
   "cell_type": "markdown",
   "metadata": {
    "cell_id": "00057-8fad6525-3eaa-42db-a4eb-93e33a46db18",
    "deepnote_cell_height": 58.796875,
    "deepnote_cell_type": "markdown"
   },
   "source": [
    "<font color=red size=4>\n",
    "    [3b] 20%\n",
    "</font>"
   ]
  },
  {
   "cell_type": "markdown",
   "metadata": {
    "cell_id": "00058-9316fa8e-44cd-451c-9970-7176ca2b4322",
    "deepnote_cell_height": 119.5625,
    "deepnote_cell_type": "markdown"
   },
   "source": [
    "**c.** Perform bi-variate analysis on the variables. You do not need to present the analysis of every pair of variables; only focus on the pairs you believe are worth investigating and explain. For each pair, describe the relationship between the two variables. Use appropriate statistical methods and/or visualizations."
   ]
  },
  {
   "cell_type": "markdown",
   "metadata": {
    "cell_id": "00059-33c9be0f-fa67-4ded-9870-24fc5a1683d5",
    "deepnote_cell_height": 62,
    "deepnote_cell_type": "markdown"
   },
   "source": [
    "### Pollutants & Price"
   ]
  },
  {
   "cell_type": "code",
   "execution_count": null,
   "metadata": {
    "cell_id": "00060-e85417d1-90a9-4932-b0b1-b462ea161c85",
    "deepnote_cell_height": 717.1875,
    "deepnote_cell_type": "code",
    "deepnote_output_heights": [
     340
    ],
    "deepnote_to_be_reexecuted": false,
    "execution_millis": 519,
    "execution_start": 1650118176014,
    "source_hash": "159e1f3a"
   },
   "outputs": [
    {
     "data": {
      "image/png": "[encoded data removed]",
      "text/plain": [
       "<Figure size 576x360 with 1 Axes>"
      ]
     },
     "metadata": {
      "image/png": {
       "height": 338,
       "width": 497
      },
      "needs_background": "light"
     },
     "output_type": "display_data"
    },
    {
     "name": "stdout",
     "output_type": "stream",
     "text": [
      "Correlation Coefficient = -0.5077488145699018\n"
     ]
    }
   ],
   "source": [
    "# pollutants & price\n",
    "xs = df1.Pollutants\n",
    "ys = df1.Price\n",
    "\n",
    "plt.figure(figsize=(8,5))\n",
    "plt.scatter(xs, ys)\n",
    "plt.title(\"Plot of pollutants against median housing prices\", fontsize=15)\n",
    "plt.ylabel(\"Median House Price ($)\", fontsize=12)\n",
    "plt.xlabel(\"Pollutants (parts per 10 million)\", fontsize=12)\n",
    "plt.show()\n",
    "\n",
    "# find corr coef\n",
    "corr = np.corrcoef(xs, ys)\n",
    "print(\"Correlation Coefficient = \" + str(corr[0][1]))"
   ]
  },
  {
   "cell_type": "markdown",
   "metadata": {
    "cell_id": "00061-68e33764-8fc6-499b-9393-ba4ddefda1ce",
    "deepnote_cell_height": 200.734375,
    "deepnote_cell_type": "markdown"
   },
   "source": [
    "We opted to investigate the relationship between median house prices and pollution level since we hypothesized that a greater pollution level in a town would decrease demand for housing and thus suppress pricing.\n",
    "\n",
    "From both the shape of the scatter plot and the correlation coefficient calculated of -0.506,\n",
    "we may infer that there is a moderate negative correlation between median housing price and pollutants, as such as the level of pollutants increase, median house prices decreases."
   ]
  },
  {
   "cell_type": "markdown",
   "metadata": {
    "cell_id": "00062-34fee65a-eda0-4f41-b57d-8b47ce7a4123",
    "deepnote_cell_height": 62,
    "deepnote_cell_type": "markdown"
   },
   "source": [
    "### Rooms & Price"
   ]
  },
  {
   "cell_type": "code",
   "execution_count": null,
   "metadata": {
    "cell_id": "00063-7f51c2e7-df0f-4c1a-86a2-f53867efeb82",
    "deepnote_cell_height": 717.1875,
    "deepnote_cell_type": "code",
    "deepnote_output_heights": [
     340
    ],
    "deepnote_to_be_reexecuted": false,
    "execution_millis": 352,
    "execution_start": 1650118176182,
    "source_hash": "2dfb48eb"
   },
   "outputs": [
    {
     "data": {
      "image/png": "[encoded data removed]",
      "text/plain": [
       "<Figure size 576x360 with 1 Axes>"
      ]
     },
     "metadata": {
      "image/png": {
       "height": 338,
       "width": 497
      },
      "needs_background": "light"
     },
     "output_type": "display_data"
    },
    {
     "name": "stdout",
     "output_type": "stream",
     "text": [
      "Correlation Coefficient = 0.5736168916385351\n"
     ]
    }
   ],
   "source": [
    "# rooms & price\n",
    "xs = df1.Rooms\n",
    "ys = df1.Price\n",
    "\n",
    "plt.figure(figsize=(8,5))\n",
    "plt.scatter(xs, ys)\n",
    "plt.title(\"Plot of rooms against median housing prices\", fontsize=15)\n",
    "plt.ylabel(\"Median Price ($)\", fontsize=12)\n",
    "plt.xlabel(\"Number of Rooms\", fontsize=12)\n",
    "plt.show()\n",
    "\n",
    "# find corr coef\n",
    "corr = np.corrcoef(xs, ys)\n",
    "print(\"Correlation Coefficient = \" + str(corr[0][1]))"
   ]
  },
  {
   "cell_type": "markdown",
   "metadata": {
    "cell_id": "00064-ace8a256-4ce3-4a22-932e-c6e70f653706",
    "deepnote_cell_height": 200.734375,
    "deepnote_cell_type": "markdown"
   },
   "source": [
    "We opted to investigate the relationship between median house prices and number of rooms since we hypothesized that houses with more rooms would be more desirable and thus fetch greater prices.\n",
    "\n",
    "From both the shape of the scatter plot and the correlation coefficient calculated of 0.572,\n",
    "we may infer that there is a moderate positive correlation between median housing price and number of rooms, as such as the median number of rooms increase, median house prices increases."
   ]
  },
  {
   "cell_type": "markdown",
   "metadata": {
    "cell_id": "00065-f1fe445b-b931-44ea-92b7-18902a36fbca",
    "deepnote_cell_height": 62,
    "deepnote_cell_type": "markdown"
   },
   "source": [
    "### Old Housing Percentage & Price"
   ]
  },
  {
   "cell_type": "code",
   "execution_count": null,
   "metadata": {
    "cell_id": "00066-4940e65d-41b0-4bf6-8933-fb4a6b953254",
    "deepnote_cell_height": 714.5625,
    "deepnote_cell_type": "code",
    "deepnote_output_heights": [
     337.375
    ],
    "deepnote_to_be_reexecuted": false,
    "execution_millis": 204,
    "execution_start": 1650118176416,
    "source_hash": "cb143a6b"
   },
   "outputs": [
    {
     "data": {
      "image/png": "[encoded data removed]",
      "text/plain": [
       "<Figure size 576x360 with 1 Axes>"
      ]
     },
     "metadata": {
      "image/png": {
       "height": 338,
       "width": 517
      },
      "needs_background": "light"
     },
     "output_type": "display_data"
    },
    {
     "name": "stdout",
     "output_type": "stream",
     "text": [
      "Correlation Coefficient = -0.4763732437295467\n"
     ]
    }
   ],
   "source": [
    "# old housing perc & price\n",
    "xs = df1.Old_Housing\n",
    "ys = df1.Price\n",
    "\n",
    "plt.figure(figsize=(8,5))\n",
    "plt.scatter(xs, ys)\n",
    "plt.title(\"Plot of percentage of old housing against median housing prices\", fontsize=15)\n",
    "plt.ylabel(\"Median Price ($)\", fontsize=12)\n",
    "plt.xlabel(\"Percentage of old housing\", fontsize=12)\n",
    "plt.show()\n",
    "\n",
    "# find corr coef\n",
    "corr = np.corrcoef(xs, ys)\n",
    "print(\"Correlation Coefficient = \" + str(corr[0][1]))"
   ]
  },
  {
   "cell_type": "markdown",
   "metadata": {
    "cell_id": "00067-52ece832-179f-4881-8ed3-514f168e7294",
    "deepnote_cell_height": 200.734375,
    "deepnote_cell_type": "markdown"
   },
   "source": [
    "We opted to investigate the relationship between percentage of old housing and median house prices since we hypothesized that older housing would be less desirable and thus suppress pricing.\n",
    "\n",
    "From both the shape of the scatter plot and the correlation coefficient calculated of -0.479,\n",
    "we may infer that there is a moderate negative correlation between median housing price and percentage of old housing, as such as the percentage of old housing increases, median house prices decreases."
   ]
  },
  {
   "cell_type": "markdown",
   "metadata": {
    "cell_id": "00068-3fefc8c8-5bee-452b-a60f-28c34e6851cc",
    "deepnote_cell_height": 62,
    "deepnote_cell_type": "markdown"
   },
   "source": [
    "### Distance & Price"
   ]
  },
  {
   "cell_type": "code",
   "execution_count": null,
   "metadata": {
    "cell_id": "00069-fb681697-849a-4cc0-8bde-9e7892a0b932",
    "deepnote_cell_height": 717.1875,
    "deepnote_cell_type": "code",
    "deepnote_output_heights": [
     340
    ],
    "deepnote_to_be_reexecuted": false,
    "execution_millis": 218,
    "execution_start": 1650118176623,
    "source_hash": "1a8b0eda"
   },
   "outputs": [
    {
     "data": {
      "image/png": "[encoded data removed]",
      "text/plain": [
       "<Figure size 576x360 with 1 Axes>"
      ]
     },
     "metadata": {
      "image/png": {
       "height": 338,
       "width": 507
      },
      "needs_background": "light"
     },
     "output_type": "display_data"
    },
    {
     "name": "stdout",
     "output_type": "stream",
     "text": [
      "Correlation Coefficient = 0.3560007605943892\n"
     ]
    }
   ],
   "source": [
    "# distance & price\n",
    "xs = df1.Distance_Office\n",
    "ys = df1.Price\n",
    "\n",
    "plt.figure(figsize=(8,5))\n",
    "plt.scatter(xs, ys)\n",
    "plt.title(\"Plot of distance to office areas against median housing prices\", fontsize=15)\n",
    "plt.ylabel(\"Median Price ($)\", fontsize=12)\n",
    "plt.xlabel(\"Distance to Major Office Areas\", fontsize=12)\n",
    "plt.show()\n",
    "\n",
    "# find corr coef\n",
    "corr = np.corrcoef(xs, ys)\n",
    "print(\"Correlation Coefficient = \" + str(corr[0][1]))"
   ]
  },
  {
   "cell_type": "markdown",
   "metadata": {
    "cell_id": "00070-19a41822-eb8a-4ecd-a96c-70546f29aa7a",
    "deepnote_cell_height": 245.515625,
    "deepnote_cell_type": "markdown"
   },
   "source": [
    "We chose to investigate the relationship between distance to major office areas and median house prices since we hypothesized that closer proximity to office areas would result in a greater demand due to the greater ease of commuting to work.\n",
    "\n",
    "From both the shape of the scatter plot and the correlation coefficient calculated of 0.354,\n",
    "we may infer that there is a weak positive correlation between median housing price and distance to major office areas. This implies that the distance to major office areas is a weak determinant of house prices which may be more greatly affected by other metrics."
   ]
  },
  {
   "cell_type": "markdown",
   "metadata": {
    "cell_id": "00071-3d34102f-58f0-441c-9b2d-4bcc74ee7217",
    "deepnote_cell_height": 62,
    "deepnote_cell_type": "markdown"
   },
   "source": [
    "### Student Teacher Ratio & Price"
   ]
  },
  {
   "cell_type": "code",
   "execution_count": null,
   "metadata": {
    "cell_id": "00072-c94401e7-47a2-4f03-bf77-cdda7731aca4",
    "deepnote_cell_height": 809.375,
    "deepnote_cell_type": "code",
    "deepnote_output_heights": [
     340
    ],
    "deepnote_to_be_reexecuted": false,
    "execution_millis": 200,
    "execution_start": 1650118176845,
    "source_hash": "4470250f"
   },
   "outputs": [
    {
     "data": {
      "image/png": "[encoded data removed]",
      "text/plain": [
       "<Figure size 576x360 with 1 Axes>"
      ]
     },
     "metadata": {
      "image/png": {
       "height": 338,
       "width": 501
      },
      "needs_background": "light"
     },
     "output_type": "display_data"
    },
    {
     "name": "stdout",
     "output_type": "stream",
     "text": [
      "Correlation Coefficient = -0.40016801679239294\n",
      "Covariance = -5.865458739628774\n"
     ]
    }
   ],
   "source": [
    "# Stu-Teacher Ratio & price\n",
    "xs = df1.Student_Teacher_Ratio\n",
    "ys = df1.Price\n",
    "\n",
    "plt.figure(figsize=(8,5))\n",
    "plt.scatter(xs, ys)\n",
    "plt.title(\"Plot of Student Teacher Ratio against median housing prices\", fontsize=15)\n",
    "plt.ylabel(\"Median Price ($)\", fontsize=12)\n",
    "plt.xlabel(\"Student to Teacher Ratio\", fontsize=12)\n",
    "plt.show()\n",
    "\n",
    "# find corr coef\n",
    "corr = np.corrcoef(xs, ys)\n",
    "print(\"Correlation Coefficient = \" + str(corr[0][1]))\n",
    "\n",
    "# find covariance\n",
    "cov = np.cov(xs, ys)\n",
    "print(\"Covariance = \" + str(cov[0][1]))"
   ]
  },
  {
   "cell_type": "markdown",
   "metadata": {
    "cell_id": "00073-82bf53a1-df23-47c5-a532-5f82e8e803bc",
    "deepnote_cell_height": 200.734375,
    "deepnote_cell_type": "markdown"
   },
   "source": [
    "Our team decided to analyse this pair because we feel that having a low student to teacher ratio is important for a child's education, and it would play a factor in deciding a house's price. \n",
    "\n",
    "From both the shape of the scatter plot and the correlation coefficient calculated of -0.400. \n",
    "We may infer that there is a weak negative correlation between median housing price and student to teacher ratio. This means that as the student to teacher ratio increases, the median house prices decrease."
   ]
  },
  {
   "cell_type": "markdown",
   "metadata": {
    "cell_id": "00074-374a0fe5-1fc7-4d4c-87a7-3184895e89bf",
    "deepnote_cell_height": 62,
    "deepnote_cell_type": "markdown"
   },
   "source": [
    "### Income Level & Price"
   ]
  },
  {
   "cell_type": "code",
   "execution_count": null,
   "metadata": {
    "cell_id": "00075-846d01ff-287f-4301-b5f1-109bae84fb75",
    "deepnote_cell_height": 671.09375,
    "deepnote_cell_type": "code",
    "deepnote_output_heights": [
     293.90625
    ],
    "deepnote_to_be_reexecuted": false,
    "execution_millis": 199,
    "execution_start": 1650118177073,
    "scrolled": true,
    "source_hash": "5a9f299d"
   },
   "outputs": [
    {
     "data": {
      "image/png": "[encoded data removed]",
      "text/plain": [
       "<Figure size 576x360 with 1 Axes>"
      ]
     },
     "metadata": {
      "image/png": {
       "height": 338,
       "width": 594
      },
      "needs_background": "light"
     },
     "output_type": "display_data"
    },
    {
     "name": "stdout",
     "output_type": "stream",
     "text": [
      "Correlation Coefficient = -0.764234725261504\n"
     ]
    }
   ],
   "source": [
    "# Income level & price\n",
    "xs = df1.Low_Income\n",
    "ys = df1.Price\n",
    "\n",
    "plt.figure(figsize=(8,5))\n",
    "plt.scatter(xs, ys)\n",
    "plt.title(\"Plot of Percentage of Low Income Households against median housing prices\", fontsize=15)\n",
    "plt.ylabel(\"Median Price ($)\", fontsize=12)\n",
    "plt.xlabel(\"Percentage of Low Income Households(%)\", fontsize=12)\n",
    "plt.show()\n",
    "\n",
    "# find corr coef\n",
    "corr = np.corrcoef(xs, ys)\n",
    "print(\"Correlation Coefficient = \" + str(corr[0][1]))"
   ]
  },
  {
   "cell_type": "markdown",
   "metadata": {
    "cell_id": "00076-82e69b2a-588e-451f-8013-18ab9c1526da",
    "deepnote_cell_height": 223.125,
    "deepnote_cell_type": "markdown"
   },
   "source": [
    "Our team decided to analyse this pair because we had the inclination that having a higher percentage of low households would lead to a town being more undesirable thus leading to a lower median house price.\n",
    "\n",
    "From both the shape of the scatter plot and the correlation coefficient calculated of -0.773.\n",
    "We may infer that there is a strong negative correlation between median housing price and percentage of low income households. This means that as the percentage of low income households increases, the median house prices generally decreases."
   ]
  },
  {
   "cell_type": "markdown",
   "metadata": {
    "cell_id": "00077-2c02ae46-fac3-47d1-82a6-c3c504db8470",
    "deepnote_cell_height": 62,
    "deepnote_cell_type": "markdown"
   },
   "source": [
    "### Crime Rate & Price"
   ]
  },
  {
   "cell_type": "code",
   "execution_count": null,
   "metadata": {
    "cell_id": "00078-a40f9980-a67a-4217-a287-1a8cbdf989f0",
    "deepnote_cell_height": 574,
    "deepnote_cell_type": "code",
    "deepnote_output_heights": [
     405
    ],
    "deepnote_to_be_reexecuted": false,
    "execution_millis": 253,
    "execution_start": 1650118177277,
    "source_hash": "6d701061"
   },
   "outputs": [
    {
     "data": {
      "image/png": "[encoded data removed]",
      "text/plain": [
       "<Figure size 432x432 with 1 Axes>"
      ]
     },
     "metadata": {
      "image/png": {
       "height": 403,
       "width": 393
      },
      "needs_background": "light"
     },
     "output_type": "display_data"
    }
   ],
   "source": [
    "df1[['Price','Crime_Rate_Encoded']].boxplot(by='Crime_Rate_Encoded', figsize=(6, 6))\n",
    "plt.xticks([1, 2, 3], ['Low', 'Moderate', 'High'])\n",
    "plt.xlabel('Crime Rates')\n",
    "plt.ylabel('Median Price of Homes ($1000s)')\n",
    "plt.show()"
   ]
  },
  {
   "cell_type": "markdown",
   "metadata": {
    "cell_id": "00079-7fd8fef2-3571-4c82-8810-17be9119d79b",
    "deepnote_cell_height": 281.90625,
    "deepnote_cell_type": "markdown"
   },
   "source": [
    "Since greater crime rates pose greater risk to home owners, we hypothesized that regions with higher crime rates would have lower home prices.\n",
    "\n",
    "The boxplot reveals that as crime rates rise from low to moderate, the median of home prices decreases from approximately $23 000 to $14 000, and further decreases to approximately $9 800 for towns categorized with \"high\" crime rates, thus indicating a positive correlation between crime rates and price of homes. \n",
    "\n",
    "Additionally, we observed that the range for towns categorized with 'High' crime rates is smaller than that of the 'low' and 'moderate' plots, indicates that home prices fall within a smaller range in towns with 'High' crime."
   ]
  },
  {
   "cell_type": "markdown",
   "metadata": {
    "cell_id": "00080-84c5968b-a47d-4146-99db-bafe1cc9fce3",
    "deepnote_cell_height": 62,
    "deepnote_cell_type": "markdown"
   },
   "source": [
    "### Highway Access & Price"
   ]
  },
  {
   "cell_type": "code",
   "execution_count": null,
   "metadata": {
    "cell_id": "00081-50dcd5df-55c5-4af2-8beb-2211a4de432c",
    "deepnote_cell_height": 574,
    "deepnote_cell_type": "code",
    "deepnote_output_heights": [
     405
    ],
    "deepnote_to_be_reexecuted": false,
    "execution_millis": 219,
    "execution_start": 1650118177536,
    "source_hash": "f4e4b894"
   },
   "outputs": [
    {
     "data": {
      "image/png": "[encoded data removed]",
      "text/plain": [
       "<Figure size 432x432 with 1 Axes>"
      ]
     },
     "metadata": {
      "image/png": {
       "height": 403,
       "width": 393
      },
      "needs_background": "light"
     },
     "output_type": "display_data"
    }
   ],
   "source": [
    "df1[['Price','Highway_Access_Encoded']].boxplot(by='Highway_Access_Encoded', figsize = (6, 6))\n",
    "plt.xticks([1, 2, 3], ['Near', 'Moderate', 'Far'])\n",
    "plt.xlabel('Highway Access Proximity')\n",
    "plt.ylabel('Price in $1,000s')\n",
    "plt.show()"
   ]
  },
  {
   "cell_type": "markdown",
   "metadata": {
    "cell_id": "00082-477c4921-0bd4-4565-aa23-bc3a64655f35",
    "deepnote_cell_height": 200.734375,
    "deepnote_cell_type": "markdown"
   },
   "source": [
    "We suspected that greater highway access results in greater convenience, potentially increasing housing prices\n",
    "\n",
    "The boxplot reveals that as highway access increases from near to moderate, the median of home prices decreases from approximately $24 000 to $22 000, further decreasing to approximately $14 000 for towns 'far' from the highway, thus indicating a positive correlation between highway access proximity and the median price of homes. "
   ]
  },
  {
   "cell_type": "markdown",
   "metadata": {
    "cell_id": "00083-1719cf31-7038-447b-aa83-7cfc0bd39b25",
    "deepnote_cell_height": 62,
    "deepnote_cell_type": "markdown"
   },
   "source": [
    "### Crime Rate & Low Income"
   ]
  },
  {
   "cell_type": "code",
   "execution_count": null,
   "metadata": {
    "cell_id": "00084-bec6c0e8-3ea5-4602-8d1c-9b04f6ac7826",
    "deepnote_cell_height": 574,
    "deepnote_cell_type": "code",
    "deepnote_output_heights": [
     405
    ],
    "deepnote_to_be_reexecuted": false,
    "execution_millis": 243,
    "execution_start": 1650118177756,
    "source_hash": "55b6a6bc"
   },
   "outputs": [
    {
     "data": {
      "image/png": "[encoded data removed]",
      "text/plain": [
       "<Figure size 432x432 with 1 Axes>"
      ]
     },
     "metadata": {
      "image/png": {
       "height": 403,
       "width": 393
      },
      "needs_background": "light"
     },
     "output_type": "display_data"
    }
   ],
   "source": [
    "df1[['Low_Income','Crime_Rate_Encoded']].boxplot(by='Crime_Rate_Encoded', figsize = (6, 6))\n",
    "plt.xticks([1, 2, 3], ['Low', 'Moderate', 'High'])\n",
    "plt.xlabel('Crime Rates')\n",
    "plt.ylabel('Low Income %')\n",
    "plt.show()"
   ]
  },
  {
   "cell_type": "markdown",
   "metadata": {
    "cell_id": "00085-3f25f526-27aa-4e01-9317-b2f2a73ca7df",
    "deepnote_cell_height": 178.34375,
    "deepnote_cell_type": "markdown"
   },
   "source": [
    "We suspected that towns with higher percentage of low income households might result in more townspeople turning to crime, hence translating to higher crime rates.\n",
    "\n",
    "The boxplot depicts that towns with low crime rates had a smaller percentage of low income households of approximately 10%, which rises to around 17% in towns with moderate crime rates, and 22% in towns with high crime rates."
   ]
  },
  {
   "cell_type": "markdown",
   "metadata": {
    "cell_id": "00086-f476f2f2-3600-4c2d-8727-a5aea132570b",
    "deepnote_cell_height": 58.796875,
    "deepnote_cell_type": "markdown"
   },
   "source": [
    "<font color=red size=4>\n",
    "    [3c] 20%\n",
    "</font>"
   ]
  },
  {
   "cell_type": "markdown",
   "metadata": {
    "cell_id": "9778433d86654300a26ec1d4c6af3dbe",
    "deepnote_cell_height": 70,
    "deepnote_cell_type": "markdown",
    "tags": []
   },
   "source": [
    "## Part II: Modeling [12% of final grade]"
   ]
  },
  {
   "cell_type": "markdown",
   "metadata": {
    "cell_id": "38c7599658694eff8abebd64e806ee56",
    "deepnote_cell_height": 62,
    "deepnote_cell_type": "markdown",
    "tags": []
   },
   "source": [
    "### 1. Problem formulation [15% of Part II]"
   ]
  },
  {
   "cell_type": "markdown",
   "metadata": {
    "cell_id": "c61db209fc5f44219efa353554b19ace",
    "deepnote_cell_height": 74.78125,
    "deepnote_cell_type": "markdown",
    "tags": []
   },
   "source": [
    "**a.** Formulate one regression problem and one classification based on the dataset, in **no more than 50 words**."
   ]
  },
  {
   "cell_type": "markdown",
   "metadata": {
    "cell_id": "21ba1cd6e4c6473e9ae726906859cb87",
    "deepnote_cell_type": "text-cell-p",
    "is_collapsed": false,
    "tags": []
   },
   "source": [
    "A regression problem would be to predict median home prices in a town based on selected explanatory variables, while a classification problem is predicting categorical crime rates of a town, which may fall within the \"low\", \"medium\" or \"high\" categories."
   ]
  },
  {
   "cell_type": "markdown",
   "metadata": {
    "cell_id": "fffd2dcadf43480481935b29598bf370",
    "deepnote_cell_height": 74.78125,
    "deepnote_cell_type": "markdown",
    "tags": []
   },
   "source": [
    "**b.** State which problem (regression or classification) you would be investigating and why, in **no more than 20 words**."
   ]
  },
  {
   "cell_type": "markdown",
   "metadata": {
    "cell_id": "f44429998efa41419024006a88892570",
    "deepnote_cell_type": "text-cell-p",
    "is_collapsed": false,
    "tags": []
   },
   "source": [
    "The regression problem, since the dataset primarily features data points related to housing prices, which is a numerical dependent variable."
   ]
  },
  {
   "cell_type": "markdown",
   "metadata": {
    "cell_id": "1505575465184b799d9c1b9c56654324",
    "deepnote_cell_height": 74.78125,
    "deepnote_cell_type": "markdown",
    "tags": []
   },
   "source": [
    "**c.** Clearly specify the dependent variable you are predicting, and its significance, in **no more than 20 words**"
   ]
  },
  {
   "cell_type": "markdown",
   "metadata": {
    "cell_id": "33c682503a0e4a1392e8061200266d36",
    "deepnote_cell_type": "text-cell-p",
    "is_collapsed": false,
    "tags": []
   },
   "source": [
    "Our dependent variable is the median price of homes. A predictive model can provide fair evaluations based on explanatory variables."
   ]
  },
  {
   "cell_type": "markdown",
   "metadata": {
    "cell_id": "7dea5a09803e4a069f125cb068aab17c",
    "deepnote_cell_height": 62,
    "deepnote_cell_type": "markdown",
    "tags": []
   },
   "source": [
    "### 2. Model training [30% of Part II]"
   ]
  },
  {
   "cell_type": "markdown",
   "metadata": {
    "cell_id": "24bb4b0d162a4bb097cb20079408c00e",
    "deepnote_cell_height": 97.171875,
    "deepnote_cell_type": "markdown",
    "tags": []
   },
   "source": [
    "**a.** Perform feature selection. For each variable, decide if you want to include it as a feature and provide a justification. You may leverage on your analysis in Part I: EDA and/or perform additional analysis."
   ]
  },
  {
   "cell_type": "markdown",
   "metadata": {
    "cell_id": "fe4b9a3efcbc4ca08507696b61996ff5",
    "deepnote_cell_height": 74.78125,
    "deepnote_cell_type": "markdown",
    "tags": []
   },
   "source": [
    "First, we investigate the distribution of the categorical variables by plotting barplots as below:"
   ]
  },
  {
   "cell_type": "markdown",
   "metadata": {
    "cell_id": "186ff9b701d24d558ade9f1ce967b019",
    "deepnote_cell_type": "text-cell-h3",
    "is_collapsed": false,
    "tags": []
   },
   "source": [
    "### Categorical Variables"
   ]
  },
  {
   "cell_type": "code",
   "execution_count": null,
   "metadata": {
    "cell_id": "91110031d5464c9c990bf19969b774f4",
    "deepnote_cell_height": 497.578125,
    "deepnote_cell_type": "code",
    "deepnote_output_heights": [
     112.578125
    ],
    "deepnote_to_be_reexecuted": false,
    "execution_millis": 475,
    "execution_start": 1650118178026,
    "source_hash": "3ec8f9e3",
    "tags": []
   },
   "outputs": [
    {
     "data": {
      "image/png": "[encoded data removed]",
      "text/plain": [
       "<Figure size 2160x360 with 4 Axes>"
      ]
     },
     "metadata": {
      "image/png": {
       "height": 357,
       "width": 1711
      },
      "needs_background": "light"
     },
     "output_type": "display_data"
    }
   ],
   "source": [
    "#Categorical Data\n",
    "datatypes = df1.dtypes\n",
    "categorical_features = datatypes[datatypes==\"object\"].index\n",
    "numerical_features = datatypes[datatypes!=\"object\"].index\n",
    "\n",
    "n = len(categorical_features)\n",
    "\n",
    "r, c = 1,4\n",
    "fig, ax = plt.subplots(r, c, figsize=(30,5))\n",
    "\n",
    "for i in range(n):\n",
    "    feature = categorical_features[i]\n",
    "    ax = plt.subplot(r,c,i+1)\n",
    "    ax.set_title(feature)\n",
    "    df1[feature].value_counts(normalize=True).plot(kind='bar')\n",
    "\n",
    "plt.show()"
   ]
  },
  {
   "cell_type": "markdown",
   "metadata": {
    "cell_id": "abe1b2656ae84dff910eb17d6627ab37",
    "deepnote_cell_height": 164.34375,
    "deepnote_cell_type": "markdown",
    "tags": []
   },
   "source": [
    "For all the features that has been plotted above, each of them have a dominant value. The lack of variation in these variables means that these variables are likely to have less significant explanatory power on the variation in the `Price`. Thus, we will not select these features as they are not able to tell us the variations in the housing price. The  criteria we use is that we will not select features where its mode has a frequency of more than 50%."
   ]
  },
  {
   "cell_type": "markdown",
   "metadata": {
    "cell_id": "285f9fbde8914d54a09b7e854fe474ff",
    "deepnote_cell_type": "text-cell-p",
    "is_collapsed": false,
    "tags": []
   },
   "source": [
    "Since from our Part I's pie chart and the above boxplot, we observe that all of the categorical features has dominant values of more than 50%, hence, no features will be selected."
   ]
  },
  {
   "cell_type": "code",
   "execution_count": null,
   "metadata": {
    "cell_id": "e6efa95ba162447989097b7132bf266f",
    "deepnote_cell_height": 328.1875,
    "deepnote_cell_type": "code",
    "deepnote_to_be_reexecuted": false,
    "execution_millis": 2,
    "execution_start": 1650118178506,
    "source_hash": "af0f9864",
    "tags": []
   },
   "outputs": [
    {
     "name": "stdout",
     "output_type": "stream",
     "text": [
      "There are no variables with mode contributing <50%.\n"
     ]
    }
   ],
   "source": [
    "# get 'important' categorical features i.e. those with mode having freq < 50%\n",
    "\n",
    "categorical_important = []\n",
    "\n",
    "for feature in categorical_features:\n",
    "    highest = df1[feature].value_counts(normalize=True)[0]\n",
    "    if highest<0.5:\n",
    "        categorical_important.append(feature)\n",
    "\n",
    "if not categorical_important:\n",
    "  print(\"There are no variables with mode contributing <50%.\")\n",
    "else:\n",
    "    print(f\"Variables with mode contributing <50% are : {categorical_important}\")"
   ]
  },
  {
   "cell_type": "markdown",
   "metadata": {
    "cell_id": "e87c7e6c00db43cbbb3fdc776a40be47",
    "deepnote_cell_height": 119.5625,
    "deepnote_cell_type": "markdown",
    "tags": []
   },
   "source": [
    "Since there are no variables with mode lesser than 50%, we decided to change our criteria to not select features where its mode has a frequency of more than 60%. By removing all the categorical features, we may be underfitting the model and exclude features that might be important for our model."
   ]
  },
  {
   "cell_type": "code",
   "execution_count": null,
   "metadata": {
    "cell_id": "95f36fca41694e1ab5f3b67dd9120d73",
    "deepnote_cell_height": 328.1875,
    "deepnote_cell_type": "code",
    "deepnote_to_be_reexecuted": false,
    "execution_millis": 5,
    "execution_start": 1650118178512,
    "source_hash": "373f4301",
    "tags": []
   },
   "outputs": [
    {
     "name": "stdout",
     "output_type": "stream",
     "text": [
      "Variables with mode contributing <60% are : ['Highway_Access']\n"
     ]
    }
   ],
   "source": [
    "# get 'important' categorical features i.e. those with mode having freq < 60%\n",
    "\n",
    "categorical_important = []\n",
    "\n",
    "for feature in categorical_features:\n",
    "    highest = df1[feature].value_counts(normalize=True)[0]\n",
    "    if highest<0.6:\n",
    "        categorical_important.append(feature)\n",
    "\n",
    "if not categorical_important:\n",
    "  print(\"There are no variables with mode contributing <60%.\")\n",
    "else:\n",
    "    print(f\"Variables with mode contributing <60% are : {categorical_important}\")"
   ]
  },
  {
   "cell_type": "markdown",
   "metadata": {
    "cell_id": "263c3bae5d0c4f95a9fef7ddff7bab9b",
    "deepnote_cell_height": 97.171875,
    "deepnote_cell_type": "markdown",
    "tags": []
   },
   "source": [
    "Based on the criteria we would keep the categorical variable `Highway Access`. We next will look into how `Price` is related to this variable. We will plot a box plot and see the distribution of `Price` with respect to `Highway Access`.\n"
   ]
  },
  {
   "cell_type": "code",
   "execution_count": null,
   "metadata": {
    "cell_id": "c6713b0445f24c86b2b49b8f9baac049",
    "deepnote_cell_height": 574,
    "deepnote_cell_type": "code",
    "deepnote_output_heights": [
     405
    ],
    "deepnote_to_be_reexecuted": false,
    "execution_millis": 737,
    "execution_start": 1650118178527,
    "source_hash": "f4e4b894",
    "tags": []
   },
   "outputs": [
    {
     "data": {
      "image/png": "[encoded data removed]",
      "text/plain": [
       "<Figure size 432x432 with 1 Axes>"
      ]
     },
     "metadata": {
      "image/png": {
       "height": 403,
       "width": 393
      },
      "needs_background": "light"
     },
     "output_type": "display_data"
    }
   ],
   "source": [
    "df1[['Price','Highway_Access_Encoded']].boxplot(by='Highway_Access_Encoded', figsize = (6, 6))\n",
    "plt.xticks([1, 2, 3], ['Near', 'Moderate', 'Far'])\n",
    "plt.xlabel('Highway Access Proximity')\n",
    "plt.ylabel('Price in $1,000s')\n",
    "plt.show()"
   ]
  },
  {
   "cell_type": "markdown",
   "metadata": {
    "cell_id": "673c081293b94b5fbb32fdf88f8ed66c",
    "deepnote_cell_height": 46,
    "deepnote_cell_type": "markdown",
    "tags": []
   },
   "source": []
  },
  {
   "cell_type": "markdown",
   "metadata": {
    "cell_id": "44c07c03ba584be89eba2c440c0b907a",
    "deepnote_cell_height": 214.734375,
    "deepnote_cell_type": "markdown",
    "tags": []
   },
   "source": [
    "Based on the visual observation we noted the following:\n",
    "- For `Highway Access`, those that are `Near` have a higher mean of `Price` compared to those of `Moderate` and `Far`. \n",
    "\n",
    "Hence based on the EDA on the categorical variable, there seem to be a potential relation of `Highway Access` to `Price`. Hence, we will keep `Highway Access`. Since we have previously encoded `Highway Access`, we will not encode it in this section."
   ]
  },
  {
   "cell_type": "markdown",
   "metadata": {
    "cell_id": "e9e9bcfe07af4d449da15b0404176197",
    "deepnote_cell_type": "text-cell-h3",
    "is_collapsed": false,
    "tags": []
   },
   "source": [
    "### Numerical Variables"
   ]
  },
  {
   "cell_type": "markdown",
   "metadata": {
    "cell_id": "dfb512d1641540f1a0e6949825531499",
    "deepnote_cell_type": "text-cell-p",
    "is_collapsed": false,
    "tags": []
   },
   "source": [
    "Since we will not be considering 'Crime_Rate_Encoded', 'Residential_Encoded' and 'River_Encoded', we drop them from df1. As such, only 'Highway_Access_Encoded' remains in the list of numerical features in df1."
   ]
  },
  {
   "cell_type": "code",
   "execution_count": null,
   "metadata": {
    "cell_id": "1a9db826b8cc4fbaa97e6306eca2d2b0",
    "deepnote_cell_height": 404.8125,
    "deepnote_cell_type": "code",
    "deepnote_output_heights": [
     289.8125
    ],
    "deepnote_to_be_reexecuted": false,
    "execution_millis": 525,
    "execution_start": 1650118178746,
    "source_hash": "b9004ed7",
    "tags": []
   },
   "outputs": [
    {
     "data": {
      "text/plain": [
       "River                      object\n",
       "Student_Teacher_Ratio     float64\n",
       "Highway_Access             object\n",
       "Low_Income                float64\n",
       "Crime_Rate                 object\n",
       "Price                     float64\n",
       "Pollutants                float64\n",
       "Old_Housing               float64\n",
       "Residential_Area           object\n",
       "Tax_Rate                    int64\n",
       "Distance_Office           float64\n",
       "Rooms                     float64\n",
       "Non_Retail                float64\n",
       "Highway_Access_Encoded      int64\n",
       "dtype: object"
      ]
     },
     "execution_count": 34,
     "metadata": {},
     "output_type": "execute_result"
    }
   ],
   "source": [
    "df1 = df1.drop(['Crime_Rate_Encoded', 'Residential_Encoded', 'River_Encoded'], axis=1)\n",
    "df1.dtypes"
   ]
  },
  {
   "cell_type": "markdown",
   "metadata": {
    "cell_id": "9a23afce44774941b63ea3323427bf16",
    "deepnote_cell_type": "text-cell-p",
    "is_collapsed": false,
    "tags": []
   },
   "source": [
    "We now plot histograms to better understand the distribution of the numerical features, excluding price and highway access encoded, since price is the dependent variable and highway access has already been selected as a feature."
   ]
  },
  {
   "cell_type": "code",
   "execution_count": null,
   "metadata": {
    "cell_id": "9adba162c49c45548f68b16f9757d42c",
    "deepnote_cell_height": 355.84375,
    "deepnote_cell_type": "code",
    "deepnote_output_heights": [
     168.84375
    ],
    "deepnote_to_be_reexecuted": false,
    "execution_millis": 1804,
    "execution_start": 1650118178756,
    "source_hash": "163c30fe",
    "tags": []
   },
   "outputs": [
    {
     "data": {
      "image/png": "[encoded data removed]",
      "text/plain": [
       "<Figure size 1440x2160 with 45 Axes>"
      ]
     },
     "metadata": {
      "image/png": {
       "height": 376,
       "width": 1156
      },
      "needs_background": "light"
     },
     "output_type": "display_data"
    }
   ],
   "source": [
    "datatypes = df1.dtypes\n",
    "exclude = ['Highway_Access_Encoded', 'Price']\n",
    "features_selected = datatypes[datatypes!=\"object\"].index.difference(exclude)\n",
    "\n",
    "df1[features_selected].hist(layout=(9,5), figsize=(20,30))\n",
    "plt.show()"
   ]
  },
  {
   "cell_type": "markdown",
   "metadata": {
    "cell_id": "3fb3ad533060454aa8c05a885518cbca",
    "deepnote_cell_type": "text-cell-p",
    "is_collapsed": false,
    "tags": []
   },
   "source": [
    "The distributions are generally not dominated by a small range of values. Next, we include price to 'features_selected' to find the correlation between the features selected and price."
   ]
  },
  {
   "cell_type": "code",
   "execution_count": null,
   "metadata": {
    "cell_id": "10f95dde96404201918eaab81e49bd34",
    "deepnote_cell_height": 612,
    "deepnote_cell_type": "code",
    "deepnote_to_be_reexecuted": false,
    "execution_millis": 36,
    "execution_start": 1650118180567,
    "source_hash": "bf43756d",
    "tags": []
   },
   "outputs": [
    {
     "data": {
      "application/vnd.deepnote.dataframe.v3+json": {
       "column_count": 9,
       "columns": [
        {
         "dtype": "float64",
         "name": "Distance_Office",
         "stats": {
          "histogram": [
           {
            "bin_end": -0.6004960353090142,
            "bin_start": -0.7783289281211269,
            "count": 3
           },
           {
            "bin_end": -0.4226631424969015,
            "bin_start": -0.6004960353090142,
            "count": 2
           },
           {
            "bin_end": -0.24483024968478884,
            "bin_start": -0.4226631424969015,
            "count": 1
           },
           {
            "bin_end": -0.06699735687267616,
            "bin_start": -0.24483024968478884,
            "count": 0
           },
           {
            "bin_end": 0.11083553593943651,
            "bin_start": -0.06699735687267616,
            "count": 0
           },
           {
            "bin_end": 0.2886684287515492,
            "bin_start": 0.11083553593943651,
            "count": 1
           },
           {
            "bin_end": 0.46650132156366186,
            "bin_start": 0.2886684287515492,
            "count": 1
           },
           {
            "bin_end": 0.6443342143757745,
            "bin_start": 0.46650132156366186,
            "count": 0
           },
           {
            "bin_end": 0.8221671071878872,
            "bin_start": 0.6443342143757745,
            "count": 0
           },
           {
            "bin_end": 1,
            "bin_start": 0.8221671071878872,
            "count": 1
           }
          ],
          "max": "1.0",
          "min": "-0.7783289281211269",
          "nan_count": 0,
          "unique_count": 9
         }
        },
        {
         "dtype": "float64",
         "name": "Low_Income",
         "stats": {
          "histogram": [
           {
            "bin_end": -0.5878112527353541,
            "bin_start": -0.7642347252615046,
            "count": 1
           },
           {
            "bin_end": -0.41138778020920364,
            "bin_start": -0.5878112527353541,
            "count": 2
           },
           {
            "bin_end": -0.2349643076830531,
            "bin_start": -0.41138778020920364,
            "count": 0
           },
           {
            "bin_end": -0.05854083515690267,
            "bin_start": -0.2349643076830531,
            "count": 0
           },
           {
            "bin_end": 0.11788263736924776,
            "bin_start": -0.05854083515690267,
            "count": 0
           },
           {
            "bin_end": 0.2943061098953984,
            "bin_start": 0.11788263736924776,
            "count": 0
           },
           {
            "bin_end": 0.47072958242154883,
            "bin_start": 0.2943061098953984,
            "count": 1
           },
           {
            "bin_end": 0.6471530549476993,
            "bin_start": 0.47072958242154883,
            "count": 4
           },
           {
            "bin_end": 0.8235765274738497,
            "bin_start": 0.6471530549476993,
            "count": 0
           },
           {
            "bin_end": 1,
            "bin_start": 0.8235765274738497,
            "count": 1
           }
          ],
          "max": "1.0",
          "min": "-0.7642347252615046",
          "nan_count": 0,
          "unique_count": 9
         }
        },
        {
         "dtype": "float64",
         "name": "Non_Retail",
         "stats": {
          "histogram": [
           {
            "bin_end": -0.5757102753035671,
            "bin_start": -0.7507891947817412,
            "count": 1
           },
           {
            "bin_end": -0.400631355825393,
            "bin_start": -0.5757102753035671,
            "count": 1
           },
           {
            "bin_end": -0.2255524363472189,
            "bin_start": -0.400631355825393,
            "count": 1
           },
           {
            "bin_end": -0.05047351686904478,
            "bin_start": -0.2255524363472189,
            "count": 0
           },
           {
            "bin_end": 0.12460540260912933,
            "bin_start": -0.05047351686904478,
            "count": 0
           },
           {
            "bin_end": 0.29968432208730345,
            "bin_start": 0.12460540260912933,
            "count": 0
           },
           {
            "bin_end": 0.47476324156547756,
            "bin_start": 0.29968432208730345,
            "count": 1
           },
           {
            "bin_end": 0.6498421610436517,
            "bin_start": 0.47476324156547756,
            "count": 1
           },
           {
            "bin_end": 0.8249210805218258,
            "bin_start": 0.6498421610436517,
            "count": 3
           },
           {
            "bin_end": 1,
            "bin_start": 0.8249210805218258,
            "count": 1
           }
          ],
          "max": "1.0",
          "min": "-0.7507891947817412",
          "nan_count": 0,
          "unique_count": 9
         }
        },
        {
         "dtype": "float64",
         "name": "Old_Housing",
         "stats": {
          "histogram": [
           {
            "bin_end": -0.5663011173824635,
            "bin_start": -0.7403345748694038,
            "count": 1
           },
           {
            "bin_end": -0.39226765989552304,
            "bin_start": -0.5663011173824635,
            "count": 1
           },
           {
            "bin_end": -0.2182342024085827,
            "bin_start": -0.39226765989552304,
            "count": 1
           },
           {
            "bin_end": -0.044200744921642277,
            "bin_start": -0.2182342024085827,
            "count": 0
           },
           {
            "bin_end": 0.12983271256529816,
            "bin_start": -0.044200744921642277,
            "count": 0
           },
           {
            "bin_end": 0.30386617005223837,
            "bin_start": 0.12983271256529816,
            "count": 0
           },
           {
            "bin_end": 0.4778996275391788,
            "bin_start": 0.30386617005223837,
            "count": 1
           },
           {
            "bin_end": 0.6519330850261192,
            "bin_start": 0.4778996275391788,
            "count": 2
           },
           {
            "bin_end": 0.8259665425130597,
            "bin_start": 0.6519330850261192,
            "count": 2
           },
           {
            "bin_end": 1,
            "bin_start": 0.8259665425130597,
            "count": 1
           }
          ],
          "max": "1.0",
          "min": "-0.7403345748694038",
          "nan_count": 0,
          "unique_count": 9
         }
        },
        {
         "dtype": "float64",
         "name": "Pollutants",
         "stats": {
          "histogram": [
           {
            "bin_end": -0.6004960353090142,
            "bin_start": -0.7783289281211269,
            "count": 1
           },
           {
            "bin_end": -0.4226631424969015,
            "bin_start": -0.6004960353090142,
            "count": 1
           },
           {
            "bin_end": -0.24483024968478884,
            "bin_start": -0.4226631424969015,
            "count": 1
           },
           {
            "bin_end": -0.06699735687267616,
            "bin_start": -0.24483024968478884,
            "count": 0
           },
           {
            "bin_end": 0.11083553593943651,
            "bin_start": -0.06699735687267616,
            "count": 0
           },
           {
            "bin_end": 0.2886684287515492,
            "bin_start": 0.11083553593943651,
            "count": 1
           },
           {
            "bin_end": 0.46650132156366186,
            "bin_start": 0.2886684287515492,
            "count": 0
           },
           {
            "bin_end": 0.6443342143757745,
            "bin_start": 0.46650132156366186,
            "count": 1
           },
           {
            "bin_end": 0.8221671071878872,
            "bin_start": 0.6443342143757745,
            "count": 3
           },
           {
            "bin_end": 1,
            "bin_start": 0.8221671071878872,
            "count": 1
           }
          ],
          "max": "1.0",
          "min": "-0.7783289281211269",
          "nan_count": 0,
          "unique_count": 9
         }
        },
        {
         "dtype": "float64",
         "name": "Price",
         "stats": {
          "histogram": [
           {
            "bin_end": -0.5878112527353541,
            "bin_start": -0.7642347252615046,
            "count": 1
           },
           {
            "bin_end": -0.41138778020920364,
            "bin_start": -0.5878112527353541,
            "count": 4
           },
           {
            "bin_end": -0.2349643076830531,
            "bin_start": -0.41138778020920364,
            "count": 1
           },
           {
            "bin_end": -0.05854083515690267,
            "bin_start": -0.2349643076830531,
            "count": 0
           },
           {
            "bin_end": 0.11788263736924776,
            "bin_start": -0.05854083515690267,
            "count": 0
           },
           {
            "bin_end": 0.2943061098953984,
            "bin_start": 0.11788263736924776,
            "count": 0
           },
           {
            "bin_end": 0.47072958242154883,
            "bin_start": 0.2943061098953984,
            "count": 1
           },
           {
            "bin_end": 0.6471530549476993,
            "bin_start": 0.47072958242154883,
            "count": 1
           },
           {
            "bin_end": 0.8235765274738497,
            "bin_start": 0.6471530549476993,
            "count": 0
           },
           {
            "bin_end": 1,
            "bin_start": 0.8235765274738497,
            "count": 1
           }
          ],
          "max": "1.0",
          "min": "-0.7642347252615046",
          "nan_count": 0,
          "unique_count": 9
         }
        },
        {
         "dtype": "float64",
         "name": "Rooms",
         "stats": {
          "histogram": [
           {
            "bin_end": -0.41251451697171543,
            "bin_start": -0.5694605744130171,
            "count": 1
           },
           {
            "bin_end": -0.25556845953041374,
            "bin_start": -0.41251451697171543,
            "count": 3
           },
           {
            "bin_end": -0.09862240208911205,
            "bin_start": -0.25556845953041374,
            "count": 2
           },
           {
            "bin_end": 0.05832365535218964,
            "bin_start": -0.09862240208911205,
            "count": 0
           },
           {
            "bin_end": 0.21526971279349139,
            "bin_start": 0.05832365535218964,
            "count": 0
           },
           {
            "bin_end": 0.372215770234793,
            "bin_start": 0.21526971279349139,
            "count": 1
           },
           {
            "bin_end": 0.5291618276760947,
            "bin_start": 0.372215770234793,
            "count": 0
           },
           {
            "bin_end": 0.6861078851173964,
            "bin_start": 0.5291618276760947,
            "count": 1
           },
           {
            "bin_end": 0.8430539425586981,
            "bin_start": 0.6861078851173964,
            "count": 0
           },
           {
            "bin_end": 1,
            "bin_start": 0.8430539425586981,
            "count": 1
           }
          ],
          "max": "1.0",
          "min": "-0.5694605744130171",
          "nan_count": 0,
          "unique_count": 9
         }
        },
        {
         "dtype": "float64",
         "name": "Student_Teacher_Ratio",
         "stats": {
          "histogram": [
           {
            "bin_end": -0.2601512151131541,
            "bin_start": -0.40016801679239344,
            "count": 2
           },
           {
            "bin_end": -0.12013441343391473,
            "bin_start": -0.2601512151131541,
            "count": 1
           },
           {
            "bin_end": 0.019882388245324623,
            "bin_start": -0.12013441343391473,
            "count": 0
           },
           {
            "bin_end": 0.15989918992456398,
            "bin_start": 0.019882388245324623,
            "count": 0
           },
           {
            "bin_end": 0.29991599160380333,
            "bin_start": 0.15989918992456398,
            "count": 1
           },
           {
            "bin_end": 0.4399327932830427,
            "bin_start": 0.29991599160380333,
            "count": 3
           },
           {
            "bin_end": 0.579949594962282,
            "bin_start": 0.4399327932830427,
            "count": 1
           },
           {
            "bin_end": 0.7199663966415214,
            "bin_start": 0.579949594962282,
            "count": 0
           },
           {
            "bin_end": 0.8599831983207608,
            "bin_start": 0.7199663966415214,
            "count": 0
           },
           {
            "bin_end": 1,
            "bin_start": 0.8599831983207608,
            "count": 1
           }
          ],
          "max": "1.0",
          "min": "-0.40016801679239344",
          "nan_count": 0,
          "unique_count": 9
         }
        },
        {
         "dtype": "float64",
         "name": "Tax_Rate",
         "stats": {
          "histogram": [
           {
            "bin_end": -0.4174146814679502,
            "bin_start": -0.5749052016310557,
            "count": 2
           },
           {
            "bin_end": -0.25992416130484464,
            "bin_start": -0.4174146814679502,
            "count": 0
           },
           {
            "bin_end": -0.10243364114173908,
            "bin_start": -0.25992416130484464,
            "count": 1
           },
           {
            "bin_end": 0.05505687902136647,
            "bin_start": -0.10243364114173908,
            "count": 0
           },
           {
            "bin_end": 0.21254739918447207,
            "bin_start": 0.05505687902136647,
            "count": 0
           },
           {
            "bin_end": 0.37003791934757757,
            "bin_start": 0.21254739918447207,
            "count": 0
           },
           {
            "bin_end": 0.5275284395106831,
            "bin_start": 0.37003791934757757,
            "count": 2
           },
           {
            "bin_end": 0.6850189596737887,
            "bin_start": 0.5275284395106831,
            "count": 2
           },
           {
            "bin_end": 0.8425094798368943,
            "bin_start": 0.6850189596737887,
            "count": 1
           },
           {
            "bin_end": 1,
            "bin_start": 0.8425094798368943,
            "count": 1
           }
          ],
          "max": "1.0",
          "min": "-0.5749052016310557",
          "nan_count": 0,
          "unique_count": 9
         }
        },
        {
         "dtype": "object",
         "name": "_deepnote_index_column"
        }
       ],
       "row_count": 9,
       "rows": [
        {
         "Distance_Office": 1,
         "Low_Income": -0.5354659627440018,
         "Non_Retail": -0.7507891947817412,
         "Old_Housing": -0.7403345748694038,
         "Pollutants": -0.7783289281211269,
         "Price": 0.3560007605943895,
         "Rooms": 0.26450416692097284,
         "Student_Teacher_Ratio": -0.3244175374099214,
         "Tax_Rate": -0.5749052016310557,
         "_deepnote_index_column": "Distance_Office"
        },
        {
         "Distance_Office": -0.5354659627440018,
         "Low_Income": 1,
         "Non_Retail": 0.6159276434213931,
         "Old_Housing": 0.6407286864884486,
         "Pollutants": 0.6156405343669817,
         "Price": -0.7642347252615046,
         "Rooms": -0.5694605744130171,
         "Student_Teacher_Ratio": 0.32775143687433295,
         "Tax_Rate": 0.5430835950261964,
         "_deepnote_index_column": "Low_Income"
        },
        {
         "Distance_Office": -0.7507891947817412,
         "Low_Income": 0.6159276434213931,
         "Non_Retail": 1,
         "Old_Housing": 0.6645540379855296,
         "Pollutants": 0.7882213411957893,
         "Price": -0.49799006489427144,
         "Rooms": -0.36334669505602296,
         "Student_Teacher_Ratio": 0.33453431351702373,
         "Tax_Rate": 0.7087133750171668,
         "_deepnote_index_column": "Non_Retail"
        },
        {
         "Distance_Office": -0.7403345748694038,
         "Low_Income": 0.6407286864884486,
         "Non_Retail": 0.6645540379855296,
         "Old_Housing": 1,
         "Pollutants": 0.7248035835772457,
         "Price": -0.4763732437295471,
         "Rooms": -0.28358979605588175,
         "Student_Teacher_Ratio": 0.31351805513402264,
         "Tax_Rate": 0.5244944224241235,
         "_deepnote_index_column": "Old_Housing"
        },
        {
         "Distance_Office": -0.7783289281211269,
         "Low_Income": 0.6156405343669817,
         "Non_Retail": 0.7882213411957893,
         "Old_Housing": 0.7248035835772457,
         "Pollutants": 1,
         "Price": -0.5077488145699016,
         "Rooms": -0.3315513617032666,
         "Student_Teacher_Ratio": 0.22265108713242557,
         "Tax_Rate": 0.6818910349914188,
         "_deepnote_index_column": "Pollutants"
        },
        {
         "Distance_Office": 0.3560007605943895,
         "Low_Income": -0.7642347252615046,
         "Non_Retail": -0.49799006489427144,
         "Old_Housing": -0.4763732437295471,
         "Pollutants": -0.5077488145699016,
         "Price": 1,
         "Rooms": 0.5736168916385366,
         "Student_Teacher_Ratio": -0.40016801679239344,
         "Tax_Rate": -0.4812631984104336,
         "_deepnote_index_column": "Price"
        },
        {
         "Distance_Office": 0.26450416692097284,
         "Low_Income": -0.5694605744130171,
         "Non_Retail": -0.36334669505602296,
         "Old_Housing": -0.28358979605588175,
         "Pollutants": -0.3315513617032666,
         "Price": 0.5736168916385366,
         "Rooms": 1,
         "Student_Teacher_Ratio": -0.17715196670101727,
         "Tax_Rate": -0.19981846993959923,
         "_deepnote_index_column": "Rooms"
        },
        {
         "Distance_Office": -0.3244175374099214,
         "Low_Income": 0.32775143687433295,
         "Non_Retail": 0.33453431351702373,
         "Old_Housing": 0.31351805513402264,
         "Pollutants": 0.22265108713242557,
         "Price": -0.40016801679239344,
         "Rooms": -0.17715196670101727,
         "Student_Teacher_Ratio": 1,
         "Tax_Rate": 0.4411597535376116,
         "_deepnote_index_column": "Student_Teacher_Ratio"
        },
        {
         "Distance_Office": -0.5749052016310557,
         "Low_Income": 0.5430835950261964,
         "Non_Retail": 0.7087133750171668,
         "Old_Housing": 0.5244944224241235,
         "Pollutants": 0.6818910349914188,
         "Price": -0.4812631984104336,
         "Rooms": -0.19981846993959923,
         "Student_Teacher_Ratio": 0.4411597535376116,
         "Tax_Rate": 1,
         "_deepnote_index_column": "Tax_Rate"
        }
       ]
      },
      "text/html": [
       "<div>\n",
       "<style scoped>\n",
       "    .dataframe tbody tr th:only-of-type {\n",
       "        vertical-align: middle;\n",
       "    }\n",
       "\n",
       "    .dataframe tbody tr th {\n",
       "        vertical-align: top;\n",
       "    }\n",
       "\n",
       "    .dataframe thead th {\n",
       "        text-align: right;\n",
       "    }\n",
       "</style>\n",
       "<table border=\"1\" class=\"dataframe\">\n",
       "  <thead>\n",
       "    <tr style=\"text-align: right;\">\n",
       "      <th></th>\n",
       "      <th>Distance_Office</th>\n",
       "      <th>Low_Income</th>\n",
       "      <th>Non_Retail</th>\n",
       "      <th>Old_Housing</th>\n",
       "      <th>Pollutants</th>\n",
       "      <th>Price</th>\n",
       "      <th>Rooms</th>\n",
       "      <th>Student_Teacher_Ratio</th>\n",
       "      <th>Tax_Rate</th>\n",
       "    </tr>\n",
       "  </thead>\n",
       "  <tbody>\n",
       "    <tr>\n",
       "      <th>Distance_Office</th>\n",
       "      <td>1.000000</td>\n",
       "      <td>-0.535466</td>\n",
       "      <td>-0.750789</td>\n",
       "      <td>-0.740335</td>\n",
       "      <td>-0.778329</td>\n",
       "      <td>0.356001</td>\n",
       "      <td>0.264504</td>\n",
       "      <td>-0.324418</td>\n",
       "      <td>-0.574905</td>\n",
       "    </tr>\n",
       "    <tr>\n",
       "      <th>Low_Income</th>\n",
       "      <td>-0.535466</td>\n",
       "      <td>1.000000</td>\n",
       "      <td>0.615928</td>\n",
       "      <td>0.640729</td>\n",
       "      <td>0.615641</td>\n",
       "      <td>-0.764235</td>\n",
       "      <td>-0.569461</td>\n",
       "      <td>0.327751</td>\n",
       "      <td>0.543084</td>\n",
       "    </tr>\n",
       "    <tr>\n",
       "      <th>Non_Retail</th>\n",
       "      <td>-0.750789</td>\n",
       "      <td>0.615928</td>\n",
       "      <td>1.000000</td>\n",
       "      <td>0.664554</td>\n",
       "      <td>0.788221</td>\n",
       "      <td>-0.497990</td>\n",
       "      <td>-0.363347</td>\n",
       "      <td>0.334534</td>\n",
       "      <td>0.708713</td>\n",
       "    </tr>\n",
       "    <tr>\n",
       "      <th>Old_Housing</th>\n",
       "      <td>-0.740335</td>\n",
       "      <td>0.640729</td>\n",
       "      <td>0.664554</td>\n",
       "      <td>1.000000</td>\n",
       "      <td>0.724804</td>\n",
       "      <td>-0.476373</td>\n",
       "      <td>-0.283590</td>\n",
       "      <td>0.313518</td>\n",
       "      <td>0.524494</td>\n",
       "    </tr>\n",
       "    <tr>\n",
       "      <th>Pollutants</th>\n",
       "      <td>-0.778329</td>\n",
       "      <td>0.615641</td>\n",
       "      <td>0.788221</td>\n",
       "      <td>0.724804</td>\n",
       "      <td>1.000000</td>\n",
       "      <td>-0.507749</td>\n",
       "      <td>-0.331551</td>\n",
       "      <td>0.222651</td>\n",
       "      <td>0.681891</td>\n",
       "    </tr>\n",
       "    <tr>\n",
       "      <th>Price</th>\n",
       "      <td>0.356001</td>\n",
       "      <td>-0.764235</td>\n",
       "      <td>-0.497990</td>\n",
       "      <td>-0.476373</td>\n",
       "      <td>-0.507749</td>\n",
       "      <td>1.000000</td>\n",
       "      <td>0.573617</td>\n",
       "      <td>-0.400168</td>\n",
       "      <td>-0.481263</td>\n",
       "    </tr>\n",
       "    <tr>\n",
       "      <th>Rooms</th>\n",
       "      <td>0.264504</td>\n",
       "      <td>-0.569461</td>\n",
       "      <td>-0.363347</td>\n",
       "      <td>-0.283590</td>\n",
       "      <td>-0.331551</td>\n",
       "      <td>0.573617</td>\n",
       "      <td>1.000000</td>\n",
       "      <td>-0.177152</td>\n",
       "      <td>-0.199818</td>\n",
       "    </tr>\n",
       "    <tr>\n",
       "      <th>Student_Teacher_Ratio</th>\n",
       "      <td>-0.324418</td>\n",
       "      <td>0.327751</td>\n",
       "      <td>0.334534</td>\n",
       "      <td>0.313518</td>\n",
       "      <td>0.222651</td>\n",
       "      <td>-0.400168</td>\n",
       "      <td>-0.177152</td>\n",
       "      <td>1.000000</td>\n",
       "      <td>0.441160</td>\n",
       "    </tr>\n",
       "    <tr>\n",
       "      <th>Tax_Rate</th>\n",
       "      <td>-0.574905</td>\n",
       "      <td>0.543084</td>\n",
       "      <td>0.708713</td>\n",
       "      <td>0.524494</td>\n",
       "      <td>0.681891</td>\n",
       "      <td>-0.481263</td>\n",
       "      <td>-0.199818</td>\n",
       "      <td>0.441160</td>\n",
       "      <td>1.000000</td>\n",
       "    </tr>\n",
       "  </tbody>\n",
       "</table>\n",
       "</div>"
      ],
      "text/plain": [
       "                       Distance_Office  Low_Income  Non_Retail  Old_Housing  \\\n",
       "Distance_Office               1.000000   -0.535466   -0.750789    -0.740335   \n",
       "Low_Income                   -0.535466    1.000000    0.615928     0.640729   \n",
       "Non_Retail                   -0.750789    0.615928    1.000000     0.664554   \n",
       "Old_Housing                  -0.740335    0.640729    0.664554     1.000000   \n",
       "Pollutants                   -0.778329    0.615641    0.788221     0.724804   \n",
       "Price                         0.356001   -0.764235   -0.497990    -0.476373   \n",
       "Rooms                         0.264504   -0.569461   -0.363347    -0.283590   \n",
       "Student_Teacher_Ratio        -0.324418    0.327751    0.334534     0.313518   \n",
       "Tax_Rate                     -0.574905    0.543084    0.708713     0.524494   \n",
       "\n",
       "                       Pollutants     Price     Rooms  Student_Teacher_Ratio  \\\n",
       "Distance_Office         -0.778329  0.356001  0.264504              -0.324418   \n",
       "Low_Income               0.615641 -0.764235 -0.569461               0.327751   \n",
       "Non_Retail               0.788221 -0.497990 -0.363347               0.334534   \n",
       "Old_Housing              0.724804 -0.476373 -0.283590               0.313518   \n",
       "Pollutants               1.000000 -0.507749 -0.331551               0.222651   \n",
       "Price                   -0.507749  1.000000  0.573617              -0.400168   \n",
       "Rooms                   -0.331551  0.573617  1.000000              -0.177152   \n",
       "Student_Teacher_Ratio    0.222651 -0.400168 -0.177152               1.000000   \n",
       "Tax_Rate                 0.681891 -0.481263 -0.199818               0.441160   \n",
       "\n",
       "                       Tax_Rate  \n",
       "Distance_Office       -0.574905  \n",
       "Low_Income             0.543084  \n",
       "Non_Retail             0.708713  \n",
       "Old_Housing            0.524494  \n",
       "Pollutants             0.681891  \n",
       "Price                 -0.481263  \n",
       "Rooms                 -0.199818  \n",
       "Student_Teacher_Ratio  0.441160  \n",
       "Tax_Rate               1.000000  "
      ]
     },
     "execution_count": 36,
     "metadata": {},
     "output_type": "execute_result"
    }
   ],
   "source": [
    "# features_selected.append('Price')\n",
    "features_selected = datatypes[datatypes!=\"object\"].index.difference(['Highway_Access_Encoded'])\n",
    "df1[features_selected].corr()"
   ]
  },
  {
   "cell_type": "code",
   "execution_count": null,
   "metadata": {
    "cell_id": "e254a84c046c462ba117a9c8fd398efe",
    "deepnote_cell_height": 509,
    "deepnote_cell_type": "code",
    "deepnote_output_heights": [
     358
    ],
    "deepnote_to_be_reexecuted": false,
    "execution_millis": 1364,
    "execution_start": 1650118180602,
    "source_hash": "4bd87076",
    "tags": []
   },
   "outputs": [
    {
     "data": {
      "image/png": "[encoded data removed]",
      "text/plain": [
       "<Figure size 432x288 with 2 Axes>"
      ]
     },
     "metadata": {
      "image/png": {
       "height": 356,
       "width": 453
      },
      "needs_background": "light"
     },
     "output_type": "display_data"
    }
   ],
   "source": [
    "import seaborn as sns\n",
    "r2 = df1[features_selected].corr()**2\n",
    "sns.heatmap(r2)\n",
    "plt.show()"
   ]
  },
  {
   "cell_type": "markdown",
   "metadata": {
    "cell_id": "bad6493e242744c1941e3ea6630f6f1a",
    "deepnote_cell_height": 178.34375,
    "deepnote_cell_type": "markdown",
    "tags": []
   },
   "source": [
    "Through the heatmap we may visually interpret that `Student_Teacher_Ratio` and `Distance_Office` have the lowest correlation to the price of homes, since they have the darkest-colored cells.\n",
    "\n",
    "We continue by selecting features based on a threshold value of 0.5. This means that we only select features that have a correlation greater than 0.5 with `Price`"
   ]
  },
  {
   "cell_type": "code",
   "execution_count": null,
   "metadata": {
    "cell_id": "2daa2f6eaedc460b9a29c733e76ffa5c",
    "deepnote_cell_height": 364.1875,
    "deepnote_cell_type": "code",
    "deepnote_to_be_reexecuted": false,
    "execution_millis": 302,
    "execution_start": 1650118181665,
    "source_hash": "4b92f2bb",
    "tags": []
   },
   "outputs": [
    {
     "name": "stdout",
     "output_type": "stream",
     "text": [
      "updated selected features: ['Low_Income', 'Pollutants', 'Rooms']\n"
     ]
    }
   ],
   "source": [
    "#Selecting features based on a threshold\n",
    "\n",
    "def corr_features(df, target, threshold):\n",
    "    corr_features = []\n",
    "    for feature in df.columns:\n",
    "        if feature==target: continue\n",
    "        x = df[feature]\n",
    "        y = df[target]\n",
    "        r2 = np.corrcoef(x,y)[0][1]\n",
    "        if abs(r2)>threshold:\n",
    "            corr_features.append(feature)\n",
    "    return corr_features\n",
    "\n",
    "features_selected = corr_features(df1[features_selected], 'Price', 0.5)\n",
    "print(f\"updated selected features: {features_selected}\")"
   ]
  },
  {
   "cell_type": "markdown",
   "metadata": {
    "cell_id": "8f6ca15c56214351af95a9e0043a34c8",
    "deepnote_cell_height": 141.953125,
    "deepnote_cell_type": "markdown",
    "tags": []
   },
   "source": [
    "We proceed to check that the selected features are not correlated to each other. Variables that have correlation between each other will not be included in our selected features as the variable will not be useful in determining the direction of change of `Price` as changes in the variable can be a result of another variable that it is correlated to and not `Price`"
   ]
  },
  {
   "cell_type": "code",
   "execution_count": null,
   "metadata": {
    "cell_id": "3cd3ee317d3e4f67b0c0baf65edf63cf",
    "deepnote_cell_height": 388,
    "deepnote_cell_type": "code",
    "deepnote_output_heights": [
     255
    ],
    "deepnote_to_be_reexecuted": false,
    "execution_millis": 307,
    "execution_start": 1650118181666,
    "source_hash": "c41de8af",
    "tags": []
   },
   "outputs": [
    {
     "data": {
      "image/png": "[encoded data removed]",
      "text/plain": [
       "<Figure size 432x288 with 2 Axes>"
      ]
     },
     "metadata": {
      "image/png": {
       "height": 253,
       "width": 350
      },
      "needs_background": "light"
     },
     "output_type": "display_data"
    }
   ],
   "source": [
    "r2 = df1[features_selected].corr()**2\n",
    "sns.heatmap(r2)\n",
    "plt.show()"
   ]
  },
  {
   "cell_type": "code",
   "execution_count": null,
   "metadata": {
    "cell_id": "e72fce7e008340a0a148cf6f3eff2123",
    "deepnote_cell_height": 313,
    "deepnote_cell_type": "code",
    "deepnote_to_be_reexecuted": false,
    "execution_millis": 58,
    "execution_start": 1650118181916,
    "source_hash": "a5615c85",
    "tags": []
   },
   "outputs": [
    {
     "data": {
      "application/vnd.deepnote.dataframe.v3+json": {
       "column_count": 3,
       "columns": [
        {
         "dtype": "float64",
         "name": "Low_Income",
         "stats": {
          "histogram": [
           {
            "bin_end": 0.6125145169717154,
            "bin_start": 0.5694605744130171,
            "count": 1
           },
           {
            "bin_end": 0.6555684595304136,
            "bin_start": 0.6125145169717154,
            "count": 1
           },
           {
            "bin_end": 0.698622402089112,
            "bin_start": 0.6555684595304136,
            "count": 0
           },
           {
            "bin_end": 0.7416763446478103,
            "bin_start": 0.698622402089112,
            "count": 0
           },
           {
            "bin_end": 0.7847302872065085,
            "bin_start": 0.7416763446478103,
            "count": 0
           },
           {
            "bin_end": 0.8277842297652068,
            "bin_start": 0.7847302872065085,
            "count": 0
           },
           {
            "bin_end": 0.8708381723239051,
            "bin_start": 0.8277842297652068,
            "count": 0
           },
           {
            "bin_end": 0.9138921148826034,
            "bin_start": 0.8708381723239051,
            "count": 0
           },
           {
            "bin_end": 0.9569460574413017,
            "bin_start": 0.9138921148826034,
            "count": 0
           },
           {
            "bin_end": 1,
            "bin_start": 0.9569460574413017,
            "count": 1
           }
          ],
          "max": "1.0",
          "min": "0.5694605744130171",
          "nan_count": 0,
          "unique_count": 3
         }
        },
        {
         "dtype": "float64",
         "name": "Pollutants",
         "stats": {
          "histogram": [
           {
            "bin_end": 0.39839622553293996,
            "bin_start": 0.3315513617032666,
            "count": 1
           },
           {
            "bin_end": 0.46524108936261327,
            "bin_start": 0.39839622553293996,
            "count": 0
           },
           {
            "bin_end": 0.5320859531922866,
            "bin_start": 0.46524108936261327,
            "count": 0
           },
           {
            "bin_end": 0.5989308170219599,
            "bin_start": 0.5320859531922866,
            "count": 0
           },
           {
            "bin_end": 0.6657756808516333,
            "bin_start": 0.5989308170219599,
            "count": 1
           },
           {
            "bin_end": 0.7326205446813066,
            "bin_start": 0.6657756808516333,
            "count": 0
           },
           {
            "bin_end": 0.7994654085109799,
            "bin_start": 0.7326205446813066,
            "count": 0
           },
           {
            "bin_end": 0.8663102723406533,
            "bin_start": 0.7994654085109799,
            "count": 0
           },
           {
            "bin_end": 0.9331551361703266,
            "bin_start": 0.8663102723406533,
            "count": 0
           },
           {
            "bin_end": 1,
            "bin_start": 0.9331551361703266,
            "count": 1
           }
          ],
          "max": "1.0",
          "min": "0.3315513617032666",
          "nan_count": 0,
          "unique_count": 3
         }
        },
        {
         "dtype": "float64",
         "name": "Rooms",
         "stats": {
          "histogram": [
           {
            "bin_end": 0.39839622553293996,
            "bin_start": 0.3315513617032666,
            "count": 1
           },
           {
            "bin_end": 0.46524108936261327,
            "bin_start": 0.39839622553293996,
            "count": 0
           },
           {
            "bin_end": 0.5320859531922866,
            "bin_start": 0.46524108936261327,
            "count": 0
           },
           {
            "bin_end": 0.5989308170219599,
            "bin_start": 0.5320859531922866,
            "count": 1
           },
           {
            "bin_end": 0.6657756808516333,
            "bin_start": 0.5989308170219599,
            "count": 0
           },
           {
            "bin_end": 0.7326205446813066,
            "bin_start": 0.6657756808516333,
            "count": 0
           },
           {
            "bin_end": 0.7994654085109799,
            "bin_start": 0.7326205446813066,
            "count": 0
           },
           {
            "bin_end": 0.8663102723406533,
            "bin_start": 0.7994654085109799,
            "count": 0
           },
           {
            "bin_end": 0.9331551361703266,
            "bin_start": 0.8663102723406533,
            "count": 0
           },
           {
            "bin_end": 1,
            "bin_start": 0.9331551361703266,
            "count": 1
           }
          ],
          "max": "1.0",
          "min": "0.3315513617032666",
          "nan_count": 0,
          "unique_count": 3
         }
        },
        {
         "dtype": "object",
         "name": "_deepnote_index_column"
        }
       ],
       "row_count": 3,
       "rows": [
        {
         "Low_Income": 1,
         "Pollutants": 0.6156405343669817,
         "Rooms": 0.5694605744130171,
         "_deepnote_index_column": "Low_Income"
        },
        {
         "Low_Income": 0.6156405343669817,
         "Pollutants": 1,
         "Rooms": 0.3315513617032666,
         "_deepnote_index_column": "Pollutants"
        },
        {
         "Low_Income": 0.5694605744130171,
         "Pollutants": 0.3315513617032666,
         "Rooms": 1,
         "_deepnote_index_column": "Rooms"
        }
       ]
      },
      "text/html": [
       "<div>\n",
       "<style scoped>\n",
       "    .dataframe tbody tr th:only-of-type {\n",
       "        vertical-align: middle;\n",
       "    }\n",
       "\n",
       "    .dataframe tbody tr th {\n",
       "        vertical-align: top;\n",
       "    }\n",
       "\n",
       "    .dataframe thead th {\n",
       "        text-align: right;\n",
       "    }\n",
       "</style>\n",
       "<table border=\"1\" class=\"dataframe\">\n",
       "  <thead>\n",
       "    <tr style=\"text-align: right;\">\n",
       "      <th></th>\n",
       "      <th>Low_Income</th>\n",
       "      <th>Pollutants</th>\n",
       "      <th>Rooms</th>\n",
       "    </tr>\n",
       "  </thead>\n",
       "  <tbody>\n",
       "    <tr>\n",
       "      <th>Low_Income</th>\n",
       "      <td>1.000000</td>\n",
       "      <td>0.615641</td>\n",
       "      <td>0.569461</td>\n",
       "    </tr>\n",
       "    <tr>\n",
       "      <th>Pollutants</th>\n",
       "      <td>0.615641</td>\n",
       "      <td>1.000000</td>\n",
       "      <td>0.331551</td>\n",
       "    </tr>\n",
       "    <tr>\n",
       "      <th>Rooms</th>\n",
       "      <td>0.569461</td>\n",
       "      <td>0.331551</td>\n",
       "      <td>1.000000</td>\n",
       "    </tr>\n",
       "  </tbody>\n",
       "</table>\n",
       "</div>"
      ],
      "text/plain": [
       "            Low_Income  Pollutants     Rooms\n",
       "Low_Income    1.000000    0.615641  0.569461\n",
       "Pollutants    0.615641    1.000000  0.331551\n",
       "Rooms         0.569461    0.331551  1.000000"
      ]
     },
     "execution_count": 40,
     "metadata": {},
     "output_type": "execute_result"
    }
   ],
   "source": [
    "abs(df1[features_selected].corr())"
   ]
  },
  {
   "cell_type": "code",
   "execution_count": null,
   "metadata": {
    "cell_id": "14175a8a5c0b4bed84e0f4a05defa204",
    "deepnote_cell_height": 580.1875,
    "deepnote_cell_type": "code",
    "deepnote_to_be_reexecuted": false,
    "execution_millis": 45,
    "execution_start": 1650118181929,
    "source_hash": "f33f7f54",
    "tags": []
   },
   "outputs": [
    {
     "name": "stdout",
     "output_type": "stream",
     "text": [
      "Final selected features : ['Pollutants', 'Rooms']\n"
     ]
    }
   ],
   "source": [
    "# get the feature that has the most number of features\n",
    "# it is correlated with, beyond certain threshold\n",
    "\n",
    "def most_corr_feature(df, threshold):\n",
    "    r2_matrix = abs(df.corr())\n",
    "    count = r2_matrix[r2_matrix>threshold].count()\n",
    "    return count.sort_values(ascending=False).index[0]\n",
    "\n",
    "# return true if all the features are uncorrelated,\n",
    "# as defined by a threshold\n",
    "\n",
    "def all_features_uncorr(df, threshold):\n",
    "    r2_matrix = abs(df.corr())\n",
    "    n = len(r2_matrix)\n",
    "    return r2_matrix[r2_matrix>threshold].count().sum()==n\n",
    "\n",
    "# get a set of uncorrelated features\n",
    "\n",
    "def get_uncorr_features(df, threshold):\n",
    "    features = df.columns.tolist()\n",
    "    while all_features_uncorr(df[features], threshold) == False:\n",
    "        most_corr_fea = most_corr_feature(df[features], threshold)\n",
    "        features.remove(most_corr_fea)\n",
    "    return features\n",
    "\n",
    "features_selected = get_uncorr_features(df1[features_selected], 0.5)\n",
    "print(f\"Final selected features : {features_selected}\")"
   ]
  },
  {
   "cell_type": "markdown",
   "metadata": {
    "cell_id": "eb003877dc2640ceb595f278d856dec3",
    "deepnote_cell_height": 119.5625,
    "deepnote_cell_type": "markdown",
    "tags": []
   },
   "source": [
    "`Low_Income` is removed from the the list of selected features as it has a correlation above 0.5 to both pollutants and rooms (as seen in the matrix above), while pollutants and rooms are not highly correlated (corr() > 0.5) to each other."
   ]
  },
  {
   "cell_type": "code",
   "execution_count": null,
   "metadata": {
    "cell_id": "6ecedff8b36841368f951d0418feea79",
    "deepnote_cell_height": 423,
    "deepnote_cell_type": "code",
    "deepnote_output_heights": [
     254
    ],
    "deepnote_to_be_reexecuted": false,
    "execution_millis": 228,
    "execution_start": 1650118181952,
    "source_hash": "c6c6245d",
    "tags": []
   },
   "outputs": [
    {
     "data": {
      "image/png": "[encoded data removed]",
      "text/plain": [
       "<Figure size 432x288 with 2 Axes>"
      ]
     },
     "metadata": {
      "image/png": {
       "height": 252,
       "width": 349
      },
      "needs_background": "light"
     },
     "output_type": "display_data"
    }
   ],
   "source": [
    "df1[features_selected+['Price']].corr()\n",
    "r2 = abs(df1[features_selected+['Price']].corr())\n",
    "sns.heatmap(r2)\n",
    "\n",
    "plt.show()"
   ]
  },
  {
   "cell_type": "code",
   "execution_count": null,
   "metadata": {
    "cell_id": "6b7407518caf49308ec9a5bd268b4972",
    "deepnote_cell_height": 136.1875,
    "deepnote_cell_type": "code",
    "deepnote_output_heights": [
     21.1875
    ],
    "deepnote_to_be_reexecuted": false,
    "execution_millis": 5,
    "execution_start": 1650118182182,
    "source_hash": "671df2c3",
    "tags": []
   },
   "outputs": [
    {
     "data": {
      "text/plain": [
       "['Pollutants', 'Rooms', 'Highway_Access_Encoded']"
      ]
     },
     "execution_count": 43,
     "metadata": {},
     "output_type": "execute_result"
    }
   ],
   "source": [
    "features_selected.insert(2,\"Highway_Access_Encoded\")\n",
    "features_selected"
   ]
  },
  {
   "cell_type": "markdown",
   "metadata": {
    "cell_id": "b53820906d384244b3bc7a2247bd7e65",
    "deepnote_cell_height": 52.390625,
    "deepnote_cell_type": "markdown",
    "tags": []
   },
   "source": [
    "**b.** Split the dataset into train and test sets. Describe how you split step by step."
   ]
  },
  {
   "cell_type": "markdown",
   "metadata": {
    "cell_id": "ef0fa76870a34e22b900014b78fd1f5d",
    "deepnote_cell_height": 119.5625,
    "deepnote_cell_type": "markdown",
    "tags": []
   },
   "source": [
    "We will build the regression model based on the features that we have selected: `Pollutants`, `Rooms` and `Highway_Access_Encoded`. We will split the dataset into train and test set randomly into 75/25 where 25% of the dataset will be used for model evaluation purposes."
   ]
  },
  {
   "cell_type": "code",
   "execution_count": null,
   "metadata": {
    "cell_id": "874aa6363e8d4709bac619e0ecddd0ee",
    "deepnote_cell_height": 225,
    "deepnote_cell_type": "code",
    "deepnote_to_be_reexecuted": false,
    "execution_millis": 215,
    "execution_start": 1650118182188,
    "source_hash": "bf3f961",
    "tags": []
   },
   "outputs": [],
   "source": [
    "#first, we import model_selection package from sklearn\n",
    "from sklearn.model_selection import train_test_split\n",
    "\n",
    "#secondly, we add the features selected, the predictors, to X\n",
    "#and Price, the response variable, to Y\n",
    "X = df1[features_selected]\n",
    "y = df1[[\"Price\"]]\n",
    "\n",
    "X_train, X_test, y_train, y_test = train_test_split(X, y, test_size=0.25, random_state=42)"
   ]
  },
  {
   "cell_type": "markdown",
   "metadata": {
    "cell_id": "6ea91d3f57b0400284c155a8ba3c7753",
    "deepnote_cell_height": 119.5625,
    "deepnote_cell_type": "markdown",
    "tags": []
   },
   "source": [
    "**c.** State the model(s) you will train, and explain your choice(s), in **no more than 50 words per model**. You only need to\n",
    "train one model, but if you do train more models, limit yourself to no more than three---Grading is based on the validity and soundness of your model, rather than the quantity."
   ]
  },
  {
   "cell_type": "markdown",
   "metadata": {
    "cell_id": "873997f5fdb04a539e21e53aac3ca76b",
    "deepnote_cell_height": 214.734375,
    "deepnote_cell_type": "markdown",
    "tags": []
   },
   "source": [
    "Referencing statology.org, the Ridge Regression model utilizes the bias-variance tradeoff to minimize variance, thus optimizing predictive ability rather than inference.(1)\n",
    "\n",
    "Our variables are not highly correlated, but we are still interested in investigating the Linear Regression model's ability to predict housing prices.\n",
    "\n",
    "We will be using Linear Regression and Ridge Regression to train our model, and we will pick the better one after testing."
   ]
  },
  {
   "cell_type": "markdown",
   "metadata": {
    "cell_id": "c161ca31309e4af59e7be973f5e490df",
    "deepnote_cell_height": 74.78125,
    "deepnote_cell_type": "markdown",
    "tags": []
   },
   "source": [
    "**d.** For each model, perform the training, and report the trained parameters and the training scores, if applicable. "
   ]
  },
  {
   "cell_type": "code",
   "execution_count": null,
   "metadata": {
    "cell_id": "fdd355404f7940af966a276b70959ace",
    "deepnote_cell_height": 822.4375,
    "deepnote_cell_type": "code",
    "deepnote_to_be_reexecuted": false,
    "execution_millis": 122,
    "execution_start": 1650118182409,
    "owner_user_id": "1516f7e7-bac6-4d96-ba8e-d50b3f91b72b",
    "source_hash": "f0d561",
    "tags": []
   },
   "outputs": [
    {
     "name": "stdout",
     "output_type": "stream",
     "text": [
      "Model : Linear Regression \n",
      "--------------------------\n",
      "Features : ['Pollutants', 'Rooms', 'Highway_Access_Encoded']\n",
      "Coefficients: [-16.99597274   6.78161578  -2.21674269]\n",
      "Intercept : -6.675332124695874\n",
      "Coeff of Determination : 0.4737507958229179\n",
      "\n",
      "Model 2: Ridge Regression\n",
      "-------------------------\n",
      "Features : ['Pollutants', 'Rooms', 'Highway_Access_Encoded']\n",
      "Coefficients: [-12.52748775   6.93729076  -2.66922977]\n",
      "Intercept : -9.187002043435761\n",
      "Coeff of Determination : 0.47113346414456103\n"
     ]
    }
   ],
   "source": [
    "from sklearn.linear_model import LinearRegression\n",
    "\n",
    "model1 = LinearRegression().fit(X_train, y_train)\n",
    "model1_r2 = model1.score(X_train, y_train)\n",
    "coef1 = model1.coef_\n",
    "bias1 = model1.intercept_\n",
    "\n",
    "print(\"Model : Linear Regression \")\n",
    "print(\"--------------------------\")\n",
    "print(f\"Features : {X_train.columns.tolist()}\")\n",
    "print(f\"Coefficients: {coef1[0]}\")\n",
    "print(f\"Intercept : {bias1[0]}\")\n",
    "print(f\"Coeff of Determination : {model1_r2}\")\n",
    "\n",
    "from sklearn.linear_model import Ridge\n",
    "\n",
    "model2 = Ridge().fit(X_train, y_train)\n",
    "model2_r2 = model2.score(X_train, y_train)\n",
    "coef2 = model2.coef_\n",
    "bias2 = model2.intercept_\n",
    "\n",
    "print(\"\\nModel 2: Ridge Regression\")\n",
    "print(\"-------------------------\")\n",
    "print(f\"Features : {X_train.columns.tolist()}\")\n",
    "print(f\"Coefficients: {coef2[0]}\")\n",
    "print(f\"Intercept : {bias2[0]}\")\n",
    "print(f\"Coeff of Determination : {model2_r2}\")"
   ]
  },
  {
   "cell_type": "markdown",
   "metadata": {
    "cell_id": "70de3f31eccb482c886d510c75ebda99",
    "deepnote_cell_height": 237.125,
    "deepnote_cell_type": "markdown",
    "tags": []
   },
   "source": [
    "Since the covariance of `Pollutants` and `Price` is negative, an increase in the concentration of pollutants will result in a decrease in the median price of homes.\n",
    "\n",
    "Since the covariance of `Rooms` and `Price` is positive, an increase in the number of rooms per unit will lead to an increase in the median price of homes.\n",
    "\n",
    "Since the covariance of `Highway_Access_Encoded` and `Price` is negative, the more accessible the town is from major highways, the lower the lower the median price of homes."
   ]
  },
  {
   "cell_type": "code",
   "execution_count": null,
   "metadata": {
    "cell_id": "f83ebe6c821a4312862430f5496cb82a",
    "deepnote_cell_height": 354.9375,
    "deepnote_cell_type": "code",
    "deepnote_to_be_reexecuted": false,
    "execution_millis": 246,
    "execution_start": 1650118224595,
    "source_hash": "365c2512",
    "tags": []
   },
   "outputs": [
    {
     "name": "stdout",
     "output_type": "stream",
     "text": [
      "Model 3: Random Forest (Selected Features)\n",
      "-------------------------\n",
      "Features : ['Pollutants', 'Rooms', 'Highway_Access_Encoded']\n",
      "Ranking of Features: [0.47386835 0.50706234 0.01906931]\n",
      "Coeff of Determination : 0.943881139318256\n"
     ]
    }
   ],
   "source": [
    "from sklearn.ensemble import RandomForestRegressor\n",
    "\n",
    "model3 = RandomForestRegressor(n_estimators = 100, random_state=42).fit(X_train, y_train.values.ravel())  # ravel() is to flatten\n",
    "model3_r2 = model3.score(X_train, y_train)\n",
    "\n",
    "print(\"Model 3: Random Forest (Selected Features)\")\n",
    "print(\"-------------------------\")\n",
    "print(f\"Features : {X_train.columns.tolist()}\")\n",
    "print(f\"Ranking of Features: {model3.feature_importances_}\")\n",
    "print(f\"Coeff of Determination : {model3_r2}\")"
   ]
  },
  {
   "cell_type": "markdown",
   "metadata": {
    "cell_id": "7f2cc9215eaa45bd9b2a174a4e870a47",
    "deepnote_cell_height": 407.859375,
    "deepnote_cell_type": "markdown",
    "tags": []
   },
   "source": [
    "Since our coefficient of determination is relatively low, we went to explore more on Random Forest Regression.\n",
    "\n",
    "Random Forest Regression is another supervised learning algorithm that uses multiple machine learning algorithm to sample out the best feature among the random subset of features, thus eventually ranking the features based on their importance using `feature_importance_` function. (2)\n",
    "\n",
    "In model 3 (Selected Features), we used the features that we have filtered out. The goodness of fit is significantly higher than that of Logistic or Ridge Regression, where the `Pollutants` and `Rooms` features plays an important weightage in this predictive model while the `Highway Access` has negligible impact.\n",
    "\n",
    "While it has a much higher Coefficient of determination, its inability to extrapolate beyond the range of housing prices present in the given data set inhibits its predictive ability. Hence we have opted to conduct testing on only model1 and model2. (3)"
   ]
  },
  {
   "cell_type": "markdown",
   "metadata": {
    "cell_id": "b910bfce3b1e48b2b237285ae855ea3d",
    "deepnote_cell_height": 94,
    "deepnote_cell_type": "markdown",
    "tags": []
   },
   "source": [
    "### 3. Model evaluation and selection [30% of Part II]"
   ]
  },
  {
   "cell_type": "markdown",
   "metadata": {
    "cell_id": "c274ab1bfed34b3ebc529b3643a730ee",
    "deepnote_cell_height": 52.390625,
    "deepnote_cell_type": "markdown",
    "tags": []
   },
   "source": [
    "**a.** For each model, predict the response variable on the test set."
   ]
  },
  {
   "cell_type": "code",
   "execution_count": null,
   "metadata": {
    "cell_id": "a2790b3b7efd4c0cbfa6d0e2a34d6394",
    "deepnote_cell_height": 744,
    "deepnote_cell_type": "code",
    "deepnote_output_heights": [
     611
    ],
    "deepnote_to_be_reexecuted": false,
    "execution_millis": 9,
    "execution_start": 1650118229437,
    "source_hash": "e55b5557",
    "tags": []
   },
   "outputs": [
    {
     "data": {
      "text/plain": [
       "array([[19.7670838 ],\n",
       "       [27.27082743],\n",
       "       [16.82110653],\n",
       "       [18.49072009],\n",
       "       [16.65658198],\n",
       "       [23.40848879],\n",
       "       [25.57852076],\n",
       "       [19.95672323],\n",
       "       [28.60295367],\n",
       "       [15.52756754],\n",
       "       [18.48451975],\n",
       "       [24.09317917],\n",
       "       [30.17335319],\n",
       "       [17.91201956],\n",
       "       [24.65135554],\n",
       "       [15.90625476],\n",
       "       [24.12473899],\n",
       "       [23.10306327],\n",
       "       [20.7021139 ],\n",
       "       [24.56531347],\n",
       "       [21.22806652],\n",
       "       [20.32067308],\n",
       "       [17.62711362],\n",
       "       [20.12526301],\n",
       "       [20.61093948],\n",
       "       [20.88605619],\n",
       "       [18.4641749 ],\n",
       "       [18.72497479],\n",
       "       [22.99547538],\n",
       "       [21.10139056],\n",
       "       [20.1553913 ],\n",
       "       [20.47003637],\n",
       "       [15.97942101],\n",
       "       [19.73251057],\n",
       "       [26.08042561],\n",
       "       [23.4731226 ],\n",
       "       [30.87428475],\n",
       "       [ 9.84036861],\n",
       "       [ 7.87154387],\n",
       "       [22.87272135],\n",
       "       [27.55999778],\n",
       "       [23.73408322],\n",
       "       [26.80447662],\n",
       "       [23.72697192],\n",
       "       [20.86931182],\n",
       "       [16.51366363],\n",
       "       [11.17109348],\n",
       "       [24.38864073],\n",
       "       [25.87674412],\n",
       "       [19.68796423],\n",
       "       [19.3112956 ],\n",
       "       [24.83371716],\n",
       "       [15.5696061 ],\n",
       "       [26.55321558],\n",
       "       [18.58566271],\n",
       "       [24.02100774],\n",
       "       [20.11588153],\n",
       "       [21.65112656],\n",
       "       [25.84291291],\n",
       "       [30.80395259],\n",
       "       [23.08757232],\n",
       "       [19.93955952],\n",
       "       [28.43884602],\n",
       "       [23.48952571],\n",
       "       [12.25757195],\n",
       "       [17.71761589],\n",
       "       [21.70386989],\n",
       "       [25.1221455 ],\n",
       "       [18.0103995 ],\n",
       "       [24.38687253],\n",
       "       [28.90192604],\n",
       "       [19.13639353],\n",
       "       [20.42649399],\n",
       "       [19.57134647],\n",
       "       [18.24122025],\n",
       "       [22.36128834],\n",
       "       [21.40003326],\n",
       "       [22.89953093],\n",
       "       [31.56031821],\n",
       "       [19.29847437],\n",
       "       [19.63078634],\n",
       "       [24.69279667],\n",
       "       [24.97411829],\n",
       "       [22.05424372],\n",
       "       [19.92164102],\n",
       "       [20.36922766],\n",
       "       [22.29705739],\n",
       "       [ 9.25714965],\n",
       "       [14.48848352],\n",
       "       [20.92532015],\n",
       "       [26.23314356],\n",
       "       [26.49395503],\n",
       "       [21.47990884],\n",
       "       [30.57598452],\n",
       "       [19.11504228],\n",
       "       [15.13850065],\n",
       "       [19.57687467],\n",
       "       [24.54117236],\n",
       "       [26.92955911],\n",
       "       [21.86872533],\n",
       "       [17.13272081],\n",
       "       [20.49104514],\n",
       "       [17.89987627],\n",
       "       [20.18302218],\n",
       "       [19.99623879],\n",
       "       [23.57459066],\n",
       "       [12.25462382],\n",
       "       [18.10450467],\n",
       "       [30.78151687]])"
      ]
     },
     "execution_count": 48,
     "metadata": {},
     "output_type": "execute_result"
    }
   ],
   "source": [
    "#Response variable for model 1\n",
    "y_pred = model1.predict(X_test)\n",
    "y_pred"
   ]
  },
  {
   "cell_type": "code",
   "execution_count": null,
   "metadata": {
    "cell_id": "fa652120c06440a99a272a3ce3a586d8",
    "deepnote_cell_height": 744,
    "deepnote_cell_type": "code",
    "deepnote_output_heights": [
     611
    ],
    "deepnote_to_be_reexecuted": false,
    "execution_millis": 138,
    "execution_start": 1650118236677,
    "source_hash": "8055c4a4",
    "tags": []
   },
   "outputs": [
    {
     "data": {
      "text/plain": [
       "array([[19.90151117],\n",
       "       [26.80498359],\n",
       "       [16.42147874],\n",
       "       [18.36749213],\n",
       "       [16.93991093],\n",
       "       [22.9673978 ],\n",
       "       [25.10783971],\n",
       "       [19.73110623],\n",
       "       [28.22113435],\n",
       "       [15.68128219],\n",
       "       [18.686678  ],\n",
       "       [23.60783599],\n",
       "       [30.16768755],\n",
       "       [18.12699494],\n",
       "       [24.6338713 ],\n",
       "       [15.89055878],\n",
       "       [23.91220384],\n",
       "       [22.59499154],\n",
       "       [20.56162857],\n",
       "       [24.49678188],\n",
       "       [21.05592695],\n",
       "       [20.06134894],\n",
       "       [17.45171669],\n",
       "       [19.62657273],\n",
       "       [20.42463349],\n",
       "       [20.65262063],\n",
       "       [18.66586613],\n",
       "       [19.05578461],\n",
       "       [22.86071476],\n",
       "       [21.0672435 ],\n",
       "       [20.48821922],\n",
       "       [20.19470638],\n",
       "       [16.52414763],\n",
       "       [19.55033303],\n",
       "       [26.70307569],\n",
       "       [22.92010076],\n",
       "       [30.90733653],\n",
       "       [11.13649348],\n",
       "       [ 7.89004614],\n",
       "       [23.42173716],\n",
       "       [27.68702086],\n",
       "       [23.59517719],\n",
       "       [26.84127686],\n",
       "       [23.23322229],\n",
       "       [20.61119871],\n",
       "       [16.76289408],\n",
       "       [11.23132792],\n",
       "       [23.85663501],\n",
       "       [25.43234346],\n",
       "       [20.0408799 ],\n",
       "       [19.20690431],\n",
       "       [24.20989704],\n",
       "       [15.26438138],\n",
       "       [27.01666653],\n",
       "       [18.4646142 ],\n",
       "       [23.64575644],\n",
       "       [19.91821126],\n",
       "       [21.18746315],\n",
       "       [25.69244644],\n",
       "       [31.12690797],\n",
       "       [22.89176357],\n",
       "       [19.7378417 ],\n",
       "       [28.51316393],\n",
       "       [23.39359211],\n",
       "       [12.57110283],\n",
       "       [17.57664098],\n",
       "       [21.41632808],\n",
       "       [24.4806532 ],\n",
       "       [17.74010379],\n",
       "       [24.36331696],\n",
       "       [28.85249831],\n",
       "       [19.25634313],\n",
       "       [20.39143029],\n",
       "       [19.28996258],\n",
       "       [18.34062075],\n",
       "       [22.24216238],\n",
       "       [21.34358986],\n",
       "       [22.3965043 ],\n",
       "       [31.48279368],\n",
       "       [19.80431084],\n",
       "       [19.44627367],\n",
       "       [25.16060048],\n",
       "       [24.58673562],\n",
       "       [22.43066063],\n",
       "       [19.83126048],\n",
       "       [20.28912167],\n",
       "       [21.6538762 ],\n",
       "       [10.53988647],\n",
       "       [14.09527889],\n",
       "       [20.85797951],\n",
       "       [26.451174  ],\n",
       "       [26.05400545],\n",
       "       [21.20666044],\n",
       "       [30.28804335],\n",
       "       [19.351109  ],\n",
       "       [15.66392358],\n",
       "       [18.95870591],\n",
       "       [24.71550422],\n",
       "       [27.01295839],\n",
       "       [21.3420361 ],\n",
       "       [17.26178615],\n",
       "       [20.44288734],\n",
       "       [18.34292874],\n",
       "       [20.54730212],\n",
       "       [19.90757068],\n",
       "       [23.53572068],\n",
       "       [13.60616899],\n",
       "       [18.02266325],\n",
       "       [30.95333954]])"
      ]
     },
     "execution_count": 49,
     "metadata": {},
     "output_type": "execute_result"
    }
   ],
   "source": [
    "#Response variable for model 2\n",
    "y_pred = model2.predict(X_test)\n",
    "y_pred"
   ]
  },
  {
   "cell_type": "markdown",
   "metadata": {
    "cell_id": "891cfe68add544babee5fa594d0a777c",
    "deepnote_cell_height": 74.78125,
    "deepnote_cell_type": "markdown",
    "tags": []
   },
   "source": [
    "**b.** Describe the metric you use to evaluate your model(s). Report the test scores for each model."
   ]
  },
  {
   "cell_type": "markdown",
   "metadata": {
    "cell_id": "6a22ba1390824931b6f20e4b2dfe4815",
    "deepnote_cell_height": 229.109375,
    "deepnote_cell_type": "markdown",
    "tags": []
   },
   "source": [
    "We will be using the following evaluation methods:\n",
    "\n",
    "`Mean Absolute Error (MAE)` is the mean of the absolute value of the errors:\n",
    "\n",
    "$$\\frac 1n\\sum_{i=1}^n|y_i-\\hat{y}_i|$$\n",
    "\n",
    "`Root Mean Squared Error (RMSE)` is the square root of the mean of the squared errors:\n",
    "\n",
    "$$\\sqrt{\\frac 1n\\sum_{i=1}^n(y_i-\\hat{y}_i)^2}$$"
   ]
  },
  {
   "cell_type": "code",
   "execution_count": null,
   "metadata": {
    "cell_id": "fcd0988a14344b56b4b5000d9490213b",
    "deepnote_cell_height": 908.0625,
    "deepnote_cell_type": "code",
    "deepnote_to_be_reexecuted": false,
    "execution_millis": 6,
    "execution_start": 1650118240463,
    "source_hash": "a0779994",
    "tags": []
   },
   "outputs": [
    {
     "name": "stdout",
     "output_type": "stream",
     "text": [
      "Model1 (Linear) Evaluation\n",
      "-----------------\n",
      "MAE: 3.35\n",
      "MAE as % of mean: 16.1%\n",
      "RMSE: 4.87\n",
      "\n",
      "Model 2 (Ridge) Evaluation\n",
      "-----------------\n",
      "MAE: 3.29\n",
      "MAE as % of mean: 15.8%\n",
      "RMSE: 4.86\n"
     ]
    }
   ],
   "source": [
    "from sklearn.metrics import mean_absolute_error\n",
    "from sklearn.metrics import mean_squared_error\n",
    "\n",
    "y_pred = model1.predict(X_test)\n",
    "\n",
    "mae = mean_absolute_error(y_test, y_pred)\n",
    "ave = np.mean(y_test[\"Price\"])\n",
    "rmse = mean_squared_error(y_test, y_pred, squared = False) \n",
    "\n",
    "print(\"Model1 (Linear) Evaluation\")\n",
    "print(\"-----------------\")\n",
    "print(f\"MAE: {mae:.2f}\")\n",
    "print(f\"MAE as % of mean: {mae/ave*100:.1f}%\")\n",
    "print(f\"RMSE: {rmse:.2f}\")\n",
    "\n",
    "\n",
    "## model 2 evaluation\n",
    "\n",
    "from sklearn.metrics import mean_absolute_error\n",
    "from sklearn.metrics import mean_squared_error\n",
    "\n",
    "# predict based on test set\n",
    "y_pred = model2.predict(X_test)\n",
    "\n",
    "# compare with ground truth\n",
    "mae = mean_absolute_error(y_test, y_pred)\n",
    "ave = np.mean(y_test[\"Price\"])\n",
    "rmse = mean_squared_error(y_test, y_pred, squared = False)  # setting squared = False returns the square-root \n",
    "\n",
    "print(\"\\nModel 2 (Ridge) Evaluation\")\n",
    "print(\"-----------------\")\n",
    "print(f\"MAE: {mae:.2f}\")\n",
    "print(f\"MAE as % of mean: {mae/ave*100:.1f}%\")\n",
    "print(f\"RMSE: {rmse:.2f}\")"
   ]
  },
  {
   "cell_type": "markdown",
   "metadata": {
    "cell_id": "2efc5a655af74fcb9ad8a50f607bf513",
    "deepnote_cell_height": 97.171875,
    "deepnote_cell_type": "markdown",
    "tags": []
   },
   "source": [
    "**c.** If you trained more than one model, identify the final model you would choose for the prediction task, and explain your choice, **in no more than 50 words**."
   ]
  },
  {
   "cell_type": "markdown",
   "metadata": {
    "cell_id": "d456fae8753247eaa0b2770b76dc5731",
    "deepnote_cell_height": 97.171875,
    "deepnote_cell_type": "markdown",
    "tags": []
   },
   "source": [
    "The final model we have chosen is Model2, since it has a lower MAE and RMSE, indicating a lower difference between paired observations and the testing data, which in turn reflects greater predictive ability."
   ]
  },
  {
   "cell_type": "markdown",
   "metadata": {
    "cell_id": "751937c50667419f8fbcf33fe3e0ed6d",
    "deepnote_cell_height": 62,
    "deepnote_cell_type": "markdown",
    "owner_user_id": "c3b446e6-3482-4534-9392-a6837ae8fda2",
    "tags": []
   },
   "source": [
    "### 4. Findings and conclusion [20% of Part II]"
   ]
  },
  {
   "cell_type": "markdown",
   "metadata": {
    "cell_id": "aef8c2ef164448e4ab8422dec67eab8a",
    "deepnote_cell_height": 97.171875,
    "deepnote_cell_type": "markdown",
    "tags": []
   },
   "source": [
    "**a.** Interpret what your model is implying, and summarize any insight you have drawn from the project. Explain if it is consistent with intuition, and if not, provide a plausible justification. Limit your entire response to **50 words**."
   ]
  },
  {
   "cell_type": "markdown",
   "metadata": {
    "cell_id": "9c59c040d4a94694ad46adaeabada432",
    "deepnote_cell_height": 192.34375,
    "deepnote_cell_type": "markdown",
    "tags": []
   },
   "source": [
    "Our model implies the following predictive model:\n",
    "\n",
    "Price = (-9.187) - 12.527 X Pollutants + 6.937 X Rooms - 2.669 X Highway_Access_Encoded\n",
    "\n",
    "\n",
    "Based on our model, we found that, on average, the prediction of the median price of homes is about $3290 (15.8%) from the mean. This means that the predictions are off by about 16% on average."
   ]
  },
  {
   "cell_type": "markdown",
   "metadata": {
    "cell_id": "27c6a6dadb034d059d4f93a01ddc8cba",
    "deepnote_cell_height": 74.78125,
    "deepnote_cell_type": "markdown",
    "tags": []
   },
   "source": [
    "**b.** Share any lesson you have learned from the project, in **no more than 50 words**."
   ]
  },
  {
   "cell_type": "markdown",
   "metadata": {
    "cell_id": "90f2e4a9130542a8b6dd80a4db1fc5ce",
    "deepnote_cell_height": 119.5625,
    "deepnote_cell_type": "markdown",
    "tags": []
   },
   "source": [
    "From the project, we learned that multiple variables of different data types can influence the value of a dependent variable - in this case, housing prices. We also learned how to select valid variables craft a predictive model using both Linear and Ridge Regression."
   ]
  },
  {
   "cell_type": "markdown",
   "metadata": {
    "cell_id": "992d0ae6766e4dfab8efd0d3f1df3554",
    "deepnote_cell_height": 62,
    "deepnote_cell_type": "markdown",
    "tags": []
   },
   "source": [
    "### 5. Non-technical protocol [5% of Part II]"
   ]
  },
  {
   "cell_type": "markdown",
   "metadata": {
    "cell_id": "ef7a83e3feeb46faaf6edbd835a7c7fa",
    "deepnote_cell_height": 97.171875,
    "deepnote_cell_type": "markdown",
    "tags": []
   },
   "source": [
    "**a.** Describe the detailed contribution of each team member, including both the tangible (e.g., implementation, testing, writing) and intangible (e.g., generating ideas, planning, leadership) efforts."
   ]
  },
  {
   "cell_type": "markdown",
   "metadata": {
    "cell_id": "cc6ad30c578349c39f0b31d591cbda3c",
    "deepnote_cell_height": 235.125,
    "deepnote_cell_type": "markdown",
    "tags": []
   },
   "source": [
    "1. Ng Zhi Hui Gerald: Generating ideas, Feature selection for categorical variables, editor, citations <br>\n",
    "2. Su Liheng Benjamin: Writing, Implementation  for numerical variables and testing, Research. <br>\n",
    "3. Seah Yi Niang: Implementation  for numerical variables and testing, Research, Conclusion.<br>\n",
    "4. Tan Yao Long: Leadership, feature selection for categorical variables, Brainstorming"
   ]
  },
  {
   "cell_type": "markdown",
   "metadata": {
    "cell_id": "3a70532d0a644992bcbb7312ea22c85e",
    "deepnote_cell_height": 52.390625,
    "deepnote_cell_type": "markdown",
    "tags": []
   },
   "source": [
    "**b.** List any references and sources you have cited."
   ]
  },
  {
   "cell_type": "markdown",
   "metadata": {
    "cell_id": "e83f17add2c04e4fbdb3c4a33afa6ebc",
    "deepnote_cell_height": 259.515625,
    "deepnote_cell_type": "markdown",
    "tags": []
   },
   "source": [
    "(1) \n",
    "Zach. (2021, August 26). When to use Ridge &amp; Lasso regression. Statology. Retrieved April 12, 2022, from https://www.statology.org/when-to-use-ridge-lasso-regression/ \n",
    "\n",
    "(2)\n",
    "Donges, N. (n.d.). A complete guide to the random forest algorithm. Built In. Retrieved April 14, 2022, from https://builtin.com/data-science/random-forest-algorithm \n",
    "\n",
    "(3) Bakshi, C. (2022, April 14). Random Forest regression. Medium. Retrieved April 14, 2022, from https://levelup.gitconnected.com/random-forest-regression-209c0f354c84 "
   ]
  },
  {
   "cell_type": "markdown",
   "metadata": {
    "created_in_deepnote_cell": true,
    "deepnote_cell_type": "markdown",
    "tags": []
   },
   "source": [
    "<a style='text-decoration:none;line-height:16px;display:flex;color:#5B5B62;padding:10px;justify-content:end;' href='https://deepnote.com?utm_source=created-in-deepnote-cell&projectId=b1fcf3f3-42ac-4a1a-92f5-07beb57a2968' target=\"_blank\">\n",
    "<img alt='Created in deepnote.com' style='display:inline;max-height:16px;margin:0px;margin-right:7.5px;' src='data:image/svg+xml;base64,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' > </img>\n",
    "Created in <span style='font-weight:600;margin-left:4px;'>Deepnote</span></a>"
   ]
  }
 ],
 "metadata": {
  "deepnote": {
   "is_reactive": false
  },
  "deepnote_execution_queue": [],
  "deepnote_notebook_id": "d50a3b5b-92eb-434b-b5db-8ff3b96aee4c",
  "kernelspec": {
   "display_name": "Python 3 (ipykernel)",
   "language": "python",
   "name": "python3"
  },
  "language_info": {
   "codemirror_mode": {
    "name": "ipython",
    "version": 3
   },
   "file_extension": ".py",
   "mimetype": "text/x-python",
   "name": "python",
   "nbconvert_exporter": "python",
   "pygments_lexer": "ipython3",
   "version": "3.9.7"
  }
 },
 "nbformat": 4,
 "nbformat_minor": 2
}
